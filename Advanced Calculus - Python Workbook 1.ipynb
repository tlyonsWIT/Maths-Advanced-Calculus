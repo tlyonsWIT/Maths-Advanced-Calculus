{
  "nbformat": 4,
  "nbformat_minor": 0,
  "metadata": {
    "anaconda-cloud": {},
    "kernelspec": {
      "display_name": "Python 3",
      "language": "python",
      "name": "python3"
    },
    "language_info": {
      "codemirror_mode": {
        "name": "ipython",
        "version": 3
      },
      "file_extension": ".py",
      "mimetype": "text/x-python",
      "name": "python",
      "nbconvert_exporter": "python",
      "pygments_lexer": "ipython3",
      "version": "3.8.3"
    },
    "colab": {
      "name": "Advanced Calculus - Python Workbook 1.ipynb",
      "provenance": [],
      "collapsed_sections": [
        "E2HIqSvLqFNf"
      ],
      "include_colab_link": true
    }
  },
  "cells": [
    {
      "cell_type": "markdown",
      "metadata": {
        "id": "view-in-github",
        "colab_type": "text"
      },
      "source": [
        "<a href=\"https://colab.research.google.com/github/tlyonsWIT/Maths-Advanced-Calculus/blob/master/Advanced%20Calculus%20-%20Python%20Workbook%201.ipynb\" target=\"_parent\"><img src=\"https://colab.research.google.com/assets/colab-badge.svg\" alt=\"Open In Colab\"/></a>"
      ]
    },
    {
      "cell_type": "markdown",
      "metadata": {
        "collapsed": true,
        "id": "c_3_zOKaqFM_"
      },
      "source": [
        "# Advanced Calculus 2021 - Jupyter Workbook 1\n",
        "\n",
        "\n",
        "# Introduction to 2D and 3D-vectors "
      ]
    },
    {
      "cell_type": "markdown",
      "metadata": {
        "id": "mmWPdMeCqFNH"
      },
      "source": [
        "## Calling the python libraries and functions\n",
        "\n",
        "\n",
        "* In the cell below the necessary Python libraries and functions are imported, which will be needed for the current work book\n"
      ]
    },
    {
      "cell_type": "code",
      "metadata": {
        "id": "7Qk8SxWnqFNJ"
      },
      "source": [
        "%matplotlib inline\n",
        "import matplotlib.pyplot as plt  ## Library of functions for 2D plotting\n",
        "from matplotlib import cm as cm  ## Library of functions for ColourMaps \n",
        "from mpl_toolkits.mplot3d import Axes3D ## Library of functions for 3D plotting\n",
        "\n",
        "import numpy as np ## Library of function for numerical work\n",
        "from numpy import abs, sin, cos, log, exp, tan, cosh, sinh, tanh ## Useful numerical function called from the NUMPY library"
      ],
      "execution_count": 2,
      "outputs": []
    },
    {
      "cell_type": "markdown",
      "metadata": {
        "id": "_kN4y9MPqFNL"
      },
      "source": [
        "# Vectors in 2D"
      ]
    },
    {
      "cell_type": "markdown",
      "metadata": {
        "id": "K1QRj0M_qFNL"
      },
      "source": [
        "* A vector in 2-dimensions (2D) is of the form\n",
        "$$\n",
        "\\vec{v}= v_1\\hat{\\imath}+v_{2}\\hat{\\jmath}.\n",
        "$$\n",
        "\n",
        "* The numbers $v_{1}$ and $v_{2}$ are called the __components__ of the vector $\\vec{v}$.\n",
        "\n",
        "\n",
        "* The vectors $\\hat{\\imath}$ and $\\hat{\\jmath}$ are called the __unit vectors__. These unit vectors can be used to constract every vector in 2D."
      ]
    },
    {
      "cell_type": "markdown",
      "metadata": {
        "id": "bkRmvkflqFNL"
      },
      "source": [
        "## Plotting vectors in 2D\n",
        "\n",
        "* A 2D vector can be plotted in 2-dimensions using the __matplotlib.pyplot__ functions __plot__ and __quiver__.\n",
        "\n",
        "## Example 1\n",
        "\n",
        "* Create a plot of the vectors $\\hat{\\imath}$, $\\hat{\\jmath}$ and\n",
        "$$\n",
        "\\vec{v} = -3.4\\hat{\\imath}+5.2\\hat{\\jmath}.\n",
        "$$\n",
        "#### Solution: \n",
        "\n",
        "* To do this we use the __quiver(a,b,v1,v2)__ function:\n",
        "    \n",
        "    *__a__ and __b__ are the coordinates of the tail of the vector.\n",
        "    \n",
        "    *__v1__ and __v2__ are the components of the vector.\n",
        "    \n",
        "\n",
        "* The vector $\\hat{\\imath}$ can be written as \n",
        "$$\n",
        "\\hat{\\imath}=1\\hat{\\imath}+0\\hat{\\jmath},\n",
        "$$\n",
        "so the vector has components $v_1=1$ and $v_2=0$.\n",
        "\n",
        "\n",
        "* Similarly, the vector $\\hat{\\jmath}$ has components $v_1=0$ and $v_2=1$."
      ]
    },
    {
      "cell_type": "markdown",
      "metadata": {
        "id": "daLiy8qYqFNM"
      },
      "source": [
        "### The plot of the vector $\\hat{\\jmath}$"
      ]
    },
    {
      "cell_type": "code",
      "metadata": {
        "colab": {
          "base_uri": "https://localhost:8080/",
          "height": 483
        },
        "id": "E9Mg7EoaqFNN",
        "outputId": "71655952-f6bf-43ac-f8d8-03da76786057"
      },
      "source": [
        "plt.figure(figsize=(8,8)) # Plot a figure 8cm x 8cm\n",
        "plt.quiver(0,0,0,1); # Plot a vector starting at "
      ],
      "execution_count": 3,
      "outputs": [
        {
          "output_type": "display_data",
          "data": {
            "image/png": "[encoded data removed]",
            "text/plain": [
              "<Figure size 576x576 with 1 Axes>"
            ]
          },
          "metadata": {
            "tags": [],
            "needs_background": "light"
          }
        }
      ]
    },
    {
      "cell_type": "markdown",
      "metadata": {
        "id": "XRe2tFQkqFNQ"
      },
      "source": [
        "* We see that this vector only points about $0.005$ units along the $y$-axis, instead of the $1$ unit is should.\n",
        "\n",
        "\n",
        "* This can be corrected by instructing __quiver()__ to use the same units of measure as the axes of the plot."
      ]
    },
    {
      "cell_type": "code",
      "metadata": {
        "colab": {
          "base_uri": "https://localhost:8080/",
          "height": 487
        },
        "id": "gqpVwfJVqFNR",
        "outputId": "c0179318-0794-4689-8a33-06f8521fe476"
      },
      "source": [
        "plt.figure(figsize=(8,8)) # Plot a figure 8cm x 8cm\n",
        "plt.quiver(0,0,0,1,angles='xy', scale_units='xy', scale=1) # Plot using natural uints\n",
        "\n",
        "plt.xlim([-2,2]); # Plot the x-axis from x=-2 to x=+2 \n",
        "plt.ylim([-2,2]); # Plot the y-axis from y=-2 to y=+2 "
      ],
      "execution_count": 4,
      "outputs": [
        {
          "output_type": "display_data",
          "data": {
            "image/png": "[encoded data removed]",
            "text/plain": [
              "<Figure size 576x576 with 1 Axes>"
            ]
          },
          "metadata": {
            "tags": [],
            "needs_background": "light"
          }
        }
      ]
    },
    {
      "cell_type": "markdown",
      "metadata": {
        "id": "DcvxOHZoqFNS"
      },
      "source": [
        "* Now we will plot all three vectors together, using a different colour for each vector."
      ]
    },
    {
      "cell_type": "code",
      "metadata": {
        "colab": {
          "base_uri": "https://localhost:8080/",
          "height": 487
        },
        "id": "RzBPGNIrqFNT",
        "outputId": "28301d03-0f04-497d-a83f-2c0f0c5fa9e0"
      },
      "source": [
        "plt.figure(figsize=(8,8)) # Plot a figure 8cm x 8cm\n",
        "plt.quiver(0,0,0,1,angles='xy', scale_units='xy', scale=1, color='red') # Plot using natural uints\n",
        "plt.quiver(0,0,1,0,angles='xy', scale_units='xy', scale=1,color='green') # Plot using natural uints\n",
        "plt.quiver(0,0,-3.4,5.2,angles='xy', scale_units='xy', scale=1,color='blue') # Plot using natural uints\n",
        "plt.xlim([-6,6]); # Plot the x-axis from x=-6 to x=+6 \n",
        "plt.ylim([-6,6]); # Plot the y-axis from y=-6 to y=+6 "
      ],
      "execution_count": 5,
      "outputs": [
        {
          "output_type": "display_data",
          "data": {
            "image/png": "[encoded data removed]",
            "text/plain": [
              "<Figure size 576x576 with 1 Axes>"
            ]
          },
          "metadata": {
            "tags": [],
            "needs_background": "light"
          }
        }
      ]
    },
    {
      "cell_type": "markdown",
      "metadata": {
        "id": "4YC8QBS0qFNU"
      },
      "source": [
        "## Exercise 1\n",
        "\n",
        "Plot the vectors \n",
        "$$\n",
        "\\vec{u}=4\\hat{\\imath}-2\\hat{\\jmath}\\qquad \\vec{v}=\\hat{\\imath}+3\\hat{\\jmath}\\qquad \\vec{w}=-3\\hat{\\imath}+7\\hat{\\jmath}.\n",
        "$$\n",
        "using the __quiver()__ function."
      ]
    },
    {
      "cell_type": "code",
      "metadata": {
        "id": "kz1n2VuuqFNU"
      },
      "source": [
        ""
      ],
      "execution_count": null,
      "outputs": []
    },
    {
      "cell_type": "code",
      "metadata": {
        "id": "IRbeDaf6qFNU"
      },
      "source": [
        ""
      ],
      "execution_count": null,
      "outputs": []
    },
    {
      "cell_type": "markdown",
      "metadata": {
        "id": "6Gu_RzhyqFNV"
      },
      "source": [
        "# Vectors between points\n",
        "\n",
        "* Given the points $P(a,b)$ and $R(x,y)$, the vector pointing from $P$ to $R$ is given by\n",
        "$$\n",
        "\\overrightarrow{PR}= (x-a)\\hat{\\imath}+(y-b)\\hat{\\jmath}.\n",
        "$$\n",
        "\n",
        "* The components are found by subtracting the coordinates of the start-point from the coordinates of the end-point of the vector."
      ]
    },
    {
      "cell_type": "markdown",
      "metadata": {
        "id": "XeE_ofqPqFNW"
      },
      "source": [
        "## Example 2\n",
        "\n",
        "(a) Find the components of the vector pointing from $P(-1.3,5.6)$ to $R(4.2,8.8)$.\n",
        "\n",
        "(b) Plot the vector using __quiver()__."
      ]
    },
    {
      "cell_type": "markdown",
      "metadata": {
        "id": "XxyZjjBaqFNW"
      },
      "source": [
        "### Part (a) \n",
        "\n",
        "* The components of the vector are:"
      ]
    },
    {
      "cell_type": "code",
      "metadata": {
        "id": "ct4azZgaqFNW"
      },
      "source": [
        "PR1=4.2-(-1.3)\n",
        "PR2=8.8-5.6"
      ],
      "execution_count": 6,
      "outputs": []
    },
    {
      "cell_type": "markdown",
      "metadata": {
        "id": "25LeAWUzqFNX"
      },
      "source": [
        "* To print these values just call them in a cell"
      ]
    },
    {
      "cell_type": "code",
      "metadata": {
        "colab": {
          "base_uri": "https://localhost:8080/"
        },
        "id": "dOrbWSWqqFNX",
        "outputId": "e29ca6dc-a732-458d-a2b1-dc14e2f7769e"
      },
      "source": [
        "PR1, PR2"
      ],
      "execution_count": 7,
      "outputs": [
        {
          "output_type": "execute_result",
          "data": {
            "text/plain": [
              "(5.5, 3.200000000000001)"
            ]
          },
          "metadata": {
            "tags": []
          },
          "execution_count": 7
        }
      ]
    },
    {
      "cell_type": "markdown",
      "metadata": {
        "id": "gyBdHeECqFNX"
      },
      "source": [
        "### Part (b) \n",
        "\n",
        "* The plot of the vector is given by:"
      ]
    },
    {
      "cell_type": "code",
      "metadata": {
        "colab": {
          "base_uri": "https://localhost:8080/",
          "height": 487
        },
        "id": "nstm3nyXqFNX",
        "outputId": "62242c19-5bb1-4216-c605-deb55ccfec20"
      },
      "source": [
        "plt.figure(figsize=(8,8)) # Plot a figure 8cm x 8cm\n",
        "plt.quiver(-1.3,5.6,PR1,PR2,angles='xy', scale_units='xy', scale=1, color='red') # Plot using natural uints\n",
        "plt.xlim([-2,10]); # Plot the x-axis from x=-6 to x=+6 \n",
        "plt.ylim([0,10]); # Plot the y-axis from y=-6 to y=+6 "
      ],
      "execution_count": 8,
      "outputs": [
        {
          "output_type": "display_data",
          "data": {
            "image/png": "[encoded data removed]",
            "text/plain": [
              "<Figure size 576x576 with 1 Axes>"
            ]
          },
          "metadata": {
            "tags": [],
            "needs_background": "light"
          }
        }
      ]
    },
    {
      "cell_type": "markdown",
      "metadata": {
        "id": "GUFbeX8KqFNY"
      },
      "source": [
        "## Exercise 2\n",
        "\n",
        "(a) Find the vector compoonents between the following pairs of points\n",
        "\n",
        "   (1) $A(-3,4)$ & $B(4,5)$\n",
        "    \n",
        "   (2) $L(1.3,4.1)$ & $M(-2.2, 5.7)$\n",
        "    \n",
        "   (3) $P(-13.7,12.7)$ & $Q(8.7,-9.8)$"
      ]
    },
    {
      "cell_type": "code",
      "metadata": {
        "id": "T0NB_UKWqFNZ"
      },
      "source": [
        ""
      ],
      "execution_count": null,
      "outputs": []
    },
    {
      "cell_type": "code",
      "metadata": {
        "id": "TV2X6TTPqFNZ"
      },
      "source": [
        ""
      ],
      "execution_count": null,
      "outputs": []
    },
    {
      "cell_type": "code",
      "metadata": {
        "id": "c_51S1kEqFNa"
      },
      "source": [
        ""
      ],
      "execution_count": null,
      "outputs": []
    },
    {
      "cell_type": "markdown",
      "metadata": {
        "id": "87LN33zCqFNa"
      },
      "source": [
        "(b) Plot each of these vectors using __quiver()__"
      ]
    },
    {
      "cell_type": "code",
      "metadata": {
        "id": "UbpivAPJqFNa"
      },
      "source": [
        ""
      ],
      "execution_count": null,
      "outputs": []
    },
    {
      "cell_type": "code",
      "metadata": {
        "id": "WY9ujiyfqFNb"
      },
      "source": [
        ""
      ],
      "execution_count": null,
      "outputs": []
    },
    {
      "cell_type": "code",
      "metadata": {
        "id": "t8uww5aeqFNb"
      },
      "source": [
        ""
      ],
      "execution_count": null,
      "outputs": []
    },
    {
      "cell_type": "markdown",
      "metadata": {
        "id": "JCNWlj0dqFNb"
      },
      "source": [
        "# Perpendicular vectors"
      ]
    },
    {
      "cell_type": "markdown",
      "metadata": {
        "id": "0KM5Pwp_qFNb"
      },
      "source": [
        "* Given the vector \n",
        "$$\n",
        "\\vec{v} = v_{1}\\hat{\\imath}+v_{2}+\\hat{\\jmath},\n",
        "$$\n",
        "the vectors perpendicular to this vector are \n",
        "$$\n",
        "\\vec{v}^{\\perp} = v_{2}\\hat{\\imath}-v_{1}+\\hat{\\jmath},$$\n",
        "and \n",
        "$$\n",
        "\\vec{v}^{\\perp} = -v_{2}\\hat{\\imath}+v_{1}+\\hat{\\jmath}.\n",
        "$$"
      ]
    },
    {
      "cell_type": "markdown",
      "metadata": {
        "id": "A5thp-pqqFNb"
      },
      "source": [
        "## Example 3\n",
        "\n",
        "* Plot the vector \n",
        "\n",
        "\\\\[\\vec{u}= 4\\hat{\\imath}-6\\hat{\\jmath}.\\\\]\n",
        "\n",
        "* Plot __both__ vectors perpendicular to this vector."
      ]
    },
    {
      "cell_type": "code",
      "metadata": {
        "colab": {
          "base_uri": "https://localhost:8080/",
          "height": 487
        },
        "id": "twUSkidsqFNc",
        "outputId": "bcb23d02-a726-4294-ce02-32a744bab3b3"
      },
      "source": [
        "plt.figure(figsize=(8,8)) # Plot a figure 8cm x 8cm\n",
        "plt.quiver(0,0,4,-6,angles='xy', scale_units='xy', scale=1, color='red') # The vector u\n",
        "plt.quiver(0,0,6,4,angles='xy', scale_units='xy', scale=1,color='green') # A perpendicular vector\n",
        "plt.quiver(0,0,-6,-4,angles='xy', scale_units='xy', scale=1,color='blue') # A perpendicular vector\n",
        "plt.xlim([-10,10]); # Plot the x-axis from x=-6 to x=+6 \n",
        "plt.ylim([-10,10]); # Plot the y-axis from y=-6 to y=+6 "
      ],
      "execution_count": 9,
      "outputs": [
        {
          "output_type": "display_data",
          "data": {
            "image/png": "[encoded data removed]",
            "text/plain": [
              "<Figure size 576x576 with 1 Axes>"
            ]
          },
          "metadata": {
            "tags": [],
            "needs_background": "light"
          }
        }
      ]
    },
    {
      "cell_type": "markdown",
      "metadata": {
        "id": "5PQJ5ZjwqFNc"
      },
      "source": [
        "* The vector $\\vec{u}$ is shown in __red.__\n",
        "\n",
        "\n",
        "* The perpendicular vectors are shown in __blue__ and __green.__"
      ]
    },
    {
      "cell_type": "code",
      "metadata": {
        "id": "zJhiu09nqFNd"
      },
      "source": [
        ""
      ],
      "execution_count": null,
      "outputs": []
    },
    {
      "cell_type": "markdown",
      "metadata": {
        "id": "EkHl31tgqFNd"
      },
      "source": [
        "## Exercise 3\n",
        "\n",
        "* Find both vectors perpendicular to \n",
        "$$\n",
        "\\vec{r}=-5.4\\hat{\\imath}+4.7\\hat{\\jmath}.\n",
        "$$\n",
        "\n",
        "\n",
        "* Plot all three vectors using __quiver().__"
      ]
    },
    {
      "cell_type": "code",
      "metadata": {
        "id": "qgEkUdt9qFNe"
      },
      "source": [
        ""
      ],
      "execution_count": null,
      "outputs": []
    },
    {
      "cell_type": "code",
      "metadata": {
        "id": "OU0f-dYGqFNe"
      },
      "source": [
        ""
      ],
      "execution_count": null,
      "outputs": []
    },
    {
      "cell_type": "code",
      "metadata": {
        "id": "jPQlQwMnqFNe"
      },
      "source": [
        ""
      ],
      "execution_count": null,
      "outputs": []
    },
    {
      "cell_type": "markdown",
      "metadata": {
        "id": "ALHG_VG0qFNe"
      },
      "source": [
        "# Vectors in 3D\n",
        "\n",
        "\n",
        "* We can also use a similar version of the __quiver()__ function to plot vectors in 3D.\n",
        "\n",
        "\n",
        "* We cannot set the scale of the vectors in the same way, however it is still usefule visualising 3D vectors.\n",
        "\n",
        "\n",
        "* There is slightly more work in setting up the 3D plot, which we through in __Example 4__ below."
      ]
    },
    {
      "cell_type": "markdown",
      "metadata": {
        "id": "cOMtI_GuqFNe"
      },
      "source": [
        "## Example 4"
      ]
    },
    {
      "cell_type": "markdown",
      "metadata": {
        "id": "-a0qQ0MsqFNe"
      },
      "source": [
        "* Plot the vector\n",
        "\\\\[\\vec{w}=-2\\hat{\\imath}+5\\hat{\\jmath}+2\\hat{k}\\\\]\n",
        "starting at the point $P(0,2,3)$."
      ]
    },
    {
      "cell_type": "markdown",
      "metadata": {
        "id": "E2HIqSvLqFNf"
      },
      "source": [
        "#### Notes:\n",
        "\n",
        "* The unit vector $\\hat{k}$ is the unit vector pointing along the $z$-axis.\n",
        "\n",
        "* The end-point of the vector will be\n",
        "$$\n",
        "Q(0-2,2+5,3+2)=Q(-2,7,5).\n",
        "$$\n",
        "* This means the $x$-axis of the plot shoul be __at least__ [-2,0].\n",
        "\n",
        "* The $y$-axis should be __at least__ [2,7].\n",
        "\n",
        "* The $z$-axis should be __at least__ [3,5].\n"
      ]
    },
    {
      "cell_type": "code",
      "metadata": {
        "id": "Vv-3iGdPqFNf",
        "outputId": "334afe78-e0eb-44cd-e988-532d4bcebf47"
      },
      "source": [
        "fig=plt.figure() # Create a figure environment\n",
        "ax=fig.add_subplot(111,projection='3d') # Instruct Python this figure should be 3-dimensional\n",
        "\n",
        "\n",
        "\n",
        "ax.quiver(0,2,3,-2,5,2)\n",
        "\n",
        "\n",
        "\n",
        "\n",
        "\n",
        "ax.set_xlabel('$x$') # Label the x-axis\n",
        "ax.set_ylabel('$y$') # Label the y-axis\n",
        "ax.set_zlabel('$z$') # Label the z-axis\n",
        "\n",
        "\n",
        "ax.set_xlim(-3,1) # Set the start and end point of the x-axis\n",
        "ax.set_ylim(1,8) # Set the start and end point of the y-axis\n",
        "ax.set_zlim(2,6) # Set the start and end point of the z-axis\n",
        "\n",
        "ax.view_init(20,40) # Change the viewing agnle of the plot\n",
        "\n"
      ],
      "execution_count": null,
      "outputs": [
        {
          "output_type": "display_data",
          "data": {
            "image/png": "[encoded data removed]",
            "text/plain": [
              "<matplotlib.figure.Figure at 0x7f8268c14c88>"
            ]
          },
          "metadata": {
            "tags": []
          }
        }
      ]
    },
    {
      "cell_type": "code",
      "metadata": {
        "id": "DUdXgtKMqFNf"
      },
      "source": [
        ""
      ],
      "execution_count": null,
      "outputs": []
    },
    {
      "cell_type": "markdown",
      "metadata": {
        "id": "oKwnS5RHqFNg"
      },
      "source": [
        "## Exercise 4\n",
        "\n",
        "* Plot the vector \n",
        "$$\n",
        "\\vec{u}=3\\hat{\\imath}-4\\hat{\\jmath}+8\\hat{k},\n",
        "$$\n",
        "starting at the point $R(-3,3,1)$."
      ]
    },
    {
      "cell_type": "code",
      "metadata": {
        "id": "o7WJlNsFqFNg"
      },
      "source": [
        ""
      ],
      "execution_count": null,
      "outputs": []
    },
    {
      "cell_type": "markdown",
      "metadata": {
        "id": "HtdEbldLqFNg"
      },
      "source": [
        "# The cross-product\n",
        "\n",
        "* This is a kind of product between two vectors, and is only defined in 3D.\n",
        "\n",
        "\n",
        "* The cross product of \n",
        "$$\n",
        "\\vec{u}=u_1\\hat{\\imath}+u_2\\hat{\\jmath}+u_3\\hat{k}\n",
        "$$\n",
        "\n",
        "and\n",
        "\n",
        "$$\n",
        "\\vec{v}=v_1\\hat{\\imath}+v_2\\hat{\\jmath}+v_3\\hat{k}.\n",
        "$$\n",
        "\n",
        "is given by\n",
        "\n",
        "$$\n",
        "\\vec{u}\\times\\vec{v}=\\det\\begin{pmatrix}\n",
        "                          \\hat{\\imath}&\\hat{\\jmath}&\\hat{k}\\\\   \n",
        "                          u_1 & u_2 & u_3 \\\\\n",
        "                          v_1 & v_2 & v_3\n",
        "                        \\end{pmatrix}.\n",
        "$$\n",
        "                        \n",
        "### Note:\n",
        "\n",
        "* This will be covered further during lectures."
      ]
    },
    {
      "cell_type": "markdown",
      "metadata": {
        "id": "nr5lwj-2qFNi"
      },
      "source": [
        "## The cross-product in Python\n",
        "\n",
        "* The corss product of two-vectors can be calculated using the __Numpy__ function __cross().__"
      ]
    },
    {
      "cell_type": "markdown",
      "metadata": {
        "id": "lNMtrfYqqFNi"
      },
      "source": [
        "## Example 5\n",
        "\n",
        "* Calculate the cross-product of the vectors\n",
        "$$\n",
        "\\vec{u}=-4.3\\hat{\\imath}+3.1\\hat{\\jmath}+5.2\\hat{k}\n",
        "$$\n",
        "\n",
        "and \n",
        "$$\n",
        "\\vec{v}=1.1\\hat{\\imath}-3.3\\hat{\\jmath}+1.6\\hat{k}.\n",
        "$$\n",
        "\n",
        "* Plot the vectors $\\vec{u}$, $\\vec{v}$ and $\\vec{u}\\times\\vec{v}$ using __quiver().__"
      ]
    },
    {
      "cell_type": "markdown",
      "metadata": {
        "id": "JtoLvqcmqFNi"
      },
      "source": [
        "### Solution\n",
        "\n",
        "\n",
        "* The vectors $\\vec{u}$ and $\\vec{v}$ are "
      ]
    },
    {
      "cell_type": "code",
      "metadata": {
        "colab": {
          "base_uri": "https://localhost:8080/"
        },
        "id": "U5kjL_y4qFNi",
        "outputId": "34c76ae8-c48d-4dbc-bc00-8678bd93ba07"
      },
      "source": [
        "u=[-4.3,3.1,5.2]\n",
        "\n",
        "v=[1.1,-3.3,1.6]\n",
        "u, v"
      ],
      "execution_count": 10,
      "outputs": [
        {
          "output_type": "execute_result",
          "data": {
            "text/plain": [
              "([-4.3, 3.1, 5.2], [1.1, -3.3, 1.6])"
            ]
          },
          "metadata": {
            "tags": []
          },
          "execution_count": 10
        }
      ]
    },
    {
      "cell_type": "markdown",
      "metadata": {
        "id": "sImxPzWvqFNi"
      },
      "source": [
        "* The __cross-product__ of the vectors is"
      ]
    },
    {
      "cell_type": "code",
      "metadata": {
        "colab": {
          "base_uri": "https://localhost:8080/"
        },
        "id": "BIfjtdVvqFNj",
        "outputId": "b3610de6-e065-4bdf-fa3f-72e2f866dc72"
      },
      "source": [
        "uxv=np.cross(u,v)\n",
        "uxv"
      ],
      "execution_count": 11,
      "outputs": [
        {
          "output_type": "execute_result",
          "data": {
            "text/plain": [
              "array([22.12, 12.6 , 10.78])"
            ]
          },
          "metadata": {
            "tags": []
          },
          "execution_count": 11
        }
      ]
    },
    {
      "cell_type": "markdown",
      "metadata": {
        "id": "BnhTnIJrqFNk"
      },
      "source": [
        "* We see that $\\vec{u}\\times\\vec{v}$ is another __3D vector__  given by\n",
        "$$\n",
        "\\vec{u}\\times \\vec{v} = 22.12\\hat{\\imath}+12.6\\hat{\\jmath}+10.78\\hat{k}.\n",
        "$$"
      ]
    },
    {
      "cell_type": "markdown",
      "metadata": {
        "id": "H4Oir3KTqFNk"
      },
      "source": [
        "### The plot of the 3 vectors"
      ]
    },
    {
      "cell_type": "code",
      "metadata": {
        "colab": {
          "base_uri": "https://localhost:8080/",
          "height": 248
        },
        "id": "W_MK26rTqFNk",
        "outputId": "083bc9e3-e4a2-4c1f-fb05-d96f538d543c"
      },
      "source": [
        "fig=plt.figure() # Create a figure environment\n",
        "ax=fig.add_subplot(111,projection='3d') # Instruct Python this figure should be 3-dimensional\n",
        "\n",
        "\n",
        "\n",
        "ax.quiver(0,0,0,-4.3,3.1,5.2,color='red') #The vector u in red\n",
        "\n",
        "ax.quiver(0,0,0,1.1,-3.3,1.6,color='blue') #The vector v in blue\n",
        "\n",
        "ax.quiver(0,0,0,22.12,12.6,10.78,color='black') #The vector uxv in black\n",
        "\n",
        "ax.set_xlabel('$x$',size=14) # Label the x-axis\n",
        "ax.set_ylabel('$y$',size=14) # Label the y-axis\n",
        "ax.set_zlabel('$z$',size=14) # Label the z-axis\n",
        "\n",
        "\n",
        "ax.set_xlim([-10,20]) # Set the start and end point of the x-axis\n",
        "ax.set_ylim([-10,20]) # Set the start and end point of the y-axis\n",
        "ax.set_zlim([-10,10]) # Set the start and end point of the z-axis\n",
        "\n",
        "ax.view_init(50,10) # Change the viewing angle of the plot"
      ],
      "execution_count": 12,
      "outputs": [
        {
          "output_type": "display_data",
          "data": {
            "image/png": "[encoded data removed]",
            "text/plain": [
              "<Figure size 432x288 with 1 Axes>"
            ]
          },
          "metadata": {
            "tags": [],
            "needs_background": "light"
          }
        }
      ]
    },
    {
      "cell_type": "markdown",
      "metadata": {
        "id": "HmD_0SlEqFNk"
      },
      "source": [
        "* We see that $\\vec{u}\\times\\vec{v}$ is __perpendicular__ to both $\\vec{u}$ and $\\vec{v}$. This is __always__ the case."
      ]
    },
    {
      "cell_type": "code",
      "metadata": {
        "id": "tNt73QdAqFNk"
      },
      "source": [
        ""
      ],
      "execution_count": 11,
      "outputs": []
    },
    {
      "cell_type": "markdown",
      "metadata": {
        "id": "bHGmUGKsqFNl"
      },
      "source": [
        "## Exercise 5\n",
        "\n",
        "* Find the cross product of the vectors \n",
        "\n",
        "\\\\[\\vec{u}=1.8\\hat{\\imath}+2.1\\hat{\\jmath}-.3.4\\hat{k}\\\\]\n",
        "\n",
        "and \n",
        "\n",
        "\\\\[\\vec{v}=2.4\\hat{\\imath}-5.1\\hat{\\jmath}-3.6\\hat{k}.\\\\]\n",
        "\n",
        "\n",
        "\n",
        "* Plot all three vectors $\\vec{u}$, $\\vec{v}$ and $\\vec{u}\\times\\vec{v}$ using __quiver().__ \n",
        "\n",
        "\n",
        "* Find the best viewing angle by trial and error, to show $\\vec{u}\\times\\vec{v}$ is perpendicular to $\\vec{u}$ and $\\vec{v}$."
      ]
    },
    {
      "cell_type": "code",
      "metadata": {
        "id": "zfbwTOjhqFNm"
      },
      "source": [
        ""
      ],
      "execution_count": null,
      "outputs": []
    },
    {
      "cell_type": "code",
      "metadata": {
        "id": "y7HmBI4wqFNm"
      },
      "source": [
        ""
      ],
      "execution_count": null,
      "outputs": []
    },
    {
      "cell_type": "code",
      "metadata": {
        "id": "smvT7CMcqFNm"
      },
      "source": [
        ""
      ],
      "execution_count": null,
      "outputs": []
    },
    {
      "cell_type": "code",
      "metadata": {
        "id": "hdjDr-dIqFNm"
      },
      "source": [
        ""
      ],
      "execution_count": null,
      "outputs": []
    }
  ]
}