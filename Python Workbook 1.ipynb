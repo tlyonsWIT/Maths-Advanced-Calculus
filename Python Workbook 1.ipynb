{
  "nbformat": 4,
  "nbformat_minor": 0,
  "metadata": {
    "anaconda-cloud": {},
    "kernelspec": {
      "display_name": "Python 3",
      "language": "python",
      "name": "python3"
    },
    "language_info": {
      "codemirror_mode": {
        "name": "ipython",
        "version": 3
      },
      "file_extension": ".py",
      "mimetype": "text/x-python",
      "name": "python",
      "nbconvert_exporter": "python",
      "pygments_lexer": "ipython3",
      "version": "3.8.3"
    },
    "colab": {
      "name": "Python Workbook 1.ipynb",
      "provenance": [],
      "collapsed_sections": [
        "E2HIqSvLqFNf"
      ],
      "include_colab_link": true
    },
    "widgets": {
      "application/vnd.jupyter.widget-state+json": {
        "31eecd40f1104484a8984f5b7b8e23a6": {
          "model_module": "@jupyter-widgets/controls",
          "model_name": "VBoxModel",
          "state": {
            "_view_name": "VBoxView",
            "_dom_classes": [
              "widget-interact"
            ],
            "_model_name": "VBoxModel",
            "_view_module": "@jupyter-widgets/controls",
            "_model_module_version": "1.5.0",
            "_view_count": null,
            "_view_module_version": "1.5.0",
            "box_style": "",
            "layout": "IPY_MODEL_ca306a4ab45341319b6e908e21d7f786",
            "_model_module": "@jupyter-widgets/controls",
            "children": [
              "IPY_MODEL_de497c73e31c4da5bfc1bbf3393d6a0a",
              "IPY_MODEL_bcb47fe142d04adb9540c33d1470bfb8",
              "IPY_MODEL_97691274d8694d99833badbfb0634cbd"
            ]
          }
        },
        "ca306a4ab45341319b6e908e21d7f786": {
          "model_module": "@jupyter-widgets/base",
          "model_name": "LayoutModel",
          "state": {
            "_view_name": "LayoutView",
            "grid_template_rows": null,
            "right": null,
            "justify_content": null,
            "_view_module": "@jupyter-widgets/base",
            "overflow": null,
            "_model_module_version": "1.2.0",
            "_view_count": null,
            "flex_flow": null,
            "width": null,
            "min_width": null,
            "border": null,
            "align_items": null,
            "bottom": null,
            "_model_module": "@jupyter-widgets/base",
            "top": null,
            "grid_column": null,
            "overflow_y": null,
            "overflow_x": null,
            "grid_auto_flow": null,
            "grid_area": null,
            "grid_template_columns": null,
            "flex": null,
            "_model_name": "LayoutModel",
            "justify_items": null,
            "grid_row": null,
            "max_height": null,
            "align_content": null,
            "visibility": null,
            "align_self": null,
            "height": null,
            "min_height": null,
            "padding": null,
            "grid_auto_rows": null,
            "grid_gap": null,
            "max_width": null,
            "order": null,
            "_view_module_version": "1.2.0",
            "grid_template_areas": null,
            "object_position": null,
            "object_fit": null,
            "grid_auto_columns": null,
            "margin": null,
            "display": null,
            "left": null
          }
        },
        "de497c73e31c4da5bfc1bbf3393d6a0a": {
          "model_module": "@jupyter-widgets/controls",
          "model_name": "IntSliderModel",
          "state": {
            "_view_name": "IntSliderView",
            "style": "IPY_MODEL_50a94e8801604d8a81bc33d54300430d",
            "_dom_classes": [],
            "description": "elev",
            "step": 1,
            "_model_name": "IntSliderModel",
            "orientation": "horizontal",
            "max": 360,
            "_view_module": "@jupyter-widgets/controls",
            "_model_module_version": "1.5.0",
            "value": 40,
            "_view_count": null,
            "disabled": false,
            "_view_module_version": "1.5.0",
            "min": 0,
            "continuous_update": true,
            "readout_format": "d",
            "description_tooltip": null,
            "readout": true,
            "_model_module": "@jupyter-widgets/controls",
            "layout": "IPY_MODEL_920938ad56234b87a7267496d00208f5"
          }
        },
        "bcb47fe142d04adb9540c33d1470bfb8": {
          "model_module": "@jupyter-widgets/controls",
          "model_name": "IntSliderModel",
          "state": {
            "_view_name": "IntSliderView",
            "style": "IPY_MODEL_2a9d6cb730d6434d8f8c19ddde6f921f",
            "_dom_classes": [],
            "description": "azim",
            "step": 1,
            "_model_name": "IntSliderModel",
            "orientation": "horizontal",
            "max": 180,
            "_view_module": "@jupyter-widgets/controls",
            "_model_module_version": "1.5.0",
            "value": 6,
            "_view_count": null,
            "disabled": false,
            "_view_module_version": "1.5.0",
            "min": 0,
            "continuous_update": true,
            "readout_format": "d",
            "description_tooltip": null,
            "readout": true,
            "_model_module": "@jupyter-widgets/controls",
            "layout": "IPY_MODEL_a3a37c9ffa7c415abf5c6bc939923b86"
          }
        },
        "97691274d8694d99833badbfb0634cbd": {
          "model_module": "@jupyter-widgets/output",
          "model_name": "OutputModel",
          "state": {
            "_view_name": "OutputView",
            "msg_id": "",
            "_dom_classes": [],
            "_model_name": "OutputModel",
            "outputs": [
              {
                "output_type": "display_data",
                "metadata": {
                  "tags": [],
                  "needs_background": "light"
                },
                "image/png": "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\n",
                "text/plain": "<Figure size 432x288 with 1 Axes>"
              }
            ],
            "_view_module": "@jupyter-widgets/output",
            "_model_module_version": "1.0.0",
            "_view_count": null,
            "_view_module_version": "1.0.0",
            "layout": "IPY_MODEL_15c1ced302614bc88208a51f38b96597",
            "_model_module": "@jupyter-widgets/output"
          }
        },
        "50a94e8801604d8a81bc33d54300430d": {
          "model_module": "@jupyter-widgets/controls",
          "model_name": "SliderStyleModel",
          "state": {
            "_view_name": "StyleView",
            "handle_color": null,
            "_model_name": "SliderStyleModel",
            "description_width": "",
            "_view_module": "@jupyter-widgets/base",
            "_model_module_version": "1.5.0",
            "_view_count": null,
            "_view_module_version": "1.2.0",
            "_model_module": "@jupyter-widgets/controls"
          }
        },
        "920938ad56234b87a7267496d00208f5": {
          "model_module": "@jupyter-widgets/base",
          "model_name": "LayoutModel",
          "state": {
            "_view_name": "LayoutView",
            "grid_template_rows": null,
            "right": null,
            "justify_content": null,
            "_view_module": "@jupyter-widgets/base",
            "overflow": null,
            "_model_module_version": "1.2.0",
            "_view_count": null,
            "flex_flow": null,
            "width": null,
            "min_width": null,
            "border": null,
            "align_items": null,
            "bottom": null,
            "_model_module": "@jupyter-widgets/base",
            "top": null,
            "grid_column": null,
            "overflow_y": null,
            "overflow_x": null,
            "grid_auto_flow": null,
            "grid_area": null,
            "grid_template_columns": null,
            "flex": null,
            "_model_name": "LayoutModel",
            "justify_items": null,
            "grid_row": null,
            "max_height": null,
            "align_content": null,
            "visibility": null,
            "align_self": null,
            "height": null,
            "min_height": null,
            "padding": null,
            "grid_auto_rows": null,
            "grid_gap": null,
            "max_width": null,
            "order": null,
            "_view_module_version": "1.2.0",
            "grid_template_areas": null,
            "object_position": null,
            "object_fit": null,
            "grid_auto_columns": null,
            "margin": null,
            "display": null,
            "left": null
          }
        },
        "2a9d6cb730d6434d8f8c19ddde6f921f": {
          "model_module": "@jupyter-widgets/controls",
          "model_name": "SliderStyleModel",
          "state": {
            "_view_name": "StyleView",
            "handle_color": null,
            "_model_name": "SliderStyleModel",
            "description_width": "",
            "_view_module": "@jupyter-widgets/base",
            "_model_module_version": "1.5.0",
            "_view_count": null,
            "_view_module_version": "1.2.0",
            "_model_module": "@jupyter-widgets/controls"
          }
        },
        "a3a37c9ffa7c415abf5c6bc939923b86": {
          "model_module": "@jupyter-widgets/base",
          "model_name": "LayoutModel",
          "state": {
            "_view_name": "LayoutView",
            "grid_template_rows": null,
            "right": null,
            "justify_content": null,
            "_view_module": "@jupyter-widgets/base",
            "overflow": null,
            "_model_module_version": "1.2.0",
            "_view_count": null,
            "flex_flow": null,
            "width": null,
            "min_width": null,
            "border": null,
            "align_items": null,
            "bottom": null,
            "_model_module": "@jupyter-widgets/base",
            "top": null,
            "grid_column": null,
            "overflow_y": null,
            "overflow_x": null,
            "grid_auto_flow": null,
            "grid_area": null,
            "grid_template_columns": null,
            "flex": null,
            "_model_name": "LayoutModel",
            "justify_items": null,
            "grid_row": null,
            "max_height": null,
            "align_content": null,
            "visibility": null,
            "align_self": null,
            "height": null,
            "min_height": null,
            "padding": null,
            "grid_auto_rows": null,
            "grid_gap": null,
            "max_width": null,
            "order": null,
            "_view_module_version": "1.2.0",
            "grid_template_areas": null,
            "object_position": null,
            "object_fit": null,
            "grid_auto_columns": null,
            "margin": null,
            "display": null,
            "left": null
          }
        },
        "15c1ced302614bc88208a51f38b96597": {
          "model_module": "@jupyter-widgets/base",
          "model_name": "LayoutModel",
          "state": {
            "_view_name": "LayoutView",
            "grid_template_rows": null,
            "right": null,
            "justify_content": null,
            "_view_module": "@jupyter-widgets/base",
            "overflow": null,
            "_model_module_version": "1.2.0",
            "_view_count": null,
            "flex_flow": null,
            "width": null,
            "min_width": null,
            "border": null,
            "align_items": null,
            "bottom": null,
            "_model_module": "@jupyter-widgets/base",
            "top": null,
            "grid_column": null,
            "overflow_y": null,
            "overflow_x": null,
            "grid_auto_flow": null,
            "grid_area": null,
            "grid_template_columns": null,
            "flex": null,
            "_model_name": "LayoutModel",
            "justify_items": null,
            "grid_row": null,
            "max_height": null,
            "align_content": null,
            "visibility": null,
            "align_self": null,
            "height": null,
            "min_height": null,
            "padding": null,
            "grid_auto_rows": null,
            "grid_gap": null,
            "max_width": null,
            "order": null,
            "_view_module_version": "1.2.0",
            "grid_template_areas": null,
            "object_position": null,
            "object_fit": null,
            "grid_auto_columns": null,
            "margin": null,
            "display": null,
            "left": null
          }
        }
      }
    }
  },
  "cells": [
    {
      "cell_type": "markdown",
      "metadata": {
        "id": "view-in-github",
        "colab_type": "text"
      },
      "source": [
        "<a href=\"https://colab.research.google.com/github/tlyonsWIT/Maths-Advanced-Calculus/blob/master/Python%20Workbook%201.ipynb\" target=\"_parent\"><img src=\"https://colab.research.google.com/assets/colab-badge.svg\" alt=\"Open In Colab\"/></a>"
      ]
    },
    {
      "cell_type": "markdown",
      "metadata": {
        "collapsed": true,
        "id": "c_3_zOKaqFM_"
      },
      "source": [
        "# Advanced Calculus 2021 - Python Workbook 1\n",
        "\n",
        "\n",
        "# Introduction to 2D and 3D-vectors "
      ]
    },
    {
      "cell_type": "markdown",
      "metadata": {
        "id": "mmWPdMeCqFNH"
      },
      "source": [
        "## Calling the python libraries and functions\n",
        "\n",
        "\n",
        "* In the cell below the necessary Python libraries and functions are imported, which will be needed for the current work book\n"
      ]
    },
    {
      "cell_type": "code",
      "metadata": {
        "id": "7Qk8SxWnqFNJ"
      },
      "source": [
        "from __future__ import print_function\n",
        "from ipywidgets import interact, interactive, fixed, interact_manual\n",
        "import ipywidgets as widgets\n",
        "\n",
        "import matplotlib.pyplot as plt  ## Library of functions for 2D plotting\n",
        "from matplotlib import cm as cm  ## Library of functions for ColourMaps \n",
        "from mpl_toolkits.mplot3d import Axes3D ## Library of functions for 3D plotting\n",
        "\n",
        "import numpy as np ## Library of function for numerical work\n",
        "from numpy import abs, sin, cos, log, exp, tan, cosh, sinh, tanh ## Useful numerical function called from the NUMPY library"
      ],
      "execution_count": 1,
      "outputs": []
    },
    {
      "cell_type": "markdown",
      "metadata": {
        "id": "_kN4y9MPqFNL"
      },
      "source": [
        "# Vectors in 2D"
      ]
    },
    {
      "cell_type": "markdown",
      "metadata": {
        "id": "K1QRj0M_qFNL"
      },
      "source": [
        "* A vector in 2-dimensions (2D) is of the form\n",
        "$$\n",
        "\\vec{v}= v_1\\hat{\\imath}+v_{2}\\hat{\\jmath}.\n",
        "$$\n",
        "\n",
        "* The numbers $v_{1}$ and $v_{2}$ are called the __components__ of the vector $\\vec{v}$.\n",
        "\n",
        "\n",
        "* The vectors $\\hat{\\imath}$ and $\\hat{\\jmath}$ are called the __unit vectors__. These unit vectors can be used to constract every vector in 2D."
      ]
    },
    {
      "cell_type": "markdown",
      "metadata": {
        "id": "bkRmvkflqFNL"
      },
      "source": [
        "## Plotting vectors in 2D\n",
        "\n",
        "* A 2D vector can be plotted in 2-dimensions using the __matplotlib.pyplot__ functions __plot__ and __quiver__.\n",
        "\n",
        "## Example 1\n",
        "\n",
        "* Create a plot of the vectors $\\hat{\\imath}$, $\\hat{\\jmath}$ and\n",
        "$$\n",
        "\\vec{v} = -3.4\\hat{\\imath}+5.2\\hat{\\jmath}.\n",
        "$$\n",
        "#### Solution: \n",
        "\n",
        "* To do this we use the __quiver(a,b,v1,v2)__ function:\n",
        "    \n",
        "    *__a__ and __b__ are the coordinates of the tail of the vector.\n",
        "    \n",
        "    *__v1__ and __v2__ are the components of the vector.\n",
        "    \n",
        "\n",
        "* The vector $\\hat{\\imath}$ can be written as \n",
        "$$\n",
        "\\hat{\\imath}=1\\hat{\\imath}+0\\hat{\\jmath},\n",
        "$$\n",
        "so the vector has components $v_1=1$ and $v_2=0$.\n",
        "\n",
        "\n",
        "* Similarly, the vector $\\hat{\\jmath}$ has components $v_1=0$ and $v_2=1$."
      ]
    },
    {
      "cell_type": "markdown",
      "metadata": {
        "id": "daLiy8qYqFNM"
      },
      "source": [
        "### The plot of the vector $\\hat{\\jmath}$"
      ]
    },
    {
      "cell_type": "code",
      "metadata": {
        "colab": {
          "base_uri": "https://localhost:8080/",
          "height": 483
        },
        "id": "E9Mg7EoaqFNN",
        "outputId": "2b739700-ed69-4023-a20f-3e372f08245a"
      },
      "source": [
        "plt.figure(figsize=(8,8)) # Plot a figure 8cm x 8cm\n",
        "plt.quiver(0,0,0,1); # Plot a vector starting at "
      ],
      "execution_count": 2,
      "outputs": [
        {
          "output_type": "display_data",
          "data": {
            "image/png": "[encoded data removed]",
            "text/plain": [
              "<Figure size 576x576 with 1 Axes>"
            ]
          },
          "metadata": {
            "tags": [],
            "needs_background": "light"
          }
        }
      ]
    },
    {
      "cell_type": "markdown",
      "metadata": {
        "id": "XRe2tFQkqFNQ"
      },
      "source": [
        "* We see that this vector only points about $0.005$ units along the $y$-axis, instead of the $1$ unit is should.\n",
        "\n",
        "\n",
        "* This can be corrected by instructing __quiver()__ to use the same units of measure as the axes of the plot."
      ]
    },
    {
      "cell_type": "code",
      "metadata": {
        "colab": {
          "base_uri": "https://localhost:8080/",
          "height": 487
        },
        "id": "gqpVwfJVqFNR",
        "outputId": "aa99ebcc-0028-4c3a-ad4a-f7851bf2b879"
      },
      "source": [
        "plt.figure(figsize=(8,8)) # Plot a figure 8cm x 8cm\n",
        "plt.quiver(0,0,0,1,angles='xy', scale_units='xy', scale=1) # Plot using natural uints\n",
        "\n",
        "plt.xlim([-2,2]); # Plot the x-axis from x=-2 to x=+2 \n",
        "plt.ylim([-2,2]); # Plot the y-axis from y=-2 to y=+2 "
      ],
      "execution_count": 3,
      "outputs": [
        {
          "output_type": "display_data",
          "data": {
            "image/png": "[encoded data removed]",
            "text/plain": [
              "<Figure size 576x576 with 1 Axes>"
            ]
          },
          "metadata": {
            "tags": [],
            "needs_background": "light"
          }
        }
      ]
    },
    {
      "cell_type": "markdown",
      "metadata": {
        "id": "DcvxOHZoqFNS"
      },
      "source": [
        "* Now we will plot all three vectors together, using a different colour for each vector."
      ]
    },
    {
      "cell_type": "code",
      "metadata": {
        "colab": {
          "base_uri": "https://localhost:8080/",
          "height": 487
        },
        "id": "RzBPGNIrqFNT",
        "outputId": "f7a21e46-7639-4b12-e552-65e70ee863d5"
      },
      "source": [
        "plt.figure(figsize=(8,8)) # Plot a figure 8cm x 8cm\n",
        "plt.quiver(0,0,0,1,angles='xy', scale_units='xy', scale=1, color='red') # Plot using natural uints\n",
        "plt.quiver(0,0,1,0,angles='xy', scale_units='xy', scale=1,color='green') # Plot using natural uints\n",
        "plt.quiver(0,0,-3.4,5.2,angles='xy', scale_units='xy', scale=1,color='blue') # Plot using natural uints\n",
        "plt.xlim([-6,6]); # Plot the x-axis from x=-6 to x=+6 \n",
        "plt.ylim([-6,6]); # Plot the y-axis from y=-6 to y=+6 "
      ],
      "execution_count": 4,
      "outputs": [
        {
          "output_type": "display_data",
          "data": {
            "image/png": "[encoded data removed]",
            "text/plain": [
              "<Figure size 576x576 with 1 Axes>"
            ]
          },
          "metadata": {
            "tags": [],
            "needs_background": "light"
          }
        }
      ]
    },
    {
      "cell_type": "markdown",
      "metadata": {
        "id": "4YC8QBS0qFNU"
      },
      "source": [
        "## Exercise 1\n",
        "\n",
        "Plot the vectors \n",
        "$$\n",
        "\\vec{u}=4\\hat{\\imath}-2\\hat{\\jmath}\\qquad \\vec{v}=\\hat{\\imath}+3\\hat{\\jmath}\\qquad \\vec{w}=-3\\hat{\\imath}+7\\hat{\\jmath}.\n",
        "$$\n",
        "using the __quiver()__ function."
      ]
    },
    {
      "cell_type": "code",
      "metadata": {
        "id": "kz1n2VuuqFNU"
      },
      "source": [
        ""
      ],
      "execution_count": null,
      "outputs": []
    },
    {
      "cell_type": "code",
      "metadata": {
        "id": "IRbeDaf6qFNU"
      },
      "source": [
        ""
      ],
      "execution_count": null,
      "outputs": []
    },
    {
      "cell_type": "markdown",
      "metadata": {
        "id": "6Gu_RzhyqFNV"
      },
      "source": [
        "# Vectors between points\n",
        "\n",
        "* Given the points $P(a,b)$ and $R(x,y)$, the vector pointing from $P$ to $R$ is given by\n",
        "$$\n",
        "\\overrightarrow{PR}= (x-a)\\hat{\\imath}+(y-b)\\hat{\\jmath}.\n",
        "$$\n",
        "\n",
        "* The components are found by subtracting the coordinates of the start-point from the coordinates of the end-point of the vector."
      ]
    },
    {
      "cell_type": "markdown",
      "metadata": {
        "id": "XeE_ofqPqFNW"
      },
      "source": [
        "## Example 2\n",
        "\n",
        "(a) Find the components of the vector pointing from $P(-1.3,5.6)$ to $R(4.2,8.8)$.\n",
        "\n",
        "(b) Plot the vector using __quiver()__."
      ]
    },
    {
      "cell_type": "markdown",
      "metadata": {
        "id": "XxyZjjBaqFNW"
      },
      "source": [
        "### Part (a) \n",
        "\n",
        "* The components of the vector are:"
      ]
    },
    {
      "cell_type": "code",
      "metadata": {
        "id": "ct4azZgaqFNW"
      },
      "source": [
        "PR1=4.2-(-1.3)\n",
        "PR2=8.8-5.6"
      ],
      "execution_count": null,
      "outputs": []
    },
    {
      "cell_type": "markdown",
      "metadata": {
        "id": "25LeAWUzqFNX"
      },
      "source": [
        "* To print these values just call them in a cell"
      ]
    },
    {
      "cell_type": "code",
      "metadata": {
        "colab": {
          "base_uri": "https://localhost:8080/"
        },
        "id": "dOrbWSWqqFNX",
        "outputId": "e29ca6dc-a732-458d-a2b1-dc14e2f7769e"
      },
      "source": [
        "PR1, PR2"
      ],
      "execution_count": null,
      "outputs": [
        {
          "output_type": "execute_result",
          "data": {
            "text/plain": [
              "(5.5, 3.200000000000001)"
            ]
          },
          "metadata": {
            "tags": []
          },
          "execution_count": 7
        }
      ]
    },
    {
      "cell_type": "markdown",
      "metadata": {
        "id": "gyBdHeECqFNX"
      },
      "source": [
        "### Part (b) \n",
        "\n",
        "* The plot of the vector is given by:"
      ]
    },
    {
      "cell_type": "code",
      "metadata": {
        "colab": {
          "base_uri": "https://localhost:8080/",
          "height": 487
        },
        "id": "nstm3nyXqFNX",
        "outputId": "62242c19-5bb1-4216-c605-deb55ccfec20"
      },
      "source": [
        "plt.figure(figsize=(8,8)) # Plot a figure 8cm x 8cm\n",
        "plt.quiver(-1.3,5.6,PR1,PR2,angles='xy', scale_units='xy', scale=1, color='red') # Plot using natural uints\n",
        "plt.xlim([-2,10]); # Plot the x-axis from x=-6 to x=+6 \n",
        "plt.ylim([0,10]); # Plot the y-axis from y=-6 to y=+6 "
      ],
      "execution_count": null,
      "outputs": [
        {
          "output_type": "display_data",
          "data": {
            "image/png": "[encoded data removed]",
            "text/plain": [
              "<Figure size 576x576 with 1 Axes>"
            ]
          },
          "metadata": {
            "tags": [],
            "needs_background": "light"
          }
        }
      ]
    },
    {
      "cell_type": "markdown",
      "metadata": {
        "id": "GUFbeX8KqFNY"
      },
      "source": [
        "## Exercise 2\n",
        "\n",
        "(a) Find the vector compoonents between the following pairs of points\n",
        "\n",
        "   (1) $A(-3,4)$ & $B(4,5)$\n",
        "    \n",
        "   (2) $L(1.3,4.1)$ & $M(-2.2, 5.7)$\n",
        "    \n",
        "   (3) $P(-13.7,12.7)$ & $Q(8.7,-9.8)$"
      ]
    },
    {
      "cell_type": "code",
      "metadata": {
        "id": "T0NB_UKWqFNZ"
      },
      "source": [
        ""
      ],
      "execution_count": null,
      "outputs": []
    },
    {
      "cell_type": "code",
      "metadata": {
        "id": "TV2X6TTPqFNZ"
      },
      "source": [
        ""
      ],
      "execution_count": null,
      "outputs": []
    },
    {
      "cell_type": "code",
      "metadata": {
        "id": "c_51S1kEqFNa"
      },
      "source": [
        ""
      ],
      "execution_count": null,
      "outputs": []
    },
    {
      "cell_type": "markdown",
      "metadata": {
        "id": "87LN33zCqFNa"
      },
      "source": [
        "(b) Plot each of these vectors using __quiver()__"
      ]
    },
    {
      "cell_type": "code",
      "metadata": {
        "id": "UbpivAPJqFNa"
      },
      "source": [
        ""
      ],
      "execution_count": null,
      "outputs": []
    },
    {
      "cell_type": "code",
      "metadata": {
        "id": "WY9ujiyfqFNb"
      },
      "source": [
        ""
      ],
      "execution_count": null,
      "outputs": []
    },
    {
      "cell_type": "code",
      "metadata": {
        "id": "t8uww5aeqFNb"
      },
      "source": [
        ""
      ],
      "execution_count": null,
      "outputs": []
    },
    {
      "cell_type": "markdown",
      "metadata": {
        "id": "JCNWlj0dqFNb"
      },
      "source": [
        "# Perpendicular vectors"
      ]
    },
    {
      "cell_type": "markdown",
      "metadata": {
        "id": "0KM5Pwp_qFNb"
      },
      "source": [
        "* Given the vector \n",
        "$$\n",
        "\\vec{v} = v_{1}\\hat{\\imath}+v_{2}+\\hat{\\jmath},\n",
        "$$\n",
        "the vectors perpendicular to this vector are \n",
        "$$\n",
        "\\vec{v}^{\\perp} = v_{2}\\hat{\\imath}-v_{1}+\\hat{\\jmath},$$\n",
        "and \n",
        "$$\n",
        "\\vec{v}^{\\perp} = -v_{2}\\hat{\\imath}+v_{1}+\\hat{\\jmath}.\n",
        "$$"
      ]
    },
    {
      "cell_type": "markdown",
      "metadata": {
        "id": "A5thp-pqqFNb"
      },
      "source": [
        "## Example 3\n",
        "\n",
        "* Plot the vector \n",
        "\n",
        "\\\\[\\vec{u}= 4\\hat{\\imath}-6\\hat{\\jmath}.\\\\]\n",
        "\n",
        "* Plot __both__ vectors perpendicular to this vector."
      ]
    },
    {
      "cell_type": "code",
      "metadata": {
        "colab": {
          "base_uri": "https://localhost:8080/",
          "height": 487
        },
        "id": "twUSkidsqFNc",
        "outputId": "bcb23d02-a726-4294-ce02-32a744bab3b3"
      },
      "source": [
        "plt.figure(figsize=(8,8)) # Plot a figure 8cm x 8cm\n",
        "plt.quiver(0,0,4,-6,angles='xy', scale_units='xy', scale=1, color='red') # The vector u\n",
        "plt.quiver(0,0,6,4,angles='xy', scale_units='xy', scale=1,color='green') # A perpendicular vector\n",
        "plt.quiver(0,0,-6,-4,angles='xy', scale_units='xy', scale=1,color='blue') # A perpendicular vector\n",
        "plt.xlim([-10,10]); # Plot the x-axis from x=-6 to x=+6 \n",
        "plt.ylim([-10,10]); # Plot the y-axis from y=-6 to y=+6 "
      ],
      "execution_count": null,
      "outputs": [
        {
          "output_type": "display_data",
          "data": {
            "image/png": "[encoded data removed]",
            "text/plain": [
              "<Figure size 576x576 with 1 Axes>"
            ]
          },
          "metadata": {
            "tags": [],
            "needs_background": "light"
          }
        }
      ]
    },
    {
      "cell_type": "markdown",
      "metadata": {
        "id": "5PQJ5ZjwqFNc"
      },
      "source": [
        "* The vector $\\vec{u}$ is shown in __red.__\n",
        "\n",
        "\n",
        "* The perpendicular vectors are shown in __blue__ and __green.__"
      ]
    },
    {
      "cell_type": "code",
      "metadata": {
        "id": "zJhiu09nqFNd"
      },
      "source": [
        ""
      ],
      "execution_count": null,
      "outputs": []
    },
    {
      "cell_type": "markdown",
      "metadata": {
        "id": "EkHl31tgqFNd"
      },
      "source": [
        "## Exercise 3\n",
        "\n",
        "* Find both vectors perpendicular to \n",
        "$$\n",
        "\\vec{r}=-5.4\\hat{\\imath}+4.7\\hat{\\jmath}.\n",
        "$$\n",
        "\n",
        "\n",
        "* Plot all three vectors using __quiver().__"
      ]
    },
    {
      "cell_type": "code",
      "metadata": {
        "id": "qgEkUdt9qFNe"
      },
      "source": [
        ""
      ],
      "execution_count": null,
      "outputs": []
    },
    {
      "cell_type": "code",
      "metadata": {
        "id": "OU0f-dYGqFNe"
      },
      "source": [
        ""
      ],
      "execution_count": null,
      "outputs": []
    },
    {
      "cell_type": "code",
      "metadata": {
        "id": "jPQlQwMnqFNe"
      },
      "source": [
        ""
      ],
      "execution_count": null,
      "outputs": []
    },
    {
      "cell_type": "markdown",
      "metadata": {
        "id": "ALHG_VG0qFNe"
      },
      "source": [
        "# Vectors in 3D\n",
        "\n",
        "\n",
        "* We can also use a similar version of the __quiver()__ function to plot vectors in 3D.\n",
        "\n",
        "\n",
        "* We cannot set the scale of the vectors in the same way, however it is still usefule visualising 3D vectors.\n",
        "\n",
        "\n",
        "* There is slightly more work in setting up the 3D plot, which we through in __Example 4__ below."
      ]
    },
    {
      "cell_type": "markdown",
      "metadata": {
        "id": "cOMtI_GuqFNe"
      },
      "source": [
        "## Example 4"
      ]
    },
    {
      "cell_type": "markdown",
      "metadata": {
        "id": "-a0qQ0MsqFNe"
      },
      "source": [
        "* Plot the vector\n",
        "\\\\[\\vec{w}=-2\\hat{\\imath}+5\\hat{\\jmath}+2\\hat{k}\\\\]\n",
        "starting at the point $P(0,2,3)$."
      ]
    },
    {
      "cell_type": "markdown",
      "metadata": {
        "id": "E2HIqSvLqFNf"
      },
      "source": [
        "#### Notes:\n",
        "\n",
        "* The unit vector $\\hat{k}$ is the unit vector pointing along the $z$-axis.\n",
        "\n",
        "* The end-point of the vector will be\n",
        "$$\n",
        "Q(0-2,2+5,3+2)=Q(-2,7,5).\n",
        "$$\n",
        "* This means the $x$-axis of the plot shoul be __at least__ [-2,0].\n",
        "\n",
        "* The $y$-axis should be __at least__ [2,7].\n",
        "\n",
        "* The $z$-axis should be __at least__ [3,5].\n"
      ]
    },
    {
      "cell_type": "code",
      "metadata": {
        "id": "Vv-3iGdPqFNf",
        "outputId": "334afe78-e0eb-44cd-e988-532d4bcebf47"
      },
      "source": [
        "fig=plt.figure() # Create a figure environment\n",
        "ax=fig.add_subplot(111,projection='3d') # Instruct Python this figure should be 3-dimensional\n",
        "\n",
        "\n",
        "\n",
        "ax.quiver(0,2,3,-2,5,2)\n",
        "\n",
        "\n",
        "\n",
        "\n",
        "\n",
        "ax.set_xlabel('$x$') # Label the x-axis\n",
        "ax.set_ylabel('$y$') # Label the y-axis\n",
        "ax.set_zlabel('$z$') # Label the z-axis\n",
        "\n",
        "\n",
        "ax.set_xlim(-3,1) # Set the start and end point of the x-axis\n",
        "ax.set_ylim(1,8) # Set the start and end point of the y-axis\n",
        "ax.set_zlim(2,6) # Set the start and end point of the z-axis\n",
        "\n",
        "ax.view_init(20,40) # Change the viewing agnle of the plot\n",
        "\n"
      ],
      "execution_count": null,
      "outputs": [
        {
          "output_type": "display_data",
          "data": {
            "image/png": "[encoded data removed]",
            "text/plain": [
              "<matplotlib.figure.Figure at 0x7f8268c14c88>"
            ]
          },
          "metadata": {
            "tags": []
          }
        }
      ]
    },
    {
      "cell_type": "code",
      "metadata": {
        "id": "DUdXgtKMqFNf"
      },
      "source": [
        ""
      ],
      "execution_count": null,
      "outputs": []
    },
    {
      "cell_type": "markdown",
      "metadata": {
        "id": "oKwnS5RHqFNg"
      },
      "source": [
        "## Exercise 4\n",
        "\n",
        "* Plot the vector \n",
        "$$\n",
        "\\vec{u}=3\\hat{\\imath}-4\\hat{\\jmath}+8\\hat{k},\n",
        "$$\n",
        "starting at the point $R(-3,3,1)$."
      ]
    },
    {
      "cell_type": "code",
      "metadata": {
        "id": "o7WJlNsFqFNg"
      },
      "source": [
        ""
      ],
      "execution_count": null,
      "outputs": []
    },
    {
      "cell_type": "markdown",
      "metadata": {
        "id": "HtdEbldLqFNg"
      },
      "source": [
        "# The cross-product\n",
        "\n",
        "* This is a kind of product between two vectors, and is only defined in 3D.\n",
        "\n",
        "\n",
        "* The cross product of \n",
        "$$\n",
        "\\vec{u}=u_1\\hat{\\imath}+u_2\\hat{\\jmath}+u_3\\hat{k}\n",
        "$$\n",
        "\n",
        "and\n",
        "\n",
        "$$\n",
        "\\vec{v}=v_1\\hat{\\imath}+v_2\\hat{\\jmath}+v_3\\hat{k}.\n",
        "$$\n",
        "\n",
        "is given by\n",
        "\n",
        "$$\n",
        "\\vec{u}\\times\\vec{v}=\\det\\begin{pmatrix}\n",
        "                          \\hat{\\imath}&\\hat{\\jmath}&\\hat{k}\\\\   \n",
        "                          u_1 & u_2 & u_3 \\\\\n",
        "                          v_1 & v_2 & v_3\n",
        "                        \\end{pmatrix}.\n",
        "$$\n",
        "                        \n",
        "### Note:\n",
        "\n",
        "* This will be covered further during lectures."
      ]
    },
    {
      "cell_type": "markdown",
      "metadata": {
        "id": "nr5lwj-2qFNi"
      },
      "source": [
        "## The cross-product in Python\n",
        "\n",
        "* The corss product of two-vectors can be calculated using the __Numpy__ function __cross().__"
      ]
    },
    {
      "cell_type": "markdown",
      "metadata": {
        "id": "lNMtrfYqqFNi"
      },
      "source": [
        "## Example 5\n",
        "\n",
        "* Calculate the cross-product of the vectors\n",
        "$$\n",
        "\\vec{u}=-4.3\\hat{\\imath}+3.1\\hat{\\jmath}+5.2\\hat{k}\n",
        "$$\n",
        "\n",
        "and \n",
        "$$\n",
        "\\vec{v}=1.1\\hat{\\imath}-3.3\\hat{\\jmath}+1.6\\hat{k}.\n",
        "$$\n",
        "\n",
        "* Plot the vectors $\\vec{u}$, $\\vec{v}$ and $\\vec{u}\\times\\vec{v}$ using __quiver().__"
      ]
    },
    {
      "cell_type": "markdown",
      "metadata": {
        "id": "JtoLvqcmqFNi"
      },
      "source": [
        "### Solution\n",
        "\n",
        "\n",
        "* The vectors $\\vec{u}$ and $\\vec{v}$ are "
      ]
    },
    {
      "cell_type": "code",
      "metadata": {
        "colab": {
          "base_uri": "https://localhost:8080/"
        },
        "id": "U5kjL_y4qFNi",
        "outputId": "34c76ae8-c48d-4dbc-bc00-8678bd93ba07"
      },
      "source": [
        "u=[-4.3,3.1,5.2]\n",
        "\n",
        "v=[1.1,-3.3,1.6]\n",
        "u, v"
      ],
      "execution_count": null,
      "outputs": [
        {
          "output_type": "execute_result",
          "data": {
            "text/plain": [
              "([-4.3, 3.1, 5.2], [1.1, -3.3, 1.6])"
            ]
          },
          "metadata": {
            "tags": []
          },
          "execution_count": 10
        }
      ]
    },
    {
      "cell_type": "markdown",
      "metadata": {
        "id": "sImxPzWvqFNi"
      },
      "source": [
        "* The __cross-product__ of the vectors is"
      ]
    },
    {
      "cell_type": "code",
      "metadata": {
        "colab": {
          "base_uri": "https://localhost:8080/"
        },
        "id": "BIfjtdVvqFNj",
        "outputId": "b3610de6-e065-4bdf-fa3f-72e2f866dc72"
      },
      "source": [
        "uxv=np.cross(u,v)\n",
        "uxv"
      ],
      "execution_count": null,
      "outputs": [
        {
          "output_type": "execute_result",
          "data": {
            "text/plain": [
              "array([22.12, 12.6 , 10.78])"
            ]
          },
          "metadata": {
            "tags": []
          },
          "execution_count": 11
        }
      ]
    },
    {
      "cell_type": "markdown",
      "metadata": {
        "id": "BnhTnIJrqFNk"
      },
      "source": [
        "* We see that $\\vec{u}\\times\\vec{v}$ is another __3D vector__  given by\n",
        "$$\n",
        "\\vec{u}\\times \\vec{v} = 22.12\\hat{\\imath}+12.6\\hat{\\jmath}+10.78\\hat{k}.\n",
        "$$"
      ]
    },
    {
      "cell_type": "markdown",
      "metadata": {
        "id": "H4Oir3KTqFNk"
      },
      "source": [
        "### The plot of the 3 vectors"
      ]
    },
    {
      "cell_type": "code",
      "metadata": {
        "colab": {
          "base_uri": "https://localhost:8080/",
          "height": 312,
          "referenced_widgets": [
            "31eecd40f1104484a8984f5b7b8e23a6",
            "ca306a4ab45341319b6e908e21d7f786",
            "de497c73e31c4da5bfc1bbf3393d6a0a",
            "bcb47fe142d04adb9540c33d1470bfb8",
            "97691274d8694d99833badbfb0634cbd",
            "50a94e8801604d8a81bc33d54300430d",
            "920938ad56234b87a7267496d00208f5",
            "2a9d6cb730d6434d8f8c19ddde6f921f",
            "a3a37c9ffa7c415abf5c6bc939923b86",
            "15c1ced302614bc88208a51f38b96597"
          ]
        },
        "id": "W_MK26rTqFNk",
        "outputId": "2fd45f11-f5de-41d1-d70c-abb58b45cb54"
      },
      "source": [
        "def MovingPlot(elev,azim):\n",
        "  fig=plt.figure() # Create a figure environment\n",
        "  ax=fig.add_subplot(111,projection='3d') # Instruct Python this figure should be 3-dimensional\n",
        "\n",
        "\n",
        "\n",
        "  ax.quiver(0,0,0,-4.3,3.1,5.2,color='red') #The vector u in red\n",
        "\n",
        "  ax.quiver(0,0,0,1.1,-3.3,1.6,color='blue') #The vector v in blue\n",
        "\n",
        "  ax.quiver(0,0,0,22.12,12.6,10.78,color='black') #The vector uxv in black\n",
        "\n",
        "  ax.set_xlabel('$x$',size=14) # Label the x-axis\n",
        "  ax.set_ylabel('$y$',size=14) # Label the y-axis\n",
        "  ax.set_zlabel('$z$',size=14) # Label the z-axis\n",
        "\n",
        "\n",
        "  ax.set_xlim([-10,20]) # Set the start and end point of the x-axis\n",
        "  ax.set_ylim([-10,20]) # Set the start and end point of the y-axis\n",
        "  ax.set_zlim([-10,10]) # Set the start and end point of the z-axis\n",
        "\n",
        "  ax.view_init(elev,azim) # Change the viewing angle of the plot\n",
        "\n",
        "interact(MovingPlot, elev=widgets.IntSlider(min=0, max=360, step=1,value=0),azim=widgets.IntSlider(min=0, max=180, step=1, value=0));"
      ],
      "execution_count": 16,
      "outputs": [
        {
          "output_type": "display_data",
          "data": {
            "application/vnd.jupyter.widget-view+json": {
              "model_id": "31eecd40f1104484a8984f5b7b8e23a6",
              "version_minor": 0,
              "version_major": 2
            },
            "text/plain": [
              "interactive(children=(IntSlider(value=0, description='elev', max=360), IntSlider(value=0, description='azim', …"
            ]
          },
          "metadata": {
            "tags": []
          }
        }
      ]
    },
    {
      "cell_type": "markdown",
      "metadata": {
        "id": "HmD_0SlEqFNk"
      },
      "source": [
        "* We see that $\\vec{u}\\times\\vec{v}$ is __perpendicular__ to both $\\vec{u}$ and $\\vec{v}$. This is __always__ the case."
      ]
    },
    {
      "cell_type": "code",
      "metadata": {
        "id": "tNt73QdAqFNk"
      },
      "source": [
        ""
      ],
      "execution_count": null,
      "outputs": []
    },
    {
      "cell_type": "markdown",
      "metadata": {
        "id": "bHGmUGKsqFNl"
      },
      "source": [
        "## Exercise 5\n",
        "\n",
        "* Find the cross product of the vectors \n",
        "\n",
        "\\\\[\\vec{u}=1.8\\hat{\\imath}+2.1\\hat{\\jmath}-.3.4\\hat{k}\\\\]\n",
        "\n",
        "and \n",
        "\n",
        "\\\\[\\vec{v}=2.4\\hat{\\imath}-5.1\\hat{\\jmath}-3.6\\hat{k}.\\\\]\n",
        "\n",
        "\n",
        "\n",
        "* Plot all three vectors $\\vec{u}$, $\\vec{v}$ and $\\vec{u}\\times\\vec{v}$ using __quiver().__ \n",
        "\n",
        "\n",
        "* Find the best viewing angle by trial and error, to show $\\vec{u}\\times\\vec{v}$ is perpendicular to $\\vec{u}$ and $\\vec{v}$."
      ]
    },
    {
      "cell_type": "code",
      "metadata": {
        "id": "zfbwTOjhqFNm"
      },
      "source": [
        ""
      ],
      "execution_count": null,
      "outputs": []
    },
    {
      "cell_type": "code",
      "metadata": {
        "id": "y7HmBI4wqFNm"
      },
      "source": [
        ""
      ],
      "execution_count": null,
      "outputs": []
    },
    {
      "cell_type": "code",
      "metadata": {
        "id": "smvT7CMcqFNm"
      },
      "source": [
        ""
      ],
      "execution_count": null,
      "outputs": []
    },
    {
      "cell_type": "code",
      "metadata": {
        "id": "hdjDr-dIqFNm"
      },
      "source": [
        ""
      ],
      "execution_count": null,
      "outputs": []
    }
  ]
}