{
  "nbformat": 4,
  "nbformat_minor": 0,
  "metadata": {
    "kernelspec": {
      "display_name": "Python 3",
      "language": "python",
      "name": "python3"
    },
    "language_info": {
      "codemirror_mode": {
        "name": "ipython",
        "version": 3
      },
      "file_extension": ".py",
      "mimetype": "text/x-python",
      "name": "python",
      "nbconvert_exporter": "python",
      "pygments_lexer": "ipython3",
      "version": "3.8.3"
    },
    "colab": {
      "name": "Python Workbook 5.ipynb",
      "provenance": [],
      "include_colab_link": true
    },
    "widgets": {
      "application/vnd.jupyter.widget-state+json": {
        "b02e9e0e3fea40e186a0b5d7e5f11bd0": {
          "model_module": "@jupyter-widgets/controls",
          "model_name": "VBoxModel",
          "state": {
            "_view_name": "VBoxView",
            "_dom_classes": [
              "widget-interact"
            ],
            "_model_name": "VBoxModel",
            "_view_module": "@jupyter-widgets/controls",
            "_model_module_version": "1.5.0",
            "_view_count": null,
            "_view_module_version": "1.5.0",
            "box_style": "",
            "layout": "IPY_MODEL_e7c76d36f2f048fabafbef009c2aa2d4",
            "_model_module": "@jupyter-widgets/controls",
            "children": [
              "IPY_MODEL_bc44421d72d14c3eb1ea86f2bda34bf8",
              "IPY_MODEL_c6018a723c344c97a481f587bc0153f8"
            ]
          }
        },
        "e7c76d36f2f048fabafbef009c2aa2d4": {
          "model_module": "@jupyter-widgets/base",
          "model_name": "LayoutModel",
          "state": {
            "_view_name": "LayoutView",
            "grid_template_rows": null,
            "right": null,
            "justify_content": null,
            "_view_module": "@jupyter-widgets/base",
            "overflow": null,
            "_model_module_version": "1.2.0",
            "_view_count": null,
            "flex_flow": null,
            "width": null,
            "min_width": null,
            "border": null,
            "align_items": null,
            "bottom": null,
            "_model_module": "@jupyter-widgets/base",
            "top": null,
            "grid_column": null,
            "overflow_y": null,
            "overflow_x": null,
            "grid_auto_flow": null,
            "grid_area": null,
            "grid_template_columns": null,
            "flex": null,
            "_model_name": "LayoutModel",
            "justify_items": null,
            "grid_row": null,
            "max_height": null,
            "align_content": null,
            "visibility": null,
            "align_self": null,
            "height": null,
            "min_height": null,
            "padding": null,
            "grid_auto_rows": null,
            "grid_gap": null,
            "max_width": null,
            "order": null,
            "_view_module_version": "1.2.0",
            "grid_template_areas": null,
            "object_position": null,
            "object_fit": null,
            "grid_auto_columns": null,
            "margin": null,
            "display": null,
            "left": null
          }
        },
        "bc44421d72d14c3eb1ea86f2bda34bf8": {
          "model_module": "@jupyter-widgets/controls",
          "model_name": "FloatSliderModel",
          "state": {
            "_view_name": "FloatSliderView",
            "style": "IPY_MODEL_1451aa7b3fc9461780550960f372e579",
            "_dom_classes": [],
            "description": "t",
            "step": 0.01,
            "_model_name": "FloatSliderModel",
            "orientation": "horizontal",
            "max": 5,
            "_view_module": "@jupyter-widgets/controls",
            "_model_module_version": "1.5.0",
            "value": 5,
            "_view_count": null,
            "disabled": false,
            "_view_module_version": "1.5.0",
            "min": 0,
            "continuous_update": true,
            "readout_format": ".2f",
            "description_tooltip": null,
            "readout": true,
            "_model_module": "@jupyter-widgets/controls",
            "layout": "IPY_MODEL_44db5f91c78a4c7cb25cd58ee78967ad"
          }
        },
        "c6018a723c344c97a481f587bc0153f8": {
          "model_module": "@jupyter-widgets/output",
          "model_name": "OutputModel",
          "state": {
            "_view_name": "OutputView",
            "msg_id": "",
            "_dom_classes": [],
            "_model_name": "OutputModel",
            "outputs": [
              {
                "output_type": "display_data",
                "metadata": {
                  "tags": [],
                  "needs_background": "light"
                },
                "image/png": "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\n",
                "text/plain": "<Figure size 432x432 with 1 Axes>"
              }
            ],
            "_view_module": "@jupyter-widgets/output",
            "_model_module_version": "1.0.0",
            "_view_count": null,
            "_view_module_version": "1.0.0",
            "layout": "IPY_MODEL_8fddf93d1a46498c9bb975f379a396c4",
            "_model_module": "@jupyter-widgets/output"
          }
        },
        "1451aa7b3fc9461780550960f372e579": {
          "model_module": "@jupyter-widgets/controls",
          "model_name": "SliderStyleModel",
          "state": {
            "_view_name": "StyleView",
            "handle_color": null,
            "_model_name": "SliderStyleModel",
            "description_width": "",
            "_view_module": "@jupyter-widgets/base",
            "_model_module_version": "1.5.0",
            "_view_count": null,
            "_view_module_version": "1.2.0",
            "_model_module": "@jupyter-widgets/controls"
          }
        },
        "44db5f91c78a4c7cb25cd58ee78967ad": {
          "model_module": "@jupyter-widgets/base",
          "model_name": "LayoutModel",
          "state": {
            "_view_name": "LayoutView",
            "grid_template_rows": null,
            "right": null,
            "justify_content": null,
            "_view_module": "@jupyter-widgets/base",
            "overflow": null,
            "_model_module_version": "1.2.0",
            "_view_count": null,
            "flex_flow": null,
            "width": null,
            "min_width": null,
            "border": null,
            "align_items": null,
            "bottom": null,
            "_model_module": "@jupyter-widgets/base",
            "top": null,
            "grid_column": null,
            "overflow_y": null,
            "overflow_x": null,
            "grid_auto_flow": null,
            "grid_area": null,
            "grid_template_columns": null,
            "flex": null,
            "_model_name": "LayoutModel",
            "justify_items": null,
            "grid_row": null,
            "max_height": null,
            "align_content": null,
            "visibility": null,
            "align_self": null,
            "height": null,
            "min_height": null,
            "padding": null,
            "grid_auto_rows": null,
            "grid_gap": null,
            "max_width": null,
            "order": null,
            "_view_module_version": "1.2.0",
            "grid_template_areas": null,
            "object_position": null,
            "object_fit": null,
            "grid_auto_columns": null,
            "margin": null,
            "display": null,
            "left": null
          }
        },
        "8fddf93d1a46498c9bb975f379a396c4": {
          "model_module": "@jupyter-widgets/base",
          "model_name": "LayoutModel",
          "state": {
            "_view_name": "LayoutView",
            "grid_template_rows": null,
            "right": null,
            "justify_content": null,
            "_view_module": "@jupyter-widgets/base",
            "overflow": null,
            "_model_module_version": "1.2.0",
            "_view_count": null,
            "flex_flow": null,
            "width": null,
            "min_width": null,
            "border": null,
            "align_items": null,
            "bottom": null,
            "_model_module": "@jupyter-widgets/base",
            "top": null,
            "grid_column": null,
            "overflow_y": null,
            "overflow_x": null,
            "grid_auto_flow": null,
            "grid_area": null,
            "grid_template_columns": null,
            "flex": null,
            "_model_name": "LayoutModel",
            "justify_items": null,
            "grid_row": null,
            "max_height": null,
            "align_content": null,
            "visibility": null,
            "align_self": null,
            "height": null,
            "min_height": null,
            "padding": null,
            "grid_auto_rows": null,
            "grid_gap": null,
            "max_width": null,
            "order": null,
            "_view_module_version": "1.2.0",
            "grid_template_areas": null,
            "object_position": null,
            "object_fit": null,
            "grid_auto_columns": null,
            "margin": null,
            "display": null,
            "left": null
          }
        },
        "66f883a467d94e85ba68ca7275d05057": {
          "model_module": "@jupyter-widgets/controls",
          "model_name": "VBoxModel",
          "state": {
            "_view_name": "VBoxView",
            "_dom_classes": [
              "widget-interact"
            ],
            "_model_name": "VBoxModel",
            "_view_module": "@jupyter-widgets/controls",
            "_model_module_version": "1.5.0",
            "_view_count": null,
            "_view_module_version": "1.5.0",
            "box_style": "",
            "layout": "IPY_MODEL_6352fc2d1af94a7791f6f4f711b67e5a",
            "_model_module": "@jupyter-widgets/controls",
            "children": [
              "IPY_MODEL_f1a76a0015f74de2923cac7726e6f3bc",
              "IPY_MODEL_efaa51ab695048cb95e74b2fb41bf09b"
            ]
          }
        },
        "6352fc2d1af94a7791f6f4f711b67e5a": {
          "model_module": "@jupyter-widgets/base",
          "model_name": "LayoutModel",
          "state": {
            "_view_name": "LayoutView",
            "grid_template_rows": null,
            "right": null,
            "justify_content": null,
            "_view_module": "@jupyter-widgets/base",
            "overflow": null,
            "_model_module_version": "1.2.0",
            "_view_count": null,
            "flex_flow": null,
            "width": null,
            "min_width": null,
            "border": null,
            "align_items": null,
            "bottom": null,
            "_model_module": "@jupyter-widgets/base",
            "top": null,
            "grid_column": null,
            "overflow_y": null,
            "overflow_x": null,
            "grid_auto_flow": null,
            "grid_area": null,
            "grid_template_columns": null,
            "flex": null,
            "_model_name": "LayoutModel",
            "justify_items": null,
            "grid_row": null,
            "max_height": null,
            "align_content": null,
            "visibility": null,
            "align_self": null,
            "height": null,
            "min_height": null,
            "padding": null,
            "grid_auto_rows": null,
            "grid_gap": null,
            "max_width": null,
            "order": null,
            "_view_module_version": "1.2.0",
            "grid_template_areas": null,
            "object_position": null,
            "object_fit": null,
            "grid_auto_columns": null,
            "margin": null,
            "display": null,
            "left": null
          }
        },
        "f1a76a0015f74de2923cac7726e6f3bc": {
          "model_module": "@jupyter-widgets/controls",
          "model_name": "FloatSliderModel",
          "state": {
            "_view_name": "FloatSliderView",
            "style": "IPY_MODEL_ffea74eaac864cac9153f000376c08f3",
            "_dom_classes": [],
            "description": "t",
            "step": 0.01,
            "_model_name": "FloatSliderModel",
            "orientation": "horizontal",
            "max": 3,
            "_view_module": "@jupyter-widgets/controls",
            "_model_module_version": "1.5.0",
            "value": 3,
            "_view_count": null,
            "disabled": false,
            "_view_module_version": "1.5.0",
            "min": 0,
            "continuous_update": true,
            "readout_format": ".2f",
            "description_tooltip": null,
            "readout": true,
            "_model_module": "@jupyter-widgets/controls",
            "layout": "IPY_MODEL_46f882498fe240de94d1aec7b6486a1e"
          }
        },
        "efaa51ab695048cb95e74b2fb41bf09b": {
          "model_module": "@jupyter-widgets/output",
          "model_name": "OutputModel",
          "state": {
            "_view_name": "OutputView",
            "msg_id": "",
            "_dom_classes": [],
            "_model_name": "OutputModel",
            "outputs": [
              {
                "output_type": "display_data",
                "metadata": {
                  "tags": [],
                  "needs_background": "light"
                },
                "image/png": "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\n",
                "text/plain": "<Figure size 432x432 with 1 Axes>"
              }
            ],
            "_view_module": "@jupyter-widgets/output",
            "_model_module_version": "1.0.0",
            "_view_count": null,
            "_view_module_version": "1.0.0",
            "layout": "IPY_MODEL_567b44e129c7499dadf78349ea3b8989",
            "_model_module": "@jupyter-widgets/output"
          }
        },
        "ffea74eaac864cac9153f000376c08f3": {
          "model_module": "@jupyter-widgets/controls",
          "model_name": "SliderStyleModel",
          "state": {
            "_view_name": "StyleView",
            "handle_color": null,
            "_model_name": "SliderStyleModel",
            "description_width": "",
            "_view_module": "@jupyter-widgets/base",
            "_model_module_version": "1.5.0",
            "_view_count": null,
            "_view_module_version": "1.2.0",
            "_model_module": "@jupyter-widgets/controls"
          }
        },
        "46f882498fe240de94d1aec7b6486a1e": {
          "model_module": "@jupyter-widgets/base",
          "model_name": "LayoutModel",
          "state": {
            "_view_name": "LayoutView",
            "grid_template_rows": null,
            "right": null,
            "justify_content": null,
            "_view_module": "@jupyter-widgets/base",
            "overflow": null,
            "_model_module_version": "1.2.0",
            "_view_count": null,
            "flex_flow": null,
            "width": null,
            "min_width": null,
            "border": null,
            "align_items": null,
            "bottom": null,
            "_model_module": "@jupyter-widgets/base",
            "top": null,
            "grid_column": null,
            "overflow_y": null,
            "overflow_x": null,
            "grid_auto_flow": null,
            "grid_area": null,
            "grid_template_columns": null,
            "flex": null,
            "_model_name": "LayoutModel",
            "justify_items": null,
            "grid_row": null,
            "max_height": null,
            "align_content": null,
            "visibility": null,
            "align_self": null,
            "height": null,
            "min_height": null,
            "padding": null,
            "grid_auto_rows": null,
            "grid_gap": null,
            "max_width": null,
            "order": null,
            "_view_module_version": "1.2.0",
            "grid_template_areas": null,
            "object_position": null,
            "object_fit": null,
            "grid_auto_columns": null,
            "margin": null,
            "display": null,
            "left": null
          }
        },
        "567b44e129c7499dadf78349ea3b8989": {
          "model_module": "@jupyter-widgets/base",
          "model_name": "LayoutModel",
          "state": {
            "_view_name": "LayoutView",
            "grid_template_rows": null,
            "right": null,
            "justify_content": null,
            "_view_module": "@jupyter-widgets/base",
            "overflow": null,
            "_model_module_version": "1.2.0",
            "_view_count": null,
            "flex_flow": null,
            "width": null,
            "min_width": null,
            "border": null,
            "align_items": null,
            "bottom": null,
            "_model_module": "@jupyter-widgets/base",
            "top": null,
            "grid_column": null,
            "overflow_y": null,
            "overflow_x": null,
            "grid_auto_flow": null,
            "grid_area": null,
            "grid_template_columns": null,
            "flex": null,
            "_model_name": "LayoutModel",
            "justify_items": null,
            "grid_row": null,
            "max_height": null,
            "align_content": null,
            "visibility": null,
            "align_self": null,
            "height": null,
            "min_height": null,
            "padding": null,
            "grid_auto_rows": null,
            "grid_gap": null,
            "max_width": null,
            "order": null,
            "_view_module_version": "1.2.0",
            "grid_template_areas": null,
            "object_position": null,
            "object_fit": null,
            "grid_auto_columns": null,
            "margin": null,
            "display": null,
            "left": null
          }
        },
        "f11296802e7b44edb083ab83542269a2": {
          "model_module": "@jupyter-widgets/controls",
          "model_name": "VBoxModel",
          "state": {
            "_view_name": "VBoxView",
            "_dom_classes": [
              "widget-interact"
            ],
            "_model_name": "VBoxModel",
            "_view_module": "@jupyter-widgets/controls",
            "_model_module_version": "1.5.0",
            "_view_count": null,
            "_view_module_version": "1.5.0",
            "box_style": "",
            "layout": "IPY_MODEL_3dcc4e261ec84b898f3d133c08aeeb78",
            "_model_module": "@jupyter-widgets/controls",
            "children": [
              "IPY_MODEL_628e10c8ab4d438f88e1ddc5b6dc1435",
              "IPY_MODEL_588d7514f38f46588f629dabcbf2953a"
            ]
          }
        },
        "3dcc4e261ec84b898f3d133c08aeeb78": {
          "model_module": "@jupyter-widgets/base",
          "model_name": "LayoutModel",
          "state": {
            "_view_name": "LayoutView",
            "grid_template_rows": null,
            "right": null,
            "justify_content": null,
            "_view_module": "@jupyter-widgets/base",
            "overflow": null,
            "_model_module_version": "1.2.0",
            "_view_count": null,
            "flex_flow": null,
            "width": null,
            "min_width": null,
            "border": null,
            "align_items": null,
            "bottom": null,
            "_model_module": "@jupyter-widgets/base",
            "top": null,
            "grid_column": null,
            "overflow_y": null,
            "overflow_x": null,
            "grid_auto_flow": null,
            "grid_area": null,
            "grid_template_columns": null,
            "flex": null,
            "_model_name": "LayoutModel",
            "justify_items": null,
            "grid_row": null,
            "max_height": null,
            "align_content": null,
            "visibility": null,
            "align_self": null,
            "height": null,
            "min_height": null,
            "padding": null,
            "grid_auto_rows": null,
            "grid_gap": null,
            "max_width": null,
            "order": null,
            "_view_module_version": "1.2.0",
            "grid_template_areas": null,
            "object_position": null,
            "object_fit": null,
            "grid_auto_columns": null,
            "margin": null,
            "display": null,
            "left": null
          }
        },
        "628e10c8ab4d438f88e1ddc5b6dc1435": {
          "model_module": "@jupyter-widgets/controls",
          "model_name": "FloatSliderModel",
          "state": {
            "_view_name": "FloatSliderView",
            "style": "IPY_MODEL_f03cc44607574f7f932038835fd45260",
            "_dom_classes": [],
            "description": "t",
            "step": 0.01,
            "_model_name": "FloatSliderModel",
            "orientation": "horizontal",
            "max": 1,
            "_view_module": "@jupyter-widgets/controls",
            "_model_module_version": "1.5.0",
            "value": 1,
            "_view_count": null,
            "disabled": false,
            "_view_module_version": "1.5.0",
            "min": 0,
            "continuous_update": true,
            "readout_format": ".2f",
            "description_tooltip": null,
            "readout": true,
            "_model_module": "@jupyter-widgets/controls",
            "layout": "IPY_MODEL_7366aa72345e47cb906e075778b8e6b0"
          }
        },
        "588d7514f38f46588f629dabcbf2953a": {
          "model_module": "@jupyter-widgets/output",
          "model_name": "OutputModel",
          "state": {
            "_view_name": "OutputView",
            "msg_id": "",
            "_dom_classes": [],
            "_model_name": "OutputModel",
            "outputs": [
              {
                "output_type": "display_data",
                "metadata": {
                  "tags": [],
                  "needs_background": "light"
                },
                "image/png": "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\n",
                "text/plain": "<Figure size 432x432 with 1 Axes>"
              }
            ],
            "_view_module": "@jupyter-widgets/output",
            "_model_module_version": "1.0.0",
            "_view_count": null,
            "_view_module_version": "1.0.0",
            "layout": "IPY_MODEL_2c8151f46b8e4282b2adcd84e6fa01af",
            "_model_module": "@jupyter-widgets/output"
          }
        },
        "f03cc44607574f7f932038835fd45260": {
          "model_module": "@jupyter-widgets/controls",
          "model_name": "SliderStyleModel",
          "state": {
            "_view_name": "StyleView",
            "handle_color": null,
            "_model_name": "SliderStyleModel",
            "description_width": "",
            "_view_module": "@jupyter-widgets/base",
            "_model_module_version": "1.5.0",
            "_view_count": null,
            "_view_module_version": "1.2.0",
            "_model_module": "@jupyter-widgets/controls"
          }
        },
        "7366aa72345e47cb906e075778b8e6b0": {
          "model_module": "@jupyter-widgets/base",
          "model_name": "LayoutModel",
          "state": {
            "_view_name": "LayoutView",
            "grid_template_rows": null,
            "right": null,
            "justify_content": null,
            "_view_module": "@jupyter-widgets/base",
            "overflow": null,
            "_model_module_version": "1.2.0",
            "_view_count": null,
            "flex_flow": null,
            "width": null,
            "min_width": null,
            "border": null,
            "align_items": null,
            "bottom": null,
            "_model_module": "@jupyter-widgets/base",
            "top": null,
            "grid_column": null,
            "overflow_y": null,
            "overflow_x": null,
            "grid_auto_flow": null,
            "grid_area": null,
            "grid_template_columns": null,
            "flex": null,
            "_model_name": "LayoutModel",
            "justify_items": null,
            "grid_row": null,
            "max_height": null,
            "align_content": null,
            "visibility": null,
            "align_self": null,
            "height": null,
            "min_height": null,
            "padding": null,
            "grid_auto_rows": null,
            "grid_gap": null,
            "max_width": null,
            "order": null,
            "_view_module_version": "1.2.0",
            "grid_template_areas": null,
            "object_position": null,
            "object_fit": null,
            "grid_auto_columns": null,
            "margin": null,
            "display": null,
            "left": null
          }
        },
        "2c8151f46b8e4282b2adcd84e6fa01af": {
          "model_module": "@jupyter-widgets/base",
          "model_name": "LayoutModel",
          "state": {
            "_view_name": "LayoutView",
            "grid_template_rows": null,
            "right": null,
            "justify_content": null,
            "_view_module": "@jupyter-widgets/base",
            "overflow": null,
            "_model_module_version": "1.2.0",
            "_view_count": null,
            "flex_flow": null,
            "width": null,
            "min_width": null,
            "border": null,
            "align_items": null,
            "bottom": null,
            "_model_module": "@jupyter-widgets/base",
            "top": null,
            "grid_column": null,
            "overflow_y": null,
            "overflow_x": null,
            "grid_auto_flow": null,
            "grid_area": null,
            "grid_template_columns": null,
            "flex": null,
            "_model_name": "LayoutModel",
            "justify_items": null,
            "grid_row": null,
            "max_height": null,
            "align_content": null,
            "visibility": null,
            "align_self": null,
            "height": null,
            "min_height": null,
            "padding": null,
            "grid_auto_rows": null,
            "grid_gap": null,
            "max_width": null,
            "order": null,
            "_view_module_version": "1.2.0",
            "grid_template_areas": null,
            "object_position": null,
            "object_fit": null,
            "grid_auto_columns": null,
            "margin": null,
            "display": null,
            "left": null
          }
        },
        "42f9b071c9c74674b4965e60a6ef9705": {
          "model_module": "@jupyter-widgets/controls",
          "model_name": "VBoxModel",
          "state": {
            "_view_name": "VBoxView",
            "_dom_classes": [
              "widget-interact"
            ],
            "_model_name": "VBoxModel",
            "_view_module": "@jupyter-widgets/controls",
            "_model_module_version": "1.5.0",
            "_view_count": null,
            "_view_module_version": "1.5.0",
            "box_style": "",
            "layout": "IPY_MODEL_b081d28acee34a2a9838af6db2215f42",
            "_model_module": "@jupyter-widgets/controls",
            "children": [
              "IPY_MODEL_54242cf6617e4d0f86167437239607d3",
              "IPY_MODEL_0ef4bdffe3ca4a6bb53b4cb083330e95"
            ]
          }
        },
        "b081d28acee34a2a9838af6db2215f42": {
          "model_module": "@jupyter-widgets/base",
          "model_name": "LayoutModel",
          "state": {
            "_view_name": "LayoutView",
            "grid_template_rows": null,
            "right": null,
            "justify_content": null,
            "_view_module": "@jupyter-widgets/base",
            "overflow": null,
            "_model_module_version": "1.2.0",
            "_view_count": null,
            "flex_flow": null,
            "width": null,
            "min_width": null,
            "border": null,
            "align_items": null,
            "bottom": null,
            "_model_module": "@jupyter-widgets/base",
            "top": null,
            "grid_column": null,
            "overflow_y": null,
            "overflow_x": null,
            "grid_auto_flow": null,
            "grid_area": null,
            "grid_template_columns": null,
            "flex": null,
            "_model_name": "LayoutModel",
            "justify_items": null,
            "grid_row": null,
            "max_height": null,
            "align_content": null,
            "visibility": null,
            "align_self": null,
            "height": null,
            "min_height": null,
            "padding": null,
            "grid_auto_rows": null,
            "grid_gap": null,
            "max_width": null,
            "order": null,
            "_view_module_version": "1.2.0",
            "grid_template_areas": null,
            "object_position": null,
            "object_fit": null,
            "grid_auto_columns": null,
            "margin": null,
            "display": null,
            "left": null
          }
        },
        "54242cf6617e4d0f86167437239607d3": {
          "model_module": "@jupyter-widgets/controls",
          "model_name": "FloatSliderModel",
          "state": {
            "_view_name": "FloatSliderView",
            "style": "IPY_MODEL_16dc215d1b8b437ab2f9b1684b6e6262",
            "_dom_classes": [],
            "description": "t",
            "step": 0.01,
            "_model_name": "FloatSliderModel",
            "orientation": "horizontal",
            "max": 1,
            "_view_module": "@jupyter-widgets/controls",
            "_model_module_version": "1.5.0",
            "value": 0.86,
            "_view_count": null,
            "disabled": false,
            "_view_module_version": "1.5.0",
            "min": 0,
            "continuous_update": true,
            "readout_format": ".2f",
            "description_tooltip": null,
            "readout": true,
            "_model_module": "@jupyter-widgets/controls",
            "layout": "IPY_MODEL_c91da6c2e0fe47089e56f4e5f919e03a"
          }
        },
        "0ef4bdffe3ca4a6bb53b4cb083330e95": {
          "model_module": "@jupyter-widgets/output",
          "model_name": "OutputModel",
          "state": {
            "_view_name": "OutputView",
            "msg_id": "",
            "_dom_classes": [],
            "_model_name": "OutputModel",
            "outputs": [
              {
                "output_type": "display_data",
                "metadata": {
                  "tags": [],
                  "needs_background": "light"
                },
                "image/png": "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\n",
                "text/plain": "<Figure size 432x432 with 1 Axes>"
              }
            ],
            "_view_module": "@jupyter-widgets/output",
            "_model_module_version": "1.0.0",
            "_view_count": null,
            "_view_module_version": "1.0.0",
            "layout": "IPY_MODEL_7d45a7da4b934ae982502109cdefc22e",
            "_model_module": "@jupyter-widgets/output"
          }
        },
        "16dc215d1b8b437ab2f9b1684b6e6262": {
          "model_module": "@jupyter-widgets/controls",
          "model_name": "SliderStyleModel",
          "state": {
            "_view_name": "StyleView",
            "handle_color": null,
            "_model_name": "SliderStyleModel",
            "description_width": "",
            "_view_module": "@jupyter-widgets/base",
            "_model_module_version": "1.5.0",
            "_view_count": null,
            "_view_module_version": "1.2.0",
            "_model_module": "@jupyter-widgets/controls"
          }
        },
        "c91da6c2e0fe47089e56f4e5f919e03a": {
          "model_module": "@jupyter-widgets/base",
          "model_name": "LayoutModel",
          "state": {
            "_view_name": "LayoutView",
            "grid_template_rows": null,
            "right": null,
            "justify_content": null,
            "_view_module": "@jupyter-widgets/base",
            "overflow": null,
            "_model_module_version": "1.2.0",
            "_view_count": null,
            "flex_flow": null,
            "width": null,
            "min_width": null,
            "border": null,
            "align_items": null,
            "bottom": null,
            "_model_module": "@jupyter-widgets/base",
            "top": null,
            "grid_column": null,
            "overflow_y": null,
            "overflow_x": null,
            "grid_auto_flow": null,
            "grid_area": null,
            "grid_template_columns": null,
            "flex": null,
            "_model_name": "LayoutModel",
            "justify_items": null,
            "grid_row": null,
            "max_height": null,
            "align_content": null,
            "visibility": null,
            "align_self": null,
            "height": null,
            "min_height": null,
            "padding": null,
            "grid_auto_rows": null,
            "grid_gap": null,
            "max_width": null,
            "order": null,
            "_view_module_version": "1.2.0",
            "grid_template_areas": null,
            "object_position": null,
            "object_fit": null,
            "grid_auto_columns": null,
            "margin": null,
            "display": null,
            "left": null
          }
        },
        "7d45a7da4b934ae982502109cdefc22e": {
          "model_module": "@jupyter-widgets/base",
          "model_name": "LayoutModel",
          "state": {
            "_view_name": "LayoutView",
            "grid_template_rows": null,
            "right": null,
            "justify_content": null,
            "_view_module": "@jupyter-widgets/base",
            "overflow": null,
            "_model_module_version": "1.2.0",
            "_view_count": null,
            "flex_flow": null,
            "width": null,
            "min_width": null,
            "border": null,
            "align_items": null,
            "bottom": null,
            "_model_module": "@jupyter-widgets/base",
            "top": null,
            "grid_column": null,
            "overflow_y": null,
            "overflow_x": null,
            "grid_auto_flow": null,
            "grid_area": null,
            "grid_template_columns": null,
            "flex": null,
            "_model_name": "LayoutModel",
            "justify_items": null,
            "grid_row": null,
            "max_height": null,
            "align_content": null,
            "visibility": null,
            "align_self": null,
            "height": null,
            "min_height": null,
            "padding": null,
            "grid_auto_rows": null,
            "grid_gap": null,
            "max_width": null,
            "order": null,
            "_view_module_version": "1.2.0",
            "grid_template_areas": null,
            "object_position": null,
            "object_fit": null,
            "grid_auto_columns": null,
            "margin": null,
            "display": null,
            "left": null
          }
        }
      }
    }
  },
  "cells": [
    {
      "cell_type": "markdown",
      "metadata": {
        "id": "view-in-github",
        "colab_type": "text"
      },
      "source": [
        "<a href=\"https://colab.research.google.com/github/tlyonsWIT/Maths-Advanced-Calculus/blob/master/Python%20Workbook%205.ipynb\" target=\"_parent\"><img src=\"https://colab.research.google.com/assets/colab-badge.svg\" alt=\"Open In Colab\"/></a>"
      ]
    },
    {
      "cell_type": "markdown",
      "metadata": {
        "id": "ncWutHdwhyJE"
      },
      "source": [
        "# Maths Advanced Calculus 2021 - Python Workbook 5\n",
        "\n",
        "## Parameterised Paths & Work Elements"
      ]
    },
    {
      "cell_type": "code",
      "metadata": {
        "id": "CxcaBmqBhyJM"
      },
      "source": [
        "from mpl_toolkits.mplot3d import axes3d\n",
        "import matplotlib.pyplot as plt\n",
        "import numpy as np\n",
        "from numpy import cos, sin, tan, exp, log, pi, sqrt\n",
        "\n",
        "from ipywidgets import interact, interactive, fixed, interact_manual\n",
        "import ipywidgets as widgets"
      ],
      "execution_count": 1,
      "outputs": []
    },
    {
      "cell_type": "markdown",
      "metadata": {
        "id": "qiLC13yghyJN"
      },
      "source": [
        "* In this workbook we are going to plot parameterised paths and vector fields along these paths.\n",
        "\n",
        "\n",
        "* In 2D a parameterisd path is a vector of the form\n",
        "$$\n",
        "\\vec{r}(t) = r_{1}(t)\\hat{\\imath} + r_{2}(t)\\hat{\\jmath},\n",
        "$$\n",
        "where the components $r_{1}(t)$ and $r_{2}(t)$ depend on some __parameter__ $t$.\n",
        "\n",
        "\n",
        "* The parameter $t$ is often interpreted as __time.__"
      ]
    },
    {
      "cell_type": "markdown",
      "metadata": {
        "id": "hnwpU34PhyJO"
      },
      "source": [
        "## Example 1\n",
        "\n",
        "* The simplest parameterised path we can consider is of the form\n",
        "$$\n",
        "\\vec{r}(t) = (a+ut)\\hat{\\imath} + (b+vt)\\hat{\\jmath}.\n",
        "$$\n",
        "\n",
        "\n",
        "* This is the path followed by a particle which starts at \n",
        "$$\n",
        "\\vec{r}_{0}= a\\hat{\\imath} + b\\hat{\\jmath},\n",
        "$$\n",
        "when $t=0$. \n",
        "\n",
        "\n",
        "* This is often called the __initial position__ of the particle.\n",
        "\n",
        "\n",
        "* The particle moves with __velocity__\n",
        "$$\n",
        "\\vec{v}(t) = \\frac{d\\vec{r}}{dt}=\\frac{d}{dt}(a+ut)\\hat{\\imath}+\\frac{d}{dt}(b+vt)\\hat{\\jmath} = u\\hat{\\imath}+v\\hat{\\jmath}.\n",
        "$$\n",
        "\n",
        "\n",
        "* So when $u$ and $v$ are constants, the velocity of the particle is constant, and so the particle does not change its speed or direction as it travels along the path $\\vec{r}(t)$, it just keeps moving in the same direction at a constant rate.\n",
        "\n",
        "\n",
        "* We are going the plot the parameterised path\n",
        "$$\n",
        "\\vec{r}(t)=(-1.2+2.4t)\\hat{\\imath}+(3.1-4.2t)\\hat{\\jmath} \\text{ for }0\\leq t\\leq 5.\n",
        "$$\n",
        "\n",
        "\n",
        "* We are also going to create an interactive __dot__ to prepresent the particle position at various times along this path."
      ]
    },
    {
      "cell_type": "markdown",
      "metadata": {
        "id": "CyqZ8aashyJP"
      },
      "source": [
        "### Step 1\n",
        "\n",
        "* We define functions to represent each of the components of the vector field"
      ]
    },
    {
      "cell_type": "code",
      "metadata": {
        "id": "kKbgi5OuhyJQ"
      },
      "source": [
        "def r1(t):\n",
        "    return -1.2+2.4*t\n",
        "\n",
        "\n",
        "def r2(t):\n",
        "    return 3.1-4.2*t"
      ],
      "execution_count": 2,
      "outputs": []
    },
    {
      "cell_type": "markdown",
      "metadata": {
        "id": "nek7WZZBhyJR"
      },
      "source": [
        "### Step 2\n",
        "\n",
        "* Create a __linspace__ to  represent the full time interval, and plot the parameterise path along this interval"
      ]
    },
    {
      "cell_type": "code",
      "metadata": {
        "colab": {
          "base_uri": "https://localhost:8080/",
          "height": 410
        },
        "id": "XLvKhJqRhyJR",
        "outputId": "b1d358f1-e078-49ef-995a-6f9bd303e896"
      },
      "source": [
        "T=np.linspace(0,5,161)\n",
        "plt.figure(figsize=(6,6))\n",
        "plt.plot(r1(T),r2(T),ls='--',color='darkslategray')\n",
        "plt.xlabel('x')\n",
        "plt.ylabel('y')\n",
        "plt.xlim(-4,12)\n",
        "plt.ylim(-20,5)"
      ],
      "execution_count": 3,
      "outputs": [
        {
          "output_type": "execute_result",
          "data": {
            "text/plain": [
              "(-20.0, 5.0)"
            ]
          },
          "metadata": {
            "tags": []
          },
          "execution_count": 3
        },
        {
          "output_type": "display_data",
          "data": {
            "image/png": "[encoded data removed]",
            "text/plain": [
              "<Figure size 432x432 with 1 Axes>"
            ]
          },
          "metadata": {
            "tags": [],
            "needs_background": "light"
          }
        }
      ]
    },
    {
      "cell_type": "markdown",
      "metadata": {
        "id": "1zEGsJrmhyJS"
      },
      "source": [
        "### Step 3\n",
        "\n",
        "* Use this plot in an interactive plot to create a moving dot along this path"
      ]
    },
    {
      "cell_type": "code",
      "metadata": {
        "colab": {
          "base_uri": "https://localhost:8080/",
          "height": 424,
          "referenced_widgets": [
            "b02e9e0e3fea40e186a0b5d7e5f11bd0",
            "e7c76d36f2f048fabafbef009c2aa2d4",
            "bc44421d72d14c3eb1ea86f2bda34bf8",
            "c6018a723c344c97a481f587bc0153f8",
            "1451aa7b3fc9461780550960f372e579",
            "44db5f91c78a4c7cb25cd58ee78967ad",
            "8fddf93d1a46498c9bb975f379a396c4"
          ]
        },
        "id": "4OP9y4ZJhyJT",
        "outputId": "e7f962ce-0a7f-42da-f122-f0bcd3f8d216"
      },
      "source": [
        "@interact(t=(0,5,0.01))\n",
        "def MovingPlot1(t=0.0):\n",
        "    # The following lines are the plot above\n",
        "    plt.figure(figsize=(6,6))\n",
        "    plt.plot(r1(T),r2(T),ls='--',color='darkslategray')\n",
        "    plt.xlabel('x')\n",
        "    plt.ylabel('y')\n",
        "    plt.xlim(-4,12)\n",
        "    plt.ylim(-20,5)\n",
        "    \n",
        "    # This line creates a blue dot representing the particle at time t\n",
        "    plt.plot(r1(t),r2(t),'o',color='cornflowerblue')\n",
        "    "
      ],
      "execution_count": 5,
      "outputs": [
        {
          "output_type": "display_data",
          "data": {
            "application/vnd.jupyter.widget-view+json": {
              "model_id": "b02e9e0e3fea40e186a0b5d7e5f11bd0",
              "version_minor": 0,
              "version_major": 2
            },
            "text/plain": [
              "interactive(children=(FloatSlider(value=0.0, description='t', max=5.0, step=0.01), Output()), _dom_classes=('w…"
            ]
          },
          "metadata": {
            "tags": []
          }
        }
      ]
    },
    {
      "cell_type": "markdown",
      "metadata": {
        "id": "lwp5yAsmhyJU"
      },
      "source": [
        "## Example 2\n",
        "\n",
        "* Create an interactive plot to represent a particle travelling along the parameterised path \n",
        "\n",
        "$$\n",
        "\\vec{r}(t)=(1.4+3.4\\cos(2\\pi t))\\hat{\\imath} + (2.2+1.4\\sin(2\\pi t))\\hat{\\jmath} \\text{ for }0\\leq t\\leq 3.\n",
        "$$"
      ]
    },
    {
      "cell_type": "markdown",
      "metadata": {
        "id": "xlNMBxRehyJV"
      },
      "source": [
        "### Step 1\n",
        "\n",
        "* We create two functions to represent the components of the parameterised path"
      ]
    },
    {
      "cell_type": "code",
      "metadata": {
        "id": "6JhB-ig8hyJW"
      },
      "source": [
        "def r1(t):\n",
        "    return 1.4+3.4*cos(2*pi*t)\n",
        "\n",
        "\n",
        "def r2(t):\n",
        "    return 2.2 + 1.4*sin(2*pi*t)"
      ],
      "execution_count": null,
      "outputs": []
    },
    {
      "cell_type": "markdown",
      "metadata": {
        "id": "5-wgn5zbhyJW"
      },
      "source": [
        "### Step 2 & 3\n",
        "\n",
        "* In this example we are going to combine Step 2 and 3 into a single step:"
      ]
    },
    {
      "cell_type": "code",
      "metadata": {
        "colab": {
          "base_uri": "https://localhost:8080/",
          "height": 424,
          "referenced_widgets": [
            "66f883a467d94e85ba68ca7275d05057",
            "6352fc2d1af94a7791f6f4f711b67e5a",
            "f1a76a0015f74de2923cac7726e6f3bc",
            "efaa51ab695048cb95e74b2fb41bf09b",
            "ffea74eaac864cac9153f000376c08f3",
            "46f882498fe240de94d1aec7b6486a1e",
            "567b44e129c7499dadf78349ea3b8989"
          ]
        },
        "id": "eNJ0xxmmhyJX",
        "outputId": "5cd7ed81-08da-4edf-b57a-492bd1f12855"
      },
      "source": [
        "T=np.linspace(0,3,161)\n",
        "\n",
        "@interact(t=(0,3,0.01))\n",
        "def MovingPlot2(t=0.0):\n",
        "    # The following lines are the plot above\n",
        "    plt.figure(figsize=(6,6))\n",
        "    plt.plot(r1(T),r2(T),ls='--',color='darkslategray')\n",
        "    plt.xlabel('x')\n",
        "    plt.ylabel('y')\n",
        "    plt.xlim(-3,5)\n",
        "    plt.ylim(0,4)\n",
        "    \n",
        "    # This line creates a blue dot representing the particle at time t\n",
        "    plt.plot(r1(t),r2(t),'o',color='cornflowerblue')"
      ],
      "execution_count": null,
      "outputs": [
        {
          "output_type": "display_data",
          "data": {
            "application/vnd.jupyter.widget-view+json": {
              "model_id": "66f883a467d94e85ba68ca7275d05057",
              "version_minor": 0,
              "version_major": 2
            },
            "text/plain": [
              "interactive(children=(FloatSlider(value=0.0, description='t', max=3.0, step=0.01), Output()), _dom_classes=('w…"
            ]
          },
          "metadata": {
            "tags": []
          }
        }
      ]
    },
    {
      "cell_type": "markdown",
      "metadata": {
        "id": "yOVLueHvhyJY"
      },
      "source": [
        "## Exercise 1\n",
        "\n",
        "* Create an interactive plot to represent the parameterised path\n",
        "\n",
        "$$\n",
        "\\vec{r}(t)=2e^{-t}\\cos(2\\pi t))\\hat{\\imath} + 4e^{-t}\\sin(2\\pi t))\\hat{\\jmath} \\text{ for }0\\leq t\\leq 2.\n",
        "$$"
      ]
    },
    {
      "cell_type": "code",
      "metadata": {
        "id": "R2SsTQvOhyJY"
      },
      "source": [
        ""
      ],
      "execution_count": null,
      "outputs": []
    },
    {
      "cell_type": "code",
      "metadata": {
        "id": "_gzrmGz-hyJY"
      },
      "source": [
        ""
      ],
      "execution_count": null,
      "outputs": []
    },
    {
      "cell_type": "code",
      "metadata": {
        "id": "LiZWfHRAhyJY"
      },
      "source": [
        ""
      ],
      "execution_count": null,
      "outputs": []
    },
    {
      "cell_type": "code",
      "metadata": {
        "id": "oKzIQO2yhyJZ"
      },
      "source": [
        ""
      ],
      "execution_count": null,
      "outputs": []
    },
    {
      "cell_type": "markdown",
      "metadata": {
        "id": "IUEYJdZahyJZ"
      },
      "source": [
        "# Vector fields along paths \n",
        "\n",
        "* We have already seen vector fields $\\vec{F}(x,y)$ in 2D space in our previous workbooks.\n",
        "\n",
        "\n",
        "* As you know, a vector field creates an individual vector at each point $(x,y)$ in the plane. As we move about in the plane, the vector will change its length and direction.\n",
        "\n",
        "\n",
        "* We can restrict where we evaluate this vector, in particular we can easily plot a vector field along a parameterised path\n",
        "$$\n",
        "\\vec{r}(t) = r_{1}(t)\\hat{\\imath} + r_{2}(t)\\hat{\\jmath}\n",
        "$$\n",
        "when we note that $r_{1}(t)$ represents the $x$-coorindate along the path and $r_{2}(t)$ represents the $y$-coordinate along the path.\n",
        "\n",
        "\n",
        "* It follows, the the vector field $\\vec{F}$ restricted to the path $\\vec{r}(t)$ is given by\n",
        "\n",
        "$$\n",
        "\\vec{F}(\\vec{r}(t)) = \\vec{F}(r_{1}(t),r_{2}(t)).\n",
        "$$"
      ]
    },
    {
      "cell_type": "markdown",
      "metadata": {
        "id": "lAPeMgjthyJZ"
      },
      "source": [
        "## Example 3\n",
        "\n",
        "* Plot the vector field \n",
        "$$\n",
        "\\vec{F}(x,y) = xy\\hat{\\imath}-\\frac{x^2+y^2}{5}\\hat{\\jmath}\n",
        "$$\n",
        "along the parameterised path\n",
        "\n",
        "$$\n",
        "\\vec{r}(t) = 2.3\\cos(2\\pi t) + 1.1\\sin(2\\pi t) \\text{ for } 0\\leq t \\leq 1\n",
        "$$"
      ]
    },
    {
      "cell_type": "markdown",
      "metadata": {
        "id": "sD5nODIYhyJZ"
      },
      "source": [
        "### Step 1\n",
        "\n",
        "* Create functions to represent the components of the vector field"
      ]
    },
    {
      "cell_type": "code",
      "metadata": {
        "id": "DQAQMVShhyJa"
      },
      "source": [
        "def F1(x,y):\n",
        "    return x*y\n",
        "\n",
        "\n",
        "def F2(x,y):\n",
        "    return -(x**2+y**2)/5"
      ],
      "execution_count": null,
      "outputs": []
    },
    {
      "cell_type": "markdown",
      "metadata": {
        "id": "2ppxJMy4hyJa"
      },
      "source": [
        "### Step 2\n",
        "\n",
        "* Create functions to represent the components of the parameterised path"
      ]
    },
    {
      "cell_type": "code",
      "metadata": {
        "id": "yBSPqel9hyJb"
      },
      "source": [
        "def r1(t):\n",
        "    return 2.3*cos(2*pi*t)\n",
        "\n",
        "\n",
        "def r2(t):\n",
        "    return 1.1*sin(2*pi*t)"
      ],
      "execution_count": null,
      "outputs": []
    },
    {
      "cell_type": "markdown",
      "metadata": {
        "id": "mEJmOcR-hyJb"
      },
      "source": [
        "### Step 3\n",
        "\n",
        "* Create a linspace to represent the full time interval and plot the full path"
      ]
    },
    {
      "cell_type": "code",
      "metadata": {
        "colab": {
          "base_uri": "https://localhost:8080/",
          "height": 410
        },
        "id": "DFsJumFQhyJb",
        "outputId": "6b7a396f-bac3-401b-f393-8f954f8d2dd1"
      },
      "source": [
        "T=np.linspace(0,1,161)\n",
        "plt.figure(figsize=(6,6))\n",
        "plt.plot(r1(T),r2(T),ls='--',color='darkslategray')\n",
        "plt.xlabel('x')\n",
        "plt.ylabel('y')\n",
        "plt.xlim(-3,3)\n",
        "plt.ylim(-3,3)"
      ],
      "execution_count": null,
      "outputs": [
        {
          "output_type": "execute_result",
          "data": {
            "text/plain": [
              "(-3.0, 3.0)"
            ]
          },
          "metadata": {
            "tags": []
          },
          "execution_count": 10
        },
        {
          "output_type": "display_data",
          "data": {
            "image/png": "[encoded data removed]",
            "text/plain": [
              "<Figure size 432x432 with 1 Axes>"
            ]
          },
          "metadata": {
            "tags": [],
            "needs_background": "light"
          }
        }
      ]
    },
    {
      "cell_type": "markdown",
      "metadata": {
        "id": "s9ObS2ujhyJc"
      },
      "source": [
        "## Step 4\n",
        "\n",
        "* Use the __quiver__ function to plot the vector field along the parameterised path"
      ]
    },
    {
      "cell_type": "code",
      "metadata": {
        "colab": {
          "base_uri": "https://localhost:8080/",
          "height": 410
        },
        "id": "1zcoV25OhyJd",
        "outputId": "07ca21af-bcbd-4584-a73a-554b50d8f264"
      },
      "source": [
        "T=np.linspace(0,1,161)\n",
        "n=5\n",
        "Tn=T[::n]\n",
        "plt.figure(figsize=(6,6))\n",
        "plt.plot(r1(T),r2(T),ls='--',color='darkslategray')\n",
        "plt.quiver(r1(Tn),r2(Tn),F1(r1(Tn),r2(Tn)),F2(r1(Tn),r2(Tn)),scale=10)\n",
        "plt.xlabel('x')\n",
        "plt.ylabel('y')\n",
        "plt.xlim(-3,3)\n",
        "plt.ylim(-3,3)"
      ],
      "execution_count": null,
      "outputs": [
        {
          "output_type": "execute_result",
          "data": {
            "text/plain": [
              "(-3.0, 3.0)"
            ]
          },
          "metadata": {
            "tags": []
          },
          "execution_count": 11
        },
        {
          "output_type": "display_data",
          "data": {
            "image/png": "[encoded data removed]",
            "text/plain": [
              "<Figure size 432x432 with 1 Axes>"
            ]
          },
          "metadata": {
            "tags": [],
            "needs_background": "light"
          }
        }
      ]
    },
    {
      "cell_type": "markdown",
      "metadata": {
        "id": "Ds4ebxfFhyJd"
      },
      "source": [
        "## Alternatively\n",
        "\n",
        "* Instead of plotting all the vectors simultaneously, we could create an interactive plot to represent the vector as it moves along the path."
      ]
    },
    {
      "cell_type": "code",
      "metadata": {
        "colab": {
          "base_uri": "https://localhost:8080/",
          "height": 424,
          "referenced_widgets": [
            "f11296802e7b44edb083ab83542269a2",
            "3dcc4e261ec84b898f3d133c08aeeb78",
            "628e10c8ab4d438f88e1ddc5b6dc1435",
            "588d7514f38f46588f629dabcbf2953a",
            "f03cc44607574f7f932038835fd45260",
            "7366aa72345e47cb906e075778b8e6b0",
            "2c8151f46b8e4282b2adcd84e6fa01af"
          ]
        },
        "id": "u6JY_2zchyJd",
        "outputId": "16429500-2c8d-40cc-cf9d-8da22b8b4420"
      },
      "source": [
        "T=np.linspace(0,1,161)\n",
        "@interact(t=(0,1,0.01))\n",
        "def MovingPlot2(t=0.0):\n",
        "    # The following lines are the plot above\n",
        "    plt.figure(figsize=(6,6))\n",
        "    plt.plot(r1(T),r2(T),ls='--',color='darkslategray')\n",
        "    plt.xlabel('x')\n",
        "    plt.ylabel('y')\n",
        "    plt.xlim(-3,3)\n",
        "    plt.ylim(-3,3)\n",
        "    \n",
        "    # This line creates a blue dot representing the particle at time t\n",
        "    plt.plot(r1(t),r2(t),'o',color='cornflowerblue')\n",
        "    \n",
        "    # This line creates a vector which moves with the blue dot\n",
        "    plt.quiver(r1(t),r2(t),F1(r1(t),r2(t)),F2(r1(t),r2(t)),scale=10)\n"
      ],
      "execution_count": null,
      "outputs": [
        {
          "output_type": "display_data",
          "data": {
            "application/vnd.jupyter.widget-view+json": {
              "model_id": "f11296802e7b44edb083ab83542269a2",
              "version_minor": 0,
              "version_major": 2
            },
            "text/plain": [
              "interactive(children=(FloatSlider(value=0.0, description='t', max=1.0, step=0.01), Output()), _dom_classes=('w…"
            ]
          },
          "metadata": {
            "tags": []
          }
        }
      ]
    },
    {
      "cell_type": "markdown",
      "metadata": {
        "id": "BwNaMa4ChyJd"
      },
      "source": [
        "## Exercise 2\n",
        "\n",
        "* Create an interactive plot to represent the vector field\n",
        "$$\n",
        "\\vec{F}(x,y) = 1.4\\cos(2y)\\hat{\\imath} +2.3\\sin(x)\\hat{\\jmath}\n",
        "$$\n",
        "along the parameterised path\n",
        "$$\n",
        "\\vec{r}(t) = e^{-t}\\sin(2\\pi t) + 1.4e^{-t}\\cos(2\\pi t) \\text{ for }0\\leq t\\leq 1\n",
        "$$"
      ]
    },
    {
      "cell_type": "code",
      "metadata": {
        "id": "b0hlQ8YthyJd"
      },
      "source": [
        ""
      ],
      "execution_count": null,
      "outputs": []
    },
    {
      "cell_type": "code",
      "metadata": {
        "id": "hV-haYh-hyJf"
      },
      "source": [
        ""
      ],
      "execution_count": null,
      "outputs": []
    },
    {
      "cell_type": "code",
      "metadata": {
        "id": "zBNDKcFNhyJf"
      },
      "source": [
        ""
      ],
      "execution_count": null,
      "outputs": []
    },
    {
      "cell_type": "code",
      "metadata": {
        "id": "EDS4DT0phyJf"
      },
      "source": [
        ""
      ],
      "execution_count": null,
      "outputs": []
    },
    {
      "cell_type": "code",
      "metadata": {
        "id": "HkwbgkMUhyJf"
      },
      "source": [
        ""
      ],
      "execution_count": null,
      "outputs": []
    },
    {
      "cell_type": "code",
      "metadata": {
        "id": "_p-a0c11hyJf"
      },
      "source": [
        ""
      ],
      "execution_count": null,
      "outputs": []
    },
    {
      "cell_type": "code",
      "metadata": {
        "id": "4Kx8tDxJhyJg"
      },
      "source": [
        ""
      ],
      "execution_count": null,
      "outputs": []
    },
    {
      "cell_type": "markdown",
      "metadata": {
        "id": "Dg1pl2zehyJg"
      },
      "source": [
        "# Work Elements\n",
        "\n",
        "* The work element of a vector field $F(x,y)$ along a parameterised path $r(t)$ is defined as\n",
        "\n",
        "$$\n",
        "dW = \\vec{F}(\\vec{r}(t))\\cdot\\frac{d\\vec{r}}{dt}dt.\n",
        "$$\n",
        "\n",
        "\n",
        "* It reresents the __infintessimal__ amount of work done by the __force__ $F(x,y)$ on the particle moving along the path $\\vec{r}(t)$ in the infinitessimal amount of time $dt$.\n",
        "\n",
        "\n",
        "* In lectures we will calculate these explicitly, for now we will try to plot it here in python!!"
      ]
    },
    {
      "cell_type": "markdown",
      "metadata": {
        "id": "A2RkO4FRhyJh"
      },
      "source": [
        "## Example 4\n",
        "\n",
        "* Plot the vector field \n",
        "$$\n",
        "\\vec{F}(x,y) = 3y\\hat{\\imath} + x\\hat{\\jmath},\n",
        "$$\n",
        "along the parameterised path\n",
        "$$\n",
        "\\vec{r}(t) = e^{-0.4t}\\cos(3\\pi t)\\hat{\\imath} -e^{-0.4t}\\sin(3\\pi t) \\text{ for }0\\leq t \\leq 1.\n",
        "$$\n",
        "\n",
        "* Plot the __velocity__ vector of the path\n",
        "$$\n",
        "\\vec{v}(t)=\\frac{d\\vec{r}}{dt} = e^{-0.4t}(-0.4\\cos(3\\pi t)-3\\pi\\sin(3\\pi t))\\hat{\\imath} + e^{-0.4t}(0.4\\sin(3\\pi t)-3\\pi\\cos(3\\pi t))\\hat{\\jmath},\n",
        "$$\n",
        "on the same plot.\n",
        "\n",
        "\n",
        "* To make things clearer, you should use different colours for the vector field and the velocity vector. "
      ]
    },
    {
      "cell_type": "markdown",
      "metadata": {
        "id": "jqh4jSX0hyJh"
      },
      "source": [
        "### Step 1\n",
        "\n",
        "* Define the functions for the parameterised path"
      ]
    },
    {
      "cell_type": "code",
      "metadata": {
        "id": "7wOWaDdKhyJh"
      },
      "source": [
        "def r1(t):\n",
        "    return exp(-0.4*t)*cos(3*pi*t)\n",
        "\n",
        "\n",
        "def r2(t):\n",
        "    return -exp(-0.4*t)*sin(3*pi*t)"
      ],
      "execution_count": null,
      "outputs": []
    },
    {
      "cell_type": "markdown",
      "metadata": {
        "id": "B3QjEsndhyJh"
      },
      "source": [
        "### Step 2\n",
        "\n",
        "* Define functions for the velocity vector"
      ]
    },
    {
      "cell_type": "code",
      "metadata": {
        "id": "1eyWVhjkhyJh"
      },
      "source": [
        "def v1(t):\n",
        "    return exp(-0.4*t)*(-0.4*cos(3*pi*t)-3*pi*sin(3*pi*t))\n",
        "\n",
        "\n",
        "def v2(t):\n",
        "    return exp(-0.4*t)*(0.4*sin(3*pi*t)-3*pi*cos(3*pi*t))"
      ],
      "execution_count": null,
      "outputs": []
    },
    {
      "cell_type": "markdown",
      "metadata": {
        "id": "tZOixnNqhyJi"
      },
      "source": [
        "### Step 3\n",
        "\n",
        "* Define functions for the vector (force) field $F(x,y)$"
      ]
    },
    {
      "cell_type": "code",
      "metadata": {
        "id": "Sxq-xbSKhyJi"
      },
      "source": [
        "def F1(x,y):\n",
        "    return 3*y\n",
        "\n",
        "def F2(x,y):\n",
        "    return x"
      ],
      "execution_count": null,
      "outputs": []
    },
    {
      "cell_type": "markdown",
      "metadata": {
        "id": "5TlE07c2hyJi"
      },
      "source": [
        "### Step 4\n",
        "\n",
        "* Use the previous plots and add an extra quiver plot for the velocity field"
      ]
    },
    {
      "cell_type": "code",
      "metadata": {
        "colab": {
          "base_uri": "https://localhost:8080/",
          "height": 420,
          "referenced_widgets": [
            "42f9b071c9c74674b4965e60a6ef9705",
            "b081d28acee34a2a9838af6db2215f42",
            "54242cf6617e4d0f86167437239607d3",
            "0ef4bdffe3ca4a6bb53b4cb083330e95",
            "16dc215d1b8b437ab2f9b1684b6e6262",
            "c91da6c2e0fe47089e56f4e5f919e03a",
            "7d45a7da4b934ae982502109cdefc22e"
          ]
        },
        "id": "1SLMb_mkhyJj",
        "outputId": "628c228a-6645-41db-8977-aab1ad0dcc75"
      },
      "source": [
        "T=np.linspace(0,1,161)\n",
        "@interact(t=(0,1,0.01))\n",
        "def MovingPlot2(t=0.0):\n",
        "    # The following lines are the plot above\n",
        "    plt.figure(figsize=(6,6))\n",
        "    plt.plot(r1(T),r2(T),ls='--',color='darkslategray')\n",
        "    plt.xlabel('x')\n",
        "    plt.ylabel('y')\n",
        "    plt.xlim(-1.2,1.2)\n",
        "    plt.ylim(-1.2,1.2)\n",
        "    \n",
        "    # This line creates a blue dot representing the particle at time t\n",
        "    plt.plot(r1(t),r2(t),'o',color='cornflowerblue')\n",
        "    \n",
        "    # This line creates an orange vector representing the force F which moves with the blue dot\n",
        "    plt.quiver(r1(t),r2(t),F1(r1(t),r2(t)),F2(r1(t),r2(t)),scale=10,color='orange')\n",
        "    \n",
        "    # This line creates an red vector representing the velocity v which moves with the blue dot\n",
        "    plt.quiver(r1(t),r2(t),v1(t),v2(t),scale=30,color='red')\n",
        "    "
      ],
      "execution_count": null,
      "outputs": [
        {
          "output_type": "display_data",
          "data": {
            "application/vnd.jupyter.widget-view+json": {
              "model_id": "42f9b071c9c74674b4965e60a6ef9705",
              "version_minor": 0,
              "version_major": 2
            },
            "text/plain": [
              "interactive(children=(FloatSlider(value=0.0, description='t', max=1.0, step=0.01), Output()), _dom_classes=('w…"
            ]
          },
          "metadata": {
            "tags": []
          }
        }
      ]
    },
    {
      "cell_type": "code",
      "metadata": {
        "id": "c_E_n8DGhyJk"
      },
      "source": [
        ""
      ],
      "execution_count": null,
      "outputs": []
    },
    {
      "cell_type": "code",
      "metadata": {
        "id": "uDAwMyJShyJk"
      },
      "source": [
        ""
      ],
      "execution_count": null,
      "outputs": []
    },
    {
      "cell_type": "markdown",
      "metadata": {
        "id": "UClp1lTHhyJl"
      },
      "source": [
        "## Exercise 3\n",
        "\n",
        "* Plot the vector field \n",
        "$$\n",
        "\\vec{F}(x,y) = 0.5(x+y)\\hat{\\imath} + (2x-y)\\hat{\\jmath},\n",
        "$$\n",
        "along the parameterised path\n",
        "$$\n",
        "\\vec{r}(t) = e^{-0.8t}\\sin(4\\pi t)\\hat{\\imath}+e^{-0.8t}\\cos(4\\pi t) \\text{ for }0\\leq t \\leq 1.\n",
        "$$\n",
        "\n",
        "* Plot the __velocity__ vector of the path\n",
        "$$\n",
        "\\vec{v}(t)=\\frac{d\\vec{r}}{dt} = e^{-0.8t}(-0.8\\sin(4\\pi t)+4\\pi\\cos(4\\pi t))\\hat{\\imath} + e^{-0.8t}(-0.8\\cos(4\\pi t)-4\\pi\\sin(4\\pi t))\\hat{\\jmath},\n",
        "$$\n",
        "on the same plot.\n",
        "\n",
        "\n",
        "* To make things clearer, you should use different colours for the vector field and the velocity vector. "
      ]
    },
    {
      "cell_type": "code",
      "metadata": {
        "id": "mR9g_IfthyJl"
      },
      "source": [
        ""
      ],
      "execution_count": null,
      "outputs": []
    },
    {
      "cell_type": "code",
      "metadata": {
        "id": "L12Zz6i3hyJl"
      },
      "source": [
        ""
      ],
      "execution_count": null,
      "outputs": []
    },
    {
      "cell_type": "code",
      "metadata": {
        "id": "zkgSy9YqhyJl"
      },
      "source": [
        ""
      ],
      "execution_count": null,
      "outputs": []
    },
    {
      "cell_type": "code",
      "metadata": {
        "id": "H03N53HehyJm"
      },
      "source": [
        ""
      ],
      "execution_count": null,
      "outputs": []
    },
    {
      "cell_type": "code",
      "metadata": {
        "id": "ZC6zSGt_hyJm"
      },
      "source": [
        ""
      ],
      "execution_count": null,
      "outputs": []
    },
    {
      "cell_type": "code",
      "metadata": {
        "id": "NpnX_JxLhyJn"
      },
      "source": [
        ""
      ],
      "execution_count": null,
      "outputs": []
    },
    {
      "cell_type": "code",
      "metadata": {
        "id": "NJBUBK9GhyJn"
      },
      "source": [
        ""
      ],
      "execution_count": null,
      "outputs": []
    },
    {
      "cell_type": "code",
      "metadata": {
        "id": "AcztBfoThyJn"
      },
      "source": [
        ""
      ],
      "execution_count": null,
      "outputs": []
    },
    {
      "cell_type": "code",
      "metadata": {
        "id": "D6D9g_JOhyJn"
      },
      "source": [
        ""
      ],
      "execution_count": null,
      "outputs": []
    }
  ]
}