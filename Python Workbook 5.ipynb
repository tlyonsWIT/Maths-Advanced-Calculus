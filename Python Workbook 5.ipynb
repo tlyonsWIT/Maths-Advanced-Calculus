{
  "nbformat": 4,
  "nbformat_minor": 0,
  "metadata": {
    "kernelspec": {
      "display_name": "Python 3",
      "language": "python",
      "name": "python3"
    },
    "language_info": {
      "codemirror_mode": {
        "name": "ipython",
        "version": 3
      },
      "file_extension": ".py",
      "mimetype": "text/x-python",
      "name": "python",
      "nbconvert_exporter": "python",
      "pygments_lexer": "ipython3",
      "version": "3.8.3"
    },
    "colab": {
      "name": "Python Workbook 5.ipynb",
      "provenance": [],
      "include_colab_link": true
    },
    "widgets": {
      "application/vnd.jupyter.widget-state+json": {
        "b02e9e0e3fea40e186a0b5d7e5f11bd0": {
          "model_module": "@jupyter-widgets/controls",
          "model_name": "VBoxModel",
          "state": {
            "_view_name": "VBoxView",
            "_dom_classes": [
              "widget-interact"
            ],
            "_model_name": "VBoxModel",
            "_view_module": "@jupyter-widgets/controls",
            "_model_module_version": "1.5.0",
            "_view_count": null,
            "_view_module_version": "1.5.0",
            "box_style": "",
            "layout": "IPY_MODEL_e7c76d36f2f048fabafbef009c2aa2d4",
            "_model_module": "@jupyter-widgets/controls",
            "children": [
              "IPY_MODEL_bc44421d72d14c3eb1ea86f2bda34bf8",
              "IPY_MODEL_c6018a723c344c97a481f587bc0153f8"
            ]
          }
        },
        "e7c76d36f2f048fabafbef009c2aa2d4": {
          "model_module": "@jupyter-widgets/base",
          "model_name": "LayoutModel",
          "state": {
            "_view_name": "LayoutView",
            "grid_template_rows": null,
            "right": null,
            "justify_content": null,
            "_view_module": "@jupyter-widgets/base",
            "overflow": null,
            "_model_module_version": "1.2.0",
            "_view_count": null,
            "flex_flow": null,
            "width": null,
            "min_width": null,
            "border": null,
            "align_items": null,
            "bottom": null,
            "_model_module": "@jupyter-widgets/base",
            "top": null,
            "grid_column": null,
            "overflow_y": null,
            "overflow_x": null,
            "grid_auto_flow": null,
            "grid_area": null,
            "grid_template_columns": null,
            "flex": null,
            "_model_name": "LayoutModel",
            "justify_items": null,
            "grid_row": null,
            "max_height": null,
            "align_content": null,
            "visibility": null,
            "align_self": null,
            "height": null,
            "min_height": null,
            "padding": null,
            "grid_auto_rows": null,
            "grid_gap": null,
            "max_width": null,
            "order": null,
            "_view_module_version": "1.2.0",
            "grid_template_areas": null,
            "object_position": null,
            "object_fit": null,
            "grid_auto_columns": null,
            "margin": null,
            "display": null,
            "left": null
          }
        },
        "bc44421d72d14c3eb1ea86f2bda34bf8": {
          "model_module": "@jupyter-widgets/controls",
          "model_name": "FloatSliderModel",
          "state": {
            "_view_name": "FloatSliderView",
            "style": "IPY_MODEL_1451aa7b3fc9461780550960f372e579",
            "_dom_classes": [],
            "description": "t",
            "step": 0.01,
            "_model_name": "FloatSliderModel",
            "orientation": "horizontal",
            "max": 5,
            "_view_module": "@jupyter-widgets/controls",
            "_model_module_version": "1.5.0",
            "value": 5,
            "_view_count": null,
            "disabled": false,
            "_view_module_version": "1.5.0",
            "min": 0,
            "continuous_update": true,
            "readout_format": ".2f",
            "description_tooltip": null,
            "readout": true,
            "_model_module": "@jupyter-widgets/controls",
            "layout": "IPY_MODEL_44db5f91c78a4c7cb25cd58ee78967ad"
          }
        },
        "c6018a723c344c97a481f587bc0153f8": {
          "model_module": "@jupyter-widgets/output",
          "model_name": "OutputModel",
          "state": {
            "_view_name": "OutputView",
            "msg_id": "",
            "_dom_classes": [],
            "_model_name": "OutputModel",
            "outputs": [
              {
                "output_type": "display_data",
                "metadata": {
                  "tags": [],
                  "needs_background": "light"
                },
                "image/png": "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\n",
                "text/plain": "<Figure size 432x432 with 1 Axes>"
              }
            ],
            "_view_module": "@jupyter-widgets/output",
            "_model_module_version": "1.0.0",
            "_view_count": null,
            "_view_module_version": "1.0.0",
            "layout": "IPY_MODEL_8fddf93d1a46498c9bb975f379a396c4",
            "_model_module": "@jupyter-widgets/output"
          }
        },
        "1451aa7b3fc9461780550960f372e579": {
          "model_module": "@jupyter-widgets/controls",
          "model_name": "SliderStyleModel",
          "state": {
            "_view_name": "StyleView",
            "handle_color": null,
            "_model_name": "SliderStyleModel",
            "description_width": "",
            "_view_module": "@jupyter-widgets/base",
            "_model_module_version": "1.5.0",
            "_view_count": null,
            "_view_module_version": "1.2.0",
            "_model_module": "@jupyter-widgets/controls"
          }
        },
        "44db5f91c78a4c7cb25cd58ee78967ad": {
          "model_module": "@jupyter-widgets/base",
          "model_name": "LayoutModel",
          "state": {
            "_view_name": "LayoutView",
            "grid_template_rows": null,
            "right": null,
            "justify_content": null,
            "_view_module": "@jupyter-widgets/base",
            "overflow": null,
            "_model_module_version": "1.2.0",
            "_view_count": null,
            "flex_flow": null,
            "width": null,
            "min_width": null,
            "border": null,
            "align_items": null,
            "bottom": null,
            "_model_module": "@jupyter-widgets/base",
            "top": null,
            "grid_column": null,
            "overflow_y": null,
            "overflow_x": null,
            "grid_auto_flow": null,
            "grid_area": null,
            "grid_template_columns": null,
            "flex": null,
            "_model_name": "LayoutModel",
            "justify_items": null,
            "grid_row": null,
            "max_height": null,
            "align_content": null,
            "visibility": null,
            "align_self": null,
            "height": null,
            "min_height": null,
            "padding": null,
            "grid_auto_rows": null,
            "grid_gap": null,
            "max_width": null,
            "order": null,
            "_view_module_version": "1.2.0",
            "grid_template_areas": null,
            "object_position": null,
            "object_fit": null,
            "grid_auto_columns": null,
            "margin": null,
            "display": null,
            "left": null
          }
        },
        "8fddf93d1a46498c9bb975f379a396c4": {
          "model_module": "@jupyter-widgets/base",
          "model_name": "LayoutModel",
          "state": {
            "_view_name": "LayoutView",
            "grid_template_rows": null,
            "right": null,
            "justify_content": null,
            "_view_module": "@jupyter-widgets/base",
            "overflow": null,
            "_model_module_version": "1.2.0",
            "_view_count": null,
            "flex_flow": null,
            "width": null,
            "min_width": null,
            "border": null,
            "align_items": null,
            "bottom": null,
            "_model_module": "@jupyter-widgets/base",
            "top": null,
            "grid_column": null,
            "overflow_y": null,
            "overflow_x": null,
            "grid_auto_flow": null,
            "grid_area": null,
            "grid_template_columns": null,
            "flex": null,
            "_model_name": "LayoutModel",
            "justify_items": null,
            "grid_row": null,
            "max_height": null,
            "align_content": null,
            "visibility": null,
            "align_self": null,
            "height": null,
            "min_height": null,
            "padding": null,
            "grid_auto_rows": null,
            "grid_gap": null,
            "max_width": null,
            "order": null,
            "_view_module_version": "1.2.0",
            "grid_template_areas": null,
            "object_position": null,
            "object_fit": null,
            "grid_auto_columns": null,
            "margin": null,
            "display": null,
            "left": null
          }
        },
        "66f883a467d94e85ba68ca7275d05057": {
          "model_module": "@jupyter-widgets/controls",
          "model_name": "VBoxModel",
          "state": {
            "_view_name": "VBoxView",
            "_dom_classes": [
              "widget-interact"
            ],
            "_model_name": "VBoxModel",
            "_view_module": "@jupyter-widgets/controls",
            "_model_module_version": "1.5.0",
            "_view_count": null,
            "_view_module_version": "1.5.0",
            "box_style": "",
            "layout": "IPY_MODEL_6352fc2d1af94a7791f6f4f711b67e5a",
            "_model_module": "@jupyter-widgets/controls",
            "children": [
              "IPY_MODEL_f1a76a0015f74de2923cac7726e6f3bc",
              "IPY_MODEL_efaa51ab695048cb95e74b2fb41bf09b"
            ]
          }
        },
        "6352fc2d1af94a7791f6f4f711b67e5a": {
          "model_module": "@jupyter-widgets/base",
          "model_name": "LayoutModel",
          "state": {
            "_view_name": "LayoutView",
            "grid_template_rows": null,
            "right": null,
            "justify_content": null,
            "_view_module": "@jupyter-widgets/base",
            "overflow": null,
            "_model_module_version": "1.2.0",
            "_view_count": null,
            "flex_flow": null,
            "width": null,
            "min_width": null,
            "border": null,
            "align_items": null,
            "bottom": null,
            "_model_module": "@jupyter-widgets/base",
            "top": null,
            "grid_column": null,
            "overflow_y": null,
            "overflow_x": null,
            "grid_auto_flow": null,
            "grid_area": null,
            "grid_template_columns": null,
            "flex": null,
            "_model_name": "LayoutModel",
            "justify_items": null,
            "grid_row": null,
            "max_height": null,
            "align_content": null,
            "visibility": null,
            "align_self": null,
            "height": null,
            "min_height": null,
            "padding": null,
            "grid_auto_rows": null,
            "grid_gap": null,
            "max_width": null,
            "order": null,
            "_view_module_version": "1.2.0",
            "grid_template_areas": null,
            "object_position": null,
            "object_fit": null,
            "grid_auto_columns": null,
            "margin": null,
            "display": null,
            "left": null
          }
        },
        "f1a76a0015f74de2923cac7726e6f3bc": {
          "model_module": "@jupyter-widgets/controls",
          "model_name": "FloatSliderModel",
          "state": {
            "_view_name": "FloatSliderView",
            "style": "IPY_MODEL_ffea74eaac864cac9153f000376c08f3",
            "_dom_classes": [],
            "description": "t",
            "step": 0.01,
            "_model_name": "FloatSliderModel",
            "orientation": "horizontal",
            "max": 3,
            "_view_module": "@jupyter-widgets/controls",
            "_model_module_version": "1.5.0",
            "value": 3,
            "_view_count": null,
            "disabled": false,
            "_view_module_version": "1.5.0",
            "min": 0,
            "continuous_update": true,
            "readout_format": ".2f",
            "description_tooltip": null,
            "readout": true,
            "_model_module": "@jupyter-widgets/controls",
            "layout": "IPY_MODEL_46f882498fe240de94d1aec7b6486a1e"
          }
        },
        "efaa51ab695048cb95e74b2fb41bf09b": {
          "model_module": "@jupyter-widgets/output",
          "model_name": "OutputModel",
          "state": {
            "_view_name": "OutputView",
            "msg_id": "",
            "_dom_classes": [],
            "_model_name": "OutputModel",
            "outputs": [
              {
                "output_type": "display_data",
                "metadata": {
                  "tags": [],
                  "needs_background": "light"
                },
                "image/png": "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\n",
                "text/plain": "<Figure size 432x432 with 1 Axes>"
              }
            ],
            "_view_module": "@jupyter-widgets/output",
            "_model_module_version": "1.0.0",
            "_view_count": null,
            "_view_module_version": "1.0.0",
            "layout": "IPY_MODEL_567b44e129c7499dadf78349ea3b8989",
            "_model_module": "@jupyter-widgets/output"
          }
        },
        "ffea74eaac864cac9153f000376c08f3": {
          "model_module": "@jupyter-widgets/controls",
          "model_name": "SliderStyleModel",
          "state": {
            "_view_name": "StyleView",
            "handle_color": null,
            "_model_name": "SliderStyleModel",
            "description_width": "",
            "_view_module": "@jupyter-widgets/base",
            "_model_module_version": "1.5.0",
            "_view_count": null,
            "_view_module_version": "1.2.0",
            "_model_module": "@jupyter-widgets/controls"
          }
        },
        "46f882498fe240de94d1aec7b6486a1e": {
          "model_module": "@jupyter-widgets/base",
          "model_name": "LayoutModel",
          "state": {
            "_view_name": "LayoutView",
            "grid_template_rows": null,
            "right": null,
            "justify_content": null,
            "_view_module": "@jupyter-widgets/base",
            "overflow": null,
            "_model_module_version": "1.2.0",
            "_view_count": null,
            "flex_flow": null,
            "width": null,
            "min_width": null,
            "border": null,
            "align_items": null,
            "bottom": null,
            "_model_module": "@jupyter-widgets/base",
            "top": null,
            "grid_column": null,
            "overflow_y": null,
            "overflow_x": null,
            "grid_auto_flow": null,
            "grid_area": null,
            "grid_template_columns": null,
            "flex": null,
            "_model_name": "LayoutModel",
            "justify_items": null,
            "grid_row": null,
            "max_height": null,
            "align_content": null,
            "visibility": null,
            "align_self": null,
            "height": null,
            "min_height": null,
            "padding": null,
            "grid_auto_rows": null,
            "grid_gap": null,
            "max_width": null,
            "order": null,
            "_view_module_version": "1.2.0",
            "grid_template_areas": null,
            "object_position": null,
            "object_fit": null,
            "grid_auto_columns": null,
            "margin": null,
            "display": null,
            "left": null
          }
        },
        "567b44e129c7499dadf78349ea3b8989": {
          "model_module": "@jupyter-widgets/base",
          "model_name": "LayoutModel",
          "state": {
            "_view_name": "LayoutView",
            "grid_template_rows": null,
            "right": null,
            "justify_content": null,
            "_view_module": "@jupyter-widgets/base",
            "overflow": null,
            "_model_module_version": "1.2.0",
            "_view_count": null,
            "flex_flow": null,
            "width": null,
            "min_width": null,
            "border": null,
            "align_items": null,
            "bottom": null,
            "_model_module": "@jupyter-widgets/base",
            "top": null,
            "grid_column": null,
            "overflow_y": null,
            "overflow_x": null,
            "grid_auto_flow": null,
            "grid_area": null,
            "grid_template_columns": null,
            "flex": null,
            "_model_name": "LayoutModel",
            "justify_items": null,
            "grid_row": null,
            "max_height": null,
            "align_content": null,
            "visibility": null,
            "align_self": null,
            "height": null,
            "min_height": null,
            "padding": null,
            "grid_auto_rows": null,
            "grid_gap": null,
            "max_width": null,
            "order": null,
            "_view_module_version": "1.2.0",
            "grid_template_areas": null,
            "object_position": null,
            "object_fit": null,
            "grid_auto_columns": null,
            "margin": null,
            "display": null,
            "left": null
          }
        },
        "f11296802e7b44edb083ab83542269a2": {
          "model_module": "@jupyter-widgets/controls",
          "model_name": "VBoxModel",
          "state": {
            "_view_name": "VBoxView",
            "_dom_classes": [
              "widget-interact"
            ],
            "_model_name": "VBoxModel",
            "_view_module": "@jupyter-widgets/controls",
            "_model_module_version": "1.5.0",
            "_view_count": null,
            "_view_module_version": "1.5.0",
            "box_style": "",
            "layout": "IPY_MODEL_3dcc4e261ec84b898f3d133c08aeeb78",
            "_model_module": "@jupyter-widgets/controls",
            "children": [
              "IPY_MODEL_628e10c8ab4d438f88e1ddc5b6dc1435",
              "IPY_MODEL_588d7514f38f46588f629dabcbf2953a"
            ]
          }
        },
        "3dcc4e261ec84b898f3d133c08aeeb78": {
          "model_module": "@jupyter-widgets/base",
          "model_name": "LayoutModel",
          "state": {
            "_view_name": "LayoutView",
            "grid_template_rows": null,
            "right": null,
            "justify_content": null,
            "_view_module": "@jupyter-widgets/base",
            "overflow": null,
            "_model_module_version": "1.2.0",
            "_view_count": null,
            "flex_flow": null,
            "width": null,
            "min_width": null,
            "border": null,
            "align_items": null,
            "bottom": null,
            "_model_module": "@jupyter-widgets/base",
            "top": null,
            "grid_column": null,
            "overflow_y": null,
            "overflow_x": null,
            "grid_auto_flow": null,
            "grid_area": null,
            "grid_template_columns": null,
            "flex": null,
            "_model_name": "LayoutModel",
            "justify_items": null,
            "grid_row": null,
            "max_height": null,
            "align_content": null,
            "visibility": null,
            "align_self": null,
            "height": null,
            "min_height": null,
            "padding": null,
            "grid_auto_rows": null,
            "grid_gap": null,
            "max_width": null,
            "order": null,
            "_view_module_version": "1.2.0",
            "grid_template_areas": null,
            "object_position": null,
            "object_fit": null,
            "grid_auto_columns": null,
            "margin": null,
            "display": null,
            "left": null
          }
        },
        "628e10c8ab4d438f88e1ddc5b6dc1435": {
          "model_module": "@jupyter-widgets/controls",
          "model_name": "FloatSliderModel",
          "state": {
            "_view_name": "FloatSliderView",
            "style": "IPY_MODEL_f03cc44607574f7f932038835fd45260",
            "_dom_classes": [],
            "description": "t",
            "step": 0.01,
            "_model_name": "FloatSliderModel",
            "orientation": "horizontal",
            "max": 1,
            "_view_module": "@jupyter-widgets/controls",
            "_model_module_version": "1.5.0",
            "value": 1,
            "_view_count": null,
            "disabled": false,
            "_view_module_version": "1.5.0",
            "min": 0,
            "continuous_update": true,
            "readout_format": ".2f",
            "description_tooltip": null,
            "readout": true,
            "_model_module": "@jupyter-widgets/controls",
            "layout": "IPY_MODEL_7366aa72345e47cb906e075778b8e6b0"
          }
        },
        "588d7514f38f46588f629dabcbf2953a": {
          "model_module": "@jupyter-widgets/output",
          "model_name": "OutputModel",
          "state": {
            "_view_name": "OutputView",
            "msg_id": "",
            "_dom_classes": [],
            "_model_name": "OutputModel",
            "outputs": [
              {
                "output_type": "display_data",
                "metadata": {
                  "tags": [],
                  "needs_background": "light"
                },
                "image/png": "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\n",
                "text/plain": "<Figure size 432x432 with 1 Axes>"
              }
            ],
            "_view_module": "@jupyter-widgets/output",
            "_model_module_version": "1.0.0",
            "_view_count": null,
            "_view_module_version": "1.0.0",
            "layout": "IPY_MODEL_2c8151f46b8e4282b2adcd84e6fa01af",
            "_model_module": "@jupyter-widgets/output"
          }
        },
        "f03cc44607574f7f932038835fd45260": {
          "model_module": "@jupyter-widgets/controls",
          "model_name": "SliderStyleModel",
          "state": {
            "_view_name": "StyleView",
            "handle_color": null,
            "_model_name": "SliderStyleModel",
            "description_width": "",
            "_view_module": "@jupyter-widgets/base",
            "_model_module_version": "1.5.0",
            "_view_count": null,
            "_view_module_version": "1.2.0",
            "_model_module": "@jupyter-widgets/controls"
          }
        },
        "7366aa72345e47cb906e075778b8e6b0": {
          "model_module": "@jupyter-widgets/base",
          "model_name": "LayoutModel",
          "state": {
            "_view_name": "LayoutView",
            "grid_template_rows": null,
            "right": null,
            "justify_content": null,
            "_view_module": "@jupyter-widgets/base",
            "overflow": null,
            "_model_module_version": "1.2.0",
            "_view_count": null,
            "flex_flow": null,
            "width": null,
            "min_width": null,
            "border": null,
            "align_items": null,
            "bottom": null,
            "_model_module": "@jupyter-widgets/base",
            "top": null,
            "grid_column": null,
            "overflow_y": null,
            "overflow_x": null,
            "grid_auto_flow": null,
            "grid_area": null,
            "grid_template_columns": null,
            "flex": null,
            "_model_name": "LayoutModel",
            "justify_items": null,
            "grid_row": null,
            "max_height": null,
            "align_content": null,
            "visibility": null,
            "align_self": null,
            "height": null,
            "min_height": null,
            "padding": null,
            "grid_auto_rows": null,
            "grid_gap": null,
            "max_width": null,
            "order": null,
            "_view_module_version": "1.2.0",
            "grid_template_areas": null,
            "object_position": null,
            "object_fit": null,
            "grid_auto_columns": null,
            "margin": null,
            "display": null,
            "left": null
          }
        },
        "2c8151f46b8e4282b2adcd84e6fa01af": {
          "model_module": "@jupyter-widgets/base",
          "model_name": "LayoutModel",
          "state": {
            "_view_name": "LayoutView",
            "grid_template_rows": null,
            "right": null,
            "justify_content": null,
            "_view_module": "@jupyter-widgets/base",
            "overflow": null,
            "_model_module_version": "1.2.0",
            "_view_count": null,
            "flex_flow": null,
            "width": null,
            "min_width": null,
            "border": null,
            "align_items": null,
            "bottom": null,
            "_model_module": "@jupyter-widgets/base",
            "top": null,
            "grid_column": null,
            "overflow_y": null,
            "overflow_x": null,
            "grid_auto_flow": null,
            "grid_area": null,
            "grid_template_columns": null,
            "flex": null,
            "_model_name": "LayoutModel",
            "justify_items": null,
            "grid_row": null,
            "max_height": null,
            "align_content": null,
            "visibility": null,
            "align_self": null,
            "height": null,
            "min_height": null,
            "padding": null,
            "grid_auto_rows": null,
            "grid_gap": null,
            "max_width": null,
            "order": null,
            "_view_module_version": "1.2.0",
            "grid_template_areas": null,
            "object_position": null,
            "object_fit": null,
            "grid_auto_columns": null,
            "margin": null,
            "display": null,
            "left": null
          }
        },
        "42f9b071c9c74674b4965e60a6ef9705": {
          "model_module": "@jupyter-widgets/controls",
          "model_name": "VBoxModel",
          "state": {
            "_view_name": "VBoxView",
            "_dom_classes": [
              "widget-interact"
            ],
            "_model_name": "VBoxModel",
            "_view_module": "@jupyter-widgets/controls",
            "_model_module_version": "1.5.0",
            "_view_count": null,
            "_view_module_version": "1.5.0",
            "box_style": "",
            "layout": "IPY_MODEL_b081d28acee34a2a9838af6db2215f42",
            "_model_module": "@jupyter-widgets/controls",
            "children": [
              "IPY_MODEL_54242cf6617e4d0f86167437239607d3",
              "IPY_MODEL_0ef4bdffe3ca4a6bb53b4cb083330e95"
            ]
          }
        },
        "b081d28acee34a2a9838af6db2215f42": {
          "model_module": "@jupyter-widgets/base",
          "model_name": "LayoutModel",
          "state": {
            "_view_name": "LayoutView",
            "grid_template_rows": null,
            "right": null,
            "justify_content": null,
            "_view_module": "@jupyter-widgets/base",
            "overflow": null,
            "_model_module_version": "1.2.0",
            "_view_count": null,
            "flex_flow": null,
            "width": null,
            "min_width": null,
            "border": null,
            "align_items": null,
            "bottom": null,
            "_model_module": "@jupyter-widgets/base",
            "top": null,
            "grid_column": null,
            "overflow_y": null,
            "overflow_x": null,
            "grid_auto_flow": null,
            "grid_area": null,
            "grid_template_columns": null,
            "flex": null,
            "_model_name": "LayoutModel",
            "justify_items": null,
            "grid_row": null,
            "max_height": null,
            "align_content": null,
            "visibility": null,
            "align_self": null,
            "height": null,
            "min_height": null,
            "padding": null,
            "grid_auto_rows": null,
            "grid_gap": null,
            "max_width": null,
            "order": null,
            "_view_module_version": "1.2.0",
            "grid_template_areas": null,
            "object_position": null,
            "object_fit": null,
            "grid_auto_columns": null,
            "margin": null,
            "display": null,
            "left": null
          }
        },
        "54242cf6617e4d0f86167437239607d3": {
          "model_module": "@jupyter-widgets/controls",
          "model_name": "FloatSliderModel",
          "state": {
            "_view_name": "FloatSliderView",
            "style": "IPY_MODEL_16dc215d1b8b437ab2f9b1684b6e6262",
            "_dom_classes": [],
            "description": "t",
            "step": 0.01,
            "_model_name": "FloatSliderModel",
            "orientation": "horizontal",
            "max": 1,
            "_view_module": "@jupyter-widgets/controls",
            "_model_module_version": "1.5.0",
            "value": 0.86,
            "_view_count": null,
            "disabled": false,
            "_view_module_version": "1.5.0",
            "min": 0,
            "continuous_update": true,
            "readout_format": ".2f",
            "description_tooltip": null,
            "readout": true,
            "_model_module": "@jupyter-widgets/controls",
            "layout": "IPY_MODEL_c91da6c2e0fe47089e56f4e5f919e03a"
          }
        },
        "0ef4bdffe3ca4a6bb53b4cb083330e95": {
          "model_module": "@jupyter-widgets/output",
          "model_name": "OutputModel",
          "state": {
            "_view_name": "OutputView",
            "msg_id": "",
            "_dom_classes": [],
            "_model_name": "OutputModel",
            "outputs": [
              {
                "output_type": "display_data",
                "metadata": {
                  "tags": [],
                  "needs_background": "light"
                },
                "image/png": "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\n",
                "text/plain": "<Figure size 432x432 with 1 Axes>"
              }
            ],
            "_view_module": "@jupyter-widgets/output",
            "_model_module_version": "1.0.0",
            "_view_count": null,
            "_view_module_version": "1.0.0",
            "layout": "IPY_MODEL_7d45a7da4b934ae982502109cdefc22e",
            "_model_module": "@jupyter-widgets/output"
          }
        },
        "16dc215d1b8b437ab2f9b1684b6e6262": {
          "model_module": "@jupyter-widgets/controls",
          "model_name": "SliderStyleModel",
          "state": {
            "_view_name": "StyleView",
            "handle_color": null,
            "_model_name": "SliderStyleModel",
            "description_width": "",
            "_view_module": "@jupyter-widgets/base",
            "_model_module_version": "1.5.0",
            "_view_count": null,
            "_view_module_version": "1.2.0",
            "_model_module": "@jupyter-widgets/controls"
          }
        },
        "c91da6c2e0fe47089e56f4e5f919e03a": {
          "model_module": "@jupyter-widgets/base",
          "model_name": "LayoutModel",
          "state": {
            "_view_name": "LayoutView",
            "grid_template_rows": null,
            "right": null,
            "justify_content": null,
            "_view_module": "@jupyter-widgets/base",
            "overflow": null,
            "_model_module_version": "1.2.0",
            "_view_count": null,
            "flex_flow": null,
            "width": null,
            "min_width": null,
            "border": null,
            "align_items": null,
            "bottom": null,
            "_model_module": "@jupyter-widgets/base",
            "top": null,
            "grid_column": null,
            "overflow_y": null,
            "overflow_x": null,
            "grid_auto_flow": null,
            "grid_area": null,
            "grid_template_columns": null,
            "flex": null,
            "_model_name": "LayoutModel",
            "justify_items": null,
            "grid_row": null,
            "max_height": null,
            "align_content": null,
            "visibility": null,
            "align_self": null,
            "height": null,
            "min_height": null,
            "padding": null,
            "grid_auto_rows": null,
            "grid_gap": null,
            "max_width": null,
            "order": null,
            "_view_module_version": "1.2.0",
            "grid_template_areas": null,
            "object_position": null,
            "object_fit": null,
            "grid_auto_columns": null,
            "margin": null,
            "display": null,
            "left": null
          }
        },
        "7d45a7da4b934ae982502109cdefc22e": {
          "model_module": "@jupyter-widgets/base",
          "model_name": "LayoutModel",
          "state": {
            "_view_name": "LayoutView",
            "grid_template_rows": null,
            "right": null,
            "justify_content": null,
            "_view_module": "@jupyter-widgets/base",
            "overflow": null,
            "_model_module_version": "1.2.0",
            "_view_count": null,
            "flex_flow": null,
            "width": null,
            "min_width": null,
            "border": null,
            "align_items": null,
            "bottom": null,
            "_model_module": "@jupyter-widgets/base",
            "top": null,
            "grid_column": null,
            "overflow_y": null,
            "overflow_x": null,
            "grid_auto_flow": null,
            "grid_area": null,
            "grid_template_columns": null,
            "flex": null,
            "_model_name": "LayoutModel",
            "justify_items": null,
            "grid_row": null,
            "max_height": null,
            "align_content": null,
            "visibility": null,
            "align_self": null,
            "height": null,
            "min_height": null,
            "padding": null,
            "grid_auto_rows": null,
            "grid_gap": null,
            "max_width": null,
            "order": null,
            "_view_module_version": "1.2.0",
            "grid_template_areas": null,
            "object_position": null,
            "object_fit": null,
            "grid_auto_columns": null,
            "margin": null,
            "display": null,
            "left": null
          }
        },
        "b34dbf6353744b42bee46738df8cb6c1": {
          "model_module": "@jupyter-widgets/controls",
          "model_name": "VBoxModel",
          "state": {
            "_view_name": "VBoxView",
            "_dom_classes": [
              "widget-interact"
            ],
            "_model_name": "VBoxModel",
            "_view_module": "@jupyter-widgets/controls",
            "_model_module_version": "1.5.0",
            "_view_count": null,
            "_view_module_version": "1.5.0",
            "box_style": "",
            "layout": "IPY_MODEL_8bc9bdc779e04af8b3c0370a67d8f4b5",
            "_model_module": "@jupyter-widgets/controls",
            "children": [
              "IPY_MODEL_e8662bfdbd324b01aed637b171792988",
              "IPY_MODEL_9ca56abed2c74bcead4c5076f318fd9d"
            ]
          }
        },
        "8bc9bdc779e04af8b3c0370a67d8f4b5": {
          "model_module": "@jupyter-widgets/base",
          "model_name": "LayoutModel",
          "state": {
            "_view_name": "LayoutView",
            "grid_template_rows": null,
            "right": null,
            "justify_content": null,
            "_view_module": "@jupyter-widgets/base",
            "overflow": null,
            "_model_module_version": "1.2.0",
            "_view_count": null,
            "flex_flow": null,
            "width": null,
            "min_width": null,
            "border": null,
            "align_items": null,
            "bottom": null,
            "_model_module": "@jupyter-widgets/base",
            "top": null,
            "grid_column": null,
            "overflow_y": null,
            "overflow_x": null,
            "grid_auto_flow": null,
            "grid_area": null,
            "grid_template_columns": null,
            "flex": null,
            "_model_name": "LayoutModel",
            "justify_items": null,
            "grid_row": null,
            "max_height": null,
            "align_content": null,
            "visibility": null,
            "align_self": null,
            "height": null,
            "min_height": null,
            "padding": null,
            "grid_auto_rows": null,
            "grid_gap": null,
            "max_width": null,
            "order": null,
            "_view_module_version": "1.2.0",
            "grid_template_areas": null,
            "object_position": null,
            "object_fit": null,
            "grid_auto_columns": null,
            "margin": null,
            "display": null,
            "left": null
          }
        },
        "e8662bfdbd324b01aed637b171792988": {
          "model_module": "@jupyter-widgets/controls",
          "model_name": "FloatSliderModel",
          "state": {
            "_view_name": "FloatSliderView",
            "style": "IPY_MODEL_ca98c35278774e14a22e5295a62ee0fc",
            "_dom_classes": [],
            "description": "t",
            "step": 0.01,
            "_model_name": "FloatSliderModel",
            "orientation": "horizontal",
            "max": 1,
            "_view_module": "@jupyter-widgets/controls",
            "_model_module_version": "1.5.0",
            "value": 1,
            "_view_count": null,
            "disabled": false,
            "_view_module_version": "1.5.0",
            "min": 0,
            "continuous_update": true,
            "readout_format": ".2f",
            "description_tooltip": null,
            "readout": true,
            "_model_module": "@jupyter-widgets/controls",
            "layout": "IPY_MODEL_7300d6be46ff4e1cbae7195b04dc1c20"
          }
        },
        "9ca56abed2c74bcead4c5076f318fd9d": {
          "model_module": "@jupyter-widgets/output",
          "model_name": "OutputModel",
          "state": {
            "_view_name": "OutputView",
            "msg_id": "",
            "_dom_classes": [],
            "_model_name": "OutputModel",
            "outputs": [
              {
                "output_type": "display_data",
                "metadata": {
                  "tags": [],
                  "needs_background": "light"
                },
                "image/png": "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\n",
                "text/plain": "<Figure size 576x576 with 1 Axes>"
              }
            ],
            "_view_module": "@jupyter-widgets/output",
            "_model_module_version": "1.0.0",
            "_view_count": null,
            "_view_module_version": "1.0.0",
            "layout": "IPY_MODEL_25b2a207b78144cd97290c55dc73b591",
            "_model_module": "@jupyter-widgets/output"
          }
        },
        "ca98c35278774e14a22e5295a62ee0fc": {
          "model_module": "@jupyter-widgets/controls",
          "model_name": "SliderStyleModel",
          "state": {
            "_view_name": "StyleView",
            "handle_color": null,
            "_model_name": "SliderStyleModel",
            "description_width": "",
            "_view_module": "@jupyter-widgets/base",
            "_model_module_version": "1.5.0",
            "_view_count": null,
            "_view_module_version": "1.2.0",
            "_model_module": "@jupyter-widgets/controls"
          }
        },
        "7300d6be46ff4e1cbae7195b04dc1c20": {
          "model_module": "@jupyter-widgets/base",
          "model_name": "LayoutModel",
          "state": {
            "_view_name": "LayoutView",
            "grid_template_rows": null,
            "right": null,
            "justify_content": null,
            "_view_module": "@jupyter-widgets/base",
            "overflow": null,
            "_model_module_version": "1.2.0",
            "_view_count": null,
            "flex_flow": null,
            "width": null,
            "min_width": null,
            "border": null,
            "align_items": null,
            "bottom": null,
            "_model_module": "@jupyter-widgets/base",
            "top": null,
            "grid_column": null,
            "overflow_y": null,
            "overflow_x": null,
            "grid_auto_flow": null,
            "grid_area": null,
            "grid_template_columns": null,
            "flex": null,
            "_model_name": "LayoutModel",
            "justify_items": null,
            "grid_row": null,
            "max_height": null,
            "align_content": null,
            "visibility": null,
            "align_self": null,
            "height": null,
            "min_height": null,
            "padding": null,
            "grid_auto_rows": null,
            "grid_gap": null,
            "max_width": null,
            "order": null,
            "_view_module_version": "1.2.0",
            "grid_template_areas": null,
            "object_position": null,
            "object_fit": null,
            "grid_auto_columns": null,
            "margin": null,
            "display": null,
            "left": null
          }
        },
        "25b2a207b78144cd97290c55dc73b591": {
          "model_module": "@jupyter-widgets/base",
          "model_name": "LayoutModel",
          "state": {
            "_view_name": "LayoutView",
            "grid_template_rows": null,
            "right": null,
            "justify_content": null,
            "_view_module": "@jupyter-widgets/base",
            "overflow": null,
            "_model_module_version": "1.2.0",
            "_view_count": null,
            "flex_flow": null,
            "width": null,
            "min_width": null,
            "border": null,
            "align_items": null,
            "bottom": null,
            "_model_module": "@jupyter-widgets/base",
            "top": null,
            "grid_column": null,
            "overflow_y": null,
            "overflow_x": null,
            "grid_auto_flow": null,
            "grid_area": null,
            "grid_template_columns": null,
            "flex": null,
            "_model_name": "LayoutModel",
            "justify_items": null,
            "grid_row": null,
            "max_height": null,
            "align_content": null,
            "visibility": null,
            "align_self": null,
            "height": null,
            "min_height": null,
            "padding": null,
            "grid_auto_rows": null,
            "grid_gap": null,
            "max_width": null,
            "order": null,
            "_view_module_version": "1.2.0",
            "grid_template_areas": null,
            "object_position": null,
            "object_fit": null,
            "grid_auto_columns": null,
            "margin": null,
            "display": null,
            "left": null
          }
        }
      }
    }
  },
  "cells": [
    {
      "cell_type": "markdown",
      "metadata": {
        "id": "view-in-github",
        "colab_type": "text"
      },
      "source": [
        "<a href=\"https://colab.research.google.com/github/tlyonsWIT/Maths-Advanced-Calculus/blob/master/Python%20Workbook%205.ipynb\" target=\"_parent\"><img src=\"https://colab.research.google.com/assets/colab-badge.svg\" alt=\"Open In Colab\"/></a>"
      ]
    },
    {
      "cell_type": "markdown",
      "metadata": {
        "id": "ncWutHdwhyJE"
      },
      "source": [
        "# Maths Advanced Calculus 2021 - Python Workbook 5\n",
        "\n",
        "## Parameterised Paths & Work Elements"
      ]
    },
    {
      "cell_type": "code",
      "metadata": {
        "id": "CxcaBmqBhyJM"
      },
      "source": [
        "from mpl_toolkits.mplot3d import axes3d\n",
        "import matplotlib.pyplot as plt\n",
        "import numpy as np\n",
        "from numpy import cos, sin, tan, exp, log, pi, sqrt\n",
        "\n",
        "from ipywidgets import interact, interactive, fixed, interact_manual\n",
        "import ipywidgets as widgets"
      ],
      "execution_count": 1,
      "outputs": []
    },
    {
      "cell_type": "markdown",
      "metadata": {
        "id": "qiLC13yghyJN"
      },
      "source": [
        "* In this workbook we are going to plot parameterised paths and vector fields along these paths.\n",
        "\n",
        "\n",
        "* In 2D a parameterisd path is a vector of the form\n",
        "$$\n",
        "\\vec{r}(t) = r_{1}(t)\\hat{\\imath} + r_{2}(t)\\hat{\\jmath},\n",
        "$$\n",
        "where the components $r_{1}(t)$ and $r_{2}(t)$ depend on some __parameter__ $t$.\n",
        "\n",
        "\n",
        "* The parameter $t$ is often interpreted as __time.__"
      ]
    },
    {
      "cell_type": "markdown",
      "metadata": {
        "id": "hnwpU34PhyJO"
      },
      "source": [
        "## Example 1\n",
        "\n",
        "* The simplest parameterised path we can consider is of the form\n",
        "$$\n",
        "\\vec{r}(t) = (a+ut)\\hat{\\imath} + (b+vt)\\hat{\\jmath}.\n",
        "$$\n",
        "\n",
        "\n",
        "* This is the path followed by a particle which starts at \n",
        "$$\n",
        "\\vec{r}_{0}= a\\hat{\\imath} + b\\hat{\\jmath},\n",
        "$$\n",
        "when $t=0$. \n",
        "\n",
        "\n",
        "* This is often called the __initial position__ of the particle.\n",
        "\n",
        "\n",
        "* The particle moves with __velocity__\n",
        "$$\n",
        "\\vec{v}(t) = \\frac{d\\vec{r}}{dt}=\\frac{d}{dt}(a+ut)\\hat{\\imath}+\\frac{d}{dt}(b+vt)\\hat{\\jmath} = u\\hat{\\imath}+v\\hat{\\jmath}.\n",
        "$$\n",
        "\n",
        "\n",
        "* So when $u$ and $v$ are constants, the velocity of the particle is constant, and so the particle does not change its speed or direction as it travels along the path $\\vec{r}(t)$, it just keeps moving in the same direction at a constant rate.\n",
        "\n",
        "\n",
        "* We are going the plot the parameterised path\n",
        "$$\n",
        "\\vec{r}(t)=(-1.2+2.4t)\\hat{\\imath}+(3.1-4.2t)\\hat{\\jmath} \\text{ for }0\\leq t\\leq 5.\n",
        "$$\n",
        "\n",
        "\n",
        "* We are also going to create an interactive __dot__ to prepresent the particle position at various times along this path."
      ]
    },
    {
      "cell_type": "markdown",
      "metadata": {
        "id": "CyqZ8aashyJP"
      },
      "source": [
        "### Step 1\n",
        "\n",
        "* We define functions to represent each of the components of the vector field"
      ]
    },
    {
      "cell_type": "code",
      "metadata": {
        "id": "kKbgi5OuhyJQ"
      },
      "source": [
        "def r1(t):\n",
        "    return -1.2+2.4*t\n",
        "\n",
        "\n",
        "def r2(t):\n",
        "    return 3.1-4.2*t"
      ],
      "execution_count": null,
      "outputs": []
    },
    {
      "cell_type": "markdown",
      "metadata": {
        "id": "nek7WZZBhyJR"
      },
      "source": [
        "### Step 2\n",
        "\n",
        "* Create a __linspace__ to  represent the full time interval, and plot the parameterise path along this interval"
      ]
    },
    {
      "cell_type": "code",
      "metadata": {
        "colab": {
          "base_uri": "https://localhost:8080/",
          "height": 410
        },
        "id": "XLvKhJqRhyJR",
        "outputId": "b1d358f1-e078-49ef-995a-6f9bd303e896"
      },
      "source": [
        "T=np.linspace(0,5,161)\n",
        "plt.figure(figsize=(6,6))\n",
        "plt.plot(r1(T),r2(T),ls='--',color='darkslategray')\n",
        "plt.xlabel('x')\n",
        "plt.ylabel('y')\n",
        "plt.xlim(-4,12)\n",
        "plt.ylim(-20,5)"
      ],
      "execution_count": null,
      "outputs": [
        {
          "output_type": "execute_result",
          "data": {
            "text/plain": [
              "(-20.0, 5.0)"
            ]
          },
          "metadata": {
            "tags": []
          },
          "execution_count": 3
        },
        {
          "output_type": "display_data",
          "data": {
            "image/png": "[encoded data removed]",
            "text/plain": [
              "<Figure size 432x432 with 1 Axes>"
            ]
          },
          "metadata": {
            "tags": [],
            "needs_background": "light"
          }
        }
      ]
    },
    {
      "cell_type": "markdown",
      "metadata": {
        "id": "1zEGsJrmhyJS"
      },
      "source": [
        "### Step 3\n",
        "\n",
        "* Use this plot in an interactive plot to create a moving dot along this path"
      ]
    },
    {
      "cell_type": "code",
      "metadata": {
        "colab": {
          "base_uri": "https://localhost:8080/",
          "height": 424,
          "referenced_widgets": [
            "b02e9e0e3fea40e186a0b5d7e5f11bd0",
            "e7c76d36f2f048fabafbef009c2aa2d4",
            "bc44421d72d14c3eb1ea86f2bda34bf8",
            "c6018a723c344c97a481f587bc0153f8",
            "1451aa7b3fc9461780550960f372e579",
            "44db5f91c78a4c7cb25cd58ee78967ad",
            "8fddf93d1a46498c9bb975f379a396c4"
          ]
        },
        "id": "4OP9y4ZJhyJT",
        "outputId": "e7f962ce-0a7f-42da-f122-f0bcd3f8d216"
      },
      "source": [
        "@interact(t=(0,5,0.01))\n",
        "def MovingPlot1(t=0.0):\n",
        "    # The following lines are the plot above\n",
        "    plt.figure(figsize=(6,6))\n",
        "    plt.plot(r1(T),r2(T),ls='--',color='darkslategray')\n",
        "    plt.xlabel('x')\n",
        "    plt.ylabel('y')\n",
        "    plt.xlim(-4,12)\n",
        "    plt.ylim(-20,5)\n",
        "    \n",
        "    # This line creates a blue dot representing the particle at time t\n",
        "    plt.plot(r1(t),r2(t),'o',color='cornflowerblue')\n",
        "    "
      ],
      "execution_count": null,
      "outputs": [
        {
          "output_type": "display_data",
          "data": {
            "application/vnd.jupyter.widget-view+json": {
              "model_id": "b02e9e0e3fea40e186a0b5d7e5f11bd0",
              "version_minor": 0,
              "version_major": 2
            },
            "text/plain": [
              "interactive(children=(FloatSlider(value=0.0, description='t', max=5.0, step=0.01), Output()), _dom_classes=('w…"
            ]
          },
          "metadata": {
            "tags": []
          }
        }
      ]
    },
    {
      "cell_type": "markdown",
      "metadata": {
        "id": "lwp5yAsmhyJU"
      },
      "source": [
        "## Example 2\n",
        "\n",
        "* Create an interactive plot to represent a particle travelling along the parameterised path \n",
        "\n",
        "$$\n",
        "\\vec{r}(t)=(1.4+3.4\\cos(2\\pi t))\\hat{\\imath} + (2.2+1.4\\sin(2\\pi t))\\hat{\\jmath} \\text{ for }0\\leq t\\leq 3.\n",
        "$$"
      ]
    },
    {
      "cell_type": "markdown",
      "metadata": {
        "id": "xlNMBxRehyJV"
      },
      "source": [
        "### Step 1\n",
        "\n",
        "* We create two functions to represent the components of the parameterised path"
      ]
    },
    {
      "cell_type": "code",
      "metadata": {
        "id": "6JhB-ig8hyJW"
      },
      "source": [
        "def r1(t):\n",
        "    return 1.4+3.4*cos(2*pi*t)\n",
        "\n",
        "\n",
        "def r2(t):\n",
        "    return 2.2 + 1.4*sin(2*pi*t)"
      ],
      "execution_count": null,
      "outputs": []
    },
    {
      "cell_type": "markdown",
      "metadata": {
        "id": "5-wgn5zbhyJW"
      },
      "source": [
        "### Step 2 & 3\n",
        "\n",
        "* In this example we are going to combine Step 2 and 3 into a single step:"
      ]
    },
    {
      "cell_type": "code",
      "metadata": {
        "colab": {
          "base_uri": "https://localhost:8080/",
          "height": 424,
          "referenced_widgets": [
            "66f883a467d94e85ba68ca7275d05057",
            "6352fc2d1af94a7791f6f4f711b67e5a",
            "f1a76a0015f74de2923cac7726e6f3bc",
            "efaa51ab695048cb95e74b2fb41bf09b",
            "ffea74eaac864cac9153f000376c08f3",
            "46f882498fe240de94d1aec7b6486a1e",
            "567b44e129c7499dadf78349ea3b8989"
          ]
        },
        "id": "eNJ0xxmmhyJX",
        "outputId": "5cd7ed81-08da-4edf-b57a-492bd1f12855"
      },
      "source": [
        "T=np.linspace(0,3,161)\n",
        "\n",
        "@interact(t=(0,3,0.01))\n",
        "def MovingPlot2(t=0.0):\n",
        "    # The following lines are the plot above\n",
        "    plt.figure(figsize=(6,6))\n",
        "    plt.plot(r1(T),r2(T),ls='--',color='darkslategray')\n",
        "    plt.xlabel('x')\n",
        "    plt.ylabel('y')\n",
        "    plt.xlim(-3,5)\n",
        "    plt.ylim(0,4)\n",
        "    \n",
        "    # This line creates a blue dot representing the particle at time t\n",
        "    plt.plot(r1(t),r2(t),'o',color='cornflowerblue')"
      ],
      "execution_count": null,
      "outputs": [
        {
          "output_type": "display_data",
          "data": {
            "application/vnd.jupyter.widget-view+json": {
              "model_id": "66f883a467d94e85ba68ca7275d05057",
              "version_minor": 0,
              "version_major": 2
            },
            "text/plain": [
              "interactive(children=(FloatSlider(value=0.0, description='t', max=3.0, step=0.01), Output()), _dom_classes=('w…"
            ]
          },
          "metadata": {
            "tags": []
          }
        }
      ]
    },
    {
      "cell_type": "markdown",
      "metadata": {
        "id": "yOVLueHvhyJY"
      },
      "source": [
        "## Exercise 1\n",
        "\n",
        "* Create an interactive plot to represent the parameterised path\n",
        "\n",
        "$$\n",
        "\\vec{r}(t)=2e^{-t}\\cos(2\\pi t))\\hat{\\imath} + 4e^{-t}\\sin(2\\pi t))\\hat{\\jmath} \\text{ for }0\\leq t\\leq 2.\n",
        "$$"
      ]
    },
    {
      "cell_type": "code",
      "metadata": {
        "id": "R2SsTQvOhyJY"
      },
      "source": [
        ""
      ],
      "execution_count": null,
      "outputs": []
    },
    {
      "cell_type": "code",
      "metadata": {
        "id": "_gzrmGz-hyJY"
      },
      "source": [
        ""
      ],
      "execution_count": null,
      "outputs": []
    },
    {
      "cell_type": "code",
      "metadata": {
        "id": "LiZWfHRAhyJY"
      },
      "source": [
        ""
      ],
      "execution_count": null,
      "outputs": []
    },
    {
      "cell_type": "code",
      "metadata": {
        "id": "oKzIQO2yhyJZ"
      },
      "source": [
        ""
      ],
      "execution_count": null,
      "outputs": []
    },
    {
      "cell_type": "markdown",
      "metadata": {
        "id": "IUEYJdZahyJZ"
      },
      "source": [
        "# Vector fields along paths \n",
        "\n",
        "* We have already seen vector fields $\\vec{F}(x,y)$ in 2D space in our previous workbooks.\n",
        "\n",
        "\n",
        "* As you know, a vector field creates an individual vector at each point $(x,y)$ in the plane. As we move about in the plane, the vector will change its length and direction.\n",
        "\n",
        "\n",
        "* We can restrict where we evaluate this vector, in particular we can easily plot a vector field along a parameterised path\n",
        "$$\n",
        "\\vec{r}(t) = r_{1}(t)\\hat{\\imath} + r_{2}(t)\\hat{\\jmath}\n",
        "$$\n",
        "when we note that $r_{1}(t)$ represents the $x$-coorindate along the path and $r_{2}(t)$ represents the $y$-coordinate along the path.\n",
        "\n",
        "\n",
        "* It follows, the the vector field $\\vec{F}$ restricted to the path $\\vec{r}(t)$ is given by\n",
        "\n",
        "$$\n",
        "\\vec{F}(\\vec{r}(t)) = \\vec{F}(r_{1}(t),r_{2}(t)).\n",
        "$$"
      ]
    },
    {
      "cell_type": "markdown",
      "metadata": {
        "id": "lAPeMgjthyJZ"
      },
      "source": [
        "## Example 3\n",
        "\n",
        "* Plot the vector field \n",
        "$$\n",
        "\\vec{F}(x,y) = xy\\hat{\\imath}-\\frac{x^2+y^2}{5}\\hat{\\jmath}\n",
        "$$\n",
        "along the parameterised path\n",
        "\n",
        "$$\n",
        "\\vec{r}(t) = 2.3\\cos(2\\pi t) + 1.1\\sin(2\\pi t) \\text{ for } 0\\leq t \\leq 1\n",
        "$$"
      ]
    },
    {
      "cell_type": "markdown",
      "metadata": {
        "id": "sD5nODIYhyJZ"
      },
      "source": [
        "### Step 1\n",
        "\n",
        "* Create functions to represent the components of the vector field"
      ]
    },
    {
      "cell_type": "code",
      "metadata": {
        "id": "DQAQMVShhyJa"
      },
      "source": [
        "def F1(x,y):\n",
        "    return x*y\n",
        "\n",
        "\n",
        "def F2(x,y):\n",
        "    return -(x**2+y**2)/5"
      ],
      "execution_count": null,
      "outputs": []
    },
    {
      "cell_type": "markdown",
      "metadata": {
        "id": "2ppxJMy4hyJa"
      },
      "source": [
        "### Step 2\n",
        "\n",
        "* Create functions to represent the components of the parameterised path"
      ]
    },
    {
      "cell_type": "code",
      "metadata": {
        "id": "yBSPqel9hyJb"
      },
      "source": [
        "def r1(t):\n",
        "    return 2.3*cos(2*pi*t)\n",
        "\n",
        "\n",
        "def r2(t):\n",
        "    return 1.1*sin(2*pi*t)"
      ],
      "execution_count": null,
      "outputs": []
    },
    {
      "cell_type": "markdown",
      "metadata": {
        "id": "mEJmOcR-hyJb"
      },
      "source": [
        "### Step 3\n",
        "\n",
        "* Create a linspace to represent the full time interval and plot the full path"
      ]
    },
    {
      "cell_type": "code",
      "metadata": {
        "colab": {
          "base_uri": "https://localhost:8080/",
          "height": 410
        },
        "id": "DFsJumFQhyJb",
        "outputId": "6b7a396f-bac3-401b-f393-8f954f8d2dd1"
      },
      "source": [
        "T=np.linspace(0,1,161)\n",
        "plt.figure(figsize=(6,6))\n",
        "plt.plot(r1(T),r2(T),ls='--',color='darkslategray')\n",
        "plt.xlabel('x')\n",
        "plt.ylabel('y')\n",
        "plt.xlim(-3,3)\n",
        "plt.ylim(-3,3)"
      ],
      "execution_count": null,
      "outputs": [
        {
          "output_type": "execute_result",
          "data": {
            "text/plain": [
              "(-3.0, 3.0)"
            ]
          },
          "metadata": {
            "tags": []
          },
          "execution_count": 10
        },
        {
          "output_type": "display_data",
          "data": {
            "image/png": "[encoded data removed]",
            "text/plain": [
              "<Figure size 432x432 with 1 Axes>"
            ]
          },
          "metadata": {
            "tags": [],
            "needs_background": "light"
          }
        }
      ]
    },
    {
      "cell_type": "markdown",
      "metadata": {
        "id": "s9ObS2ujhyJc"
      },
      "source": [
        "## Step 4\n",
        "\n",
        "* Use the __quiver__ function to plot the vector field along the parameterised path"
      ]
    },
    {
      "cell_type": "code",
      "metadata": {
        "colab": {
          "base_uri": "https://localhost:8080/",
          "height": 410
        },
        "id": "1zcoV25OhyJd",
        "outputId": "07ca21af-bcbd-4584-a73a-554b50d8f264"
      },
      "source": [
        "T=np.linspace(0,1,161)\n",
        "n=5\n",
        "Tn=T[::n]\n",
        "plt.figure(figsize=(6,6))\n",
        "plt.plot(r1(T),r2(T),ls='--',color='darkslategray')\n",
        "plt.quiver(r1(Tn),r2(Tn),F1(r1(Tn),r2(Tn)),F2(r1(Tn),r2(Tn)),scale=10)\n",
        "plt.xlabel('x')\n",
        "plt.ylabel('y')\n",
        "plt.xlim(-3,3)\n",
        "plt.ylim(-3,3)"
      ],
      "execution_count": null,
      "outputs": [
        {
          "output_type": "execute_result",
          "data": {
            "text/plain": [
              "(-3.0, 3.0)"
            ]
          },
          "metadata": {
            "tags": []
          },
          "execution_count": 11
        },
        {
          "output_type": "display_data",
          "data": {
            "image/png": "[encoded data removed]",
            "text/plain": [
              "<Figure size 432x432 with 1 Axes>"
            ]
          },
          "metadata": {
            "tags": [],
            "needs_background": "light"
          }
        }
      ]
    },
    {
      "cell_type": "markdown",
      "metadata": {
        "id": "Ds4ebxfFhyJd"
      },
      "source": [
        "## Alternatively\n",
        "\n",
        "* Instead of plotting all the vectors simultaneously, we could create an interactive plot to represent the vector as it moves along the path."
      ]
    },
    {
      "cell_type": "code",
      "metadata": {
        "colab": {
          "base_uri": "https://localhost:8080/",
          "height": 424,
          "referenced_widgets": [
            "f11296802e7b44edb083ab83542269a2",
            "3dcc4e261ec84b898f3d133c08aeeb78",
            "628e10c8ab4d438f88e1ddc5b6dc1435",
            "588d7514f38f46588f629dabcbf2953a",
            "f03cc44607574f7f932038835fd45260",
            "7366aa72345e47cb906e075778b8e6b0",
            "2c8151f46b8e4282b2adcd84e6fa01af"
          ]
        },
        "id": "u6JY_2zchyJd",
        "outputId": "16429500-2c8d-40cc-cf9d-8da22b8b4420"
      },
      "source": [
        "T=np.linspace(0,1,161)\n",
        "@interact(t=(0,1,0.01))\n",
        "def MovingPlot2(t=0.0):\n",
        "    # The following lines are the plot above\n",
        "    plt.figure(figsize=(6,6))\n",
        "    plt.plot(r1(T),r2(T),ls='--',color='darkslategray')\n",
        "    plt.xlabel('x')\n",
        "    plt.ylabel('y')\n",
        "    plt.xlim(-3,3)\n",
        "    plt.ylim(-3,3)\n",
        "    \n",
        "    # This line creates a blue dot representing the particle at time t\n",
        "    plt.plot(r1(t),r2(t),'o',color='cornflowerblue')\n",
        "    \n",
        "    # This line creates a vector which moves with the blue dot\n",
        "    plt.quiver(r1(t),r2(t),F1(r1(t),r2(t)),F2(r1(t),r2(t)),scale=10)\n"
      ],
      "execution_count": null,
      "outputs": [
        {
          "output_type": "display_data",
          "data": {
            "application/vnd.jupyter.widget-view+json": {
              "model_id": "f11296802e7b44edb083ab83542269a2",
              "version_minor": 0,
              "version_major": 2
            },
            "text/plain": [
              "interactive(children=(FloatSlider(value=0.0, description='t', max=1.0, step=0.01), Output()), _dom_classes=('w…"
            ]
          },
          "metadata": {
            "tags": []
          }
        }
      ]
    },
    {
      "cell_type": "markdown",
      "metadata": {
        "id": "BwNaMa4ChyJd"
      },
      "source": [
        "## Exercise 2\n",
        "\n",
        "* Create an interactive plot to represent the vector field\n",
        "$$\n",
        "\\vec{F}(x,y) = 1.4\\cos(2y)\\hat{\\imath} +2.3\\sin(x)\\hat{\\jmath}\n",
        "$$\n",
        "along the parameterised path\n",
        "$$\n",
        "\\vec{r}(t) = e^{-t}\\sin(2\\pi t) + 1.4e^{-t}\\cos(2\\pi t) \\text{ for }0\\leq t\\leq 1\n",
        "$$"
      ]
    },
    {
      "cell_type": "code",
      "metadata": {
        "id": "b0hlQ8YthyJd"
      },
      "source": [
        ""
      ],
      "execution_count": null,
      "outputs": []
    },
    {
      "cell_type": "code",
      "metadata": {
        "id": "hV-haYh-hyJf"
      },
      "source": [
        ""
      ],
      "execution_count": null,
      "outputs": []
    },
    {
      "cell_type": "code",
      "metadata": {
        "id": "zBNDKcFNhyJf"
      },
      "source": [
        ""
      ],
      "execution_count": null,
      "outputs": []
    },
    {
      "cell_type": "code",
      "metadata": {
        "id": "EDS4DT0phyJf"
      },
      "source": [
        ""
      ],
      "execution_count": null,
      "outputs": []
    },
    {
      "cell_type": "code",
      "metadata": {
        "id": "HkwbgkMUhyJf"
      },
      "source": [
        ""
      ],
      "execution_count": null,
      "outputs": []
    },
    {
      "cell_type": "code",
      "metadata": {
        "id": "_p-a0c11hyJf"
      },
      "source": [
        ""
      ],
      "execution_count": null,
      "outputs": []
    },
    {
      "cell_type": "code",
      "metadata": {
        "id": "4Kx8tDxJhyJg"
      },
      "source": [
        ""
      ],
      "execution_count": null,
      "outputs": []
    },
    {
      "cell_type": "markdown",
      "metadata": {
        "id": "Dg1pl2zehyJg"
      },
      "source": [
        "# Work Elements\n",
        "\n",
        "* The work element of a vector field $F(x,y)$ along a parameterised path $r(t)$ is defined as\n",
        "\n",
        "$$\n",
        "dW = \\vec{F}(\\vec{r}(t))\\cdot\\frac{d\\vec{r}}{dt}dt.\n",
        "$$\n",
        "\n",
        "\n",
        "* It reresents the __infintessimal__ amount of work done by the __force__ $F(x,y)$ on the particle moving along the path $\\vec{r}(t)$ in the infinitessimal amount of time $dt$.\n",
        "\n",
        "\n",
        "* In lectures we will calculate these explicitly, for now we will try to plot it here in python!!"
      ]
    },
    {
      "cell_type": "markdown",
      "metadata": {
        "id": "A2RkO4FRhyJh"
      },
      "source": [
        "## Example 4\n",
        "\n",
        "* Plot the vector field \n",
        "$$\n",
        "\\vec{F}(x,y) = 3y\\hat{\\imath} + x\\hat{\\jmath},\n",
        "$$\n",
        "along the parameterised path\n",
        "$$\n",
        "\\vec{r}(t) = e^{-0.4t}\\cos(3\\pi t)\\hat{\\imath} -e^{-0.4t}\\sin(3\\pi t) \\text{ for }0\\leq t \\leq 1.\n",
        "$$\n",
        "\n",
        "* Plot the __velocity__ vector of the path\n",
        "$$\n",
        "\\vec{v}(t)=\\frac{d\\vec{r}}{dt} = e^{-0.4t}(-0.4\\cos(3\\pi t)-3\\pi\\sin(3\\pi t))\\hat{\\imath} + e^{-0.4t}(0.4\\sin(3\\pi t)-3\\pi\\cos(3\\pi t))\\hat{\\jmath},\n",
        "$$\n",
        "on the same plot.\n",
        "\n",
        "\n",
        "* To make things clearer, you should use different colours for the vector field and the velocity vector. "
      ]
    },
    {
      "cell_type": "markdown",
      "metadata": {
        "id": "jqh4jSX0hyJh"
      },
      "source": [
        "### Step 1\n",
        "\n",
        "* Define the functions for the parameterised path"
      ]
    },
    {
      "cell_type": "code",
      "metadata": {
        "id": "7wOWaDdKhyJh"
      },
      "source": [
        "def r1(t):\n",
        "    return exp(-0.4*t)*cos(3*pi*t)\n",
        "\n",
        "\n",
        "def r2(t):\n",
        "    return -exp(-0.4*t)*sin(3*pi*t)"
      ],
      "execution_count": null,
      "outputs": []
    },
    {
      "cell_type": "markdown",
      "metadata": {
        "id": "B3QjEsndhyJh"
      },
      "source": [
        "### Step 2\n",
        "\n",
        "* Define functions for the velocity vector"
      ]
    },
    {
      "cell_type": "code",
      "metadata": {
        "id": "1eyWVhjkhyJh"
      },
      "source": [
        "def v1(t):\n",
        "    return exp(-0.4*t)*(-0.4*cos(3*pi*t)-3*pi*sin(3*pi*t))\n",
        "\n",
        "\n",
        "def v2(t):\n",
        "    return exp(-0.4*t)*(0.4*sin(3*pi*t)-3*pi*cos(3*pi*t))"
      ],
      "execution_count": null,
      "outputs": []
    },
    {
      "cell_type": "markdown",
      "metadata": {
        "id": "tZOixnNqhyJi"
      },
      "source": [
        "### Step 3\n",
        "\n",
        "* Define functions for the vector (force) field $F(x,y)$"
      ]
    },
    {
      "cell_type": "code",
      "metadata": {
        "id": "Sxq-xbSKhyJi"
      },
      "source": [
        "def F1(x,y):\n",
        "    return 3*y\n",
        "\n",
        "def F2(x,y):\n",
        "    return x"
      ],
      "execution_count": null,
      "outputs": []
    },
    {
      "cell_type": "markdown",
      "metadata": {
        "id": "5TlE07c2hyJi"
      },
      "source": [
        "### Step 4\n",
        "\n",
        "* Use the previous plots and add an extra quiver plot for the velocity field"
      ]
    },
    {
      "cell_type": "code",
      "metadata": {
        "colab": {
          "base_uri": "https://localhost:8080/",
          "height": 420,
          "referenced_widgets": [
            "42f9b071c9c74674b4965e60a6ef9705",
            "b081d28acee34a2a9838af6db2215f42",
            "54242cf6617e4d0f86167437239607d3",
            "0ef4bdffe3ca4a6bb53b4cb083330e95",
            "16dc215d1b8b437ab2f9b1684b6e6262",
            "c91da6c2e0fe47089e56f4e5f919e03a",
            "7d45a7da4b934ae982502109cdefc22e"
          ]
        },
        "id": "1SLMb_mkhyJj",
        "outputId": "628c228a-6645-41db-8977-aab1ad0dcc75"
      },
      "source": [
        "T=np.linspace(0,1,161)\n",
        "@interact(t=(0,1,0.01))\n",
        "def MovingPlot2(t=0.0):\n",
        "    # The following lines are the plot above\n",
        "    plt.figure(figsize=(6,6))\n",
        "    plt.plot(r1(T),r2(T),ls='--',color='darkslategray')\n",
        "    plt.xlabel('x')\n",
        "    plt.ylabel('y')\n",
        "    plt.xlim(-1.2,1.2)\n",
        "    plt.ylim(-1.2,1.2)\n",
        "    \n",
        "    # This line creates a blue dot representing the particle at time t\n",
        "    plt.plot(r1(t),r2(t),'o',color='cornflowerblue')\n",
        "    \n",
        "    # This line creates an orange vector representing the force F which moves with the blue dot\n",
        "    plt.quiver(r1(t),r2(t),F1(r1(t),r2(t)),F2(r1(t),r2(t)),scale=10,color='orange')\n",
        "    \n",
        "    # This line creates an red vector representing the velocity v which moves with the blue dot\n",
        "    plt.quiver(r1(t),r2(t),v1(t),v2(t),scale=30,color='red')\n",
        "    "
      ],
      "execution_count": null,
      "outputs": [
        {
          "output_type": "display_data",
          "data": {
            "application/vnd.jupyter.widget-view+json": {
              "model_id": "42f9b071c9c74674b4965e60a6ef9705",
              "version_minor": 0,
              "version_major": 2
            },
            "text/plain": [
              "interactive(children=(FloatSlider(value=0.0, description='t', max=1.0, step=0.01), Output()), _dom_classes=('w…"
            ]
          },
          "metadata": {
            "tags": []
          }
        }
      ]
    },
    {
      "cell_type": "code",
      "metadata": {
        "id": "c_E_n8DGhyJk"
      },
      "source": [
        ""
      ],
      "execution_count": null,
      "outputs": []
    },
    {
      "cell_type": "code",
      "metadata": {
        "id": "uDAwMyJShyJk"
      },
      "source": [
        ""
      ],
      "execution_count": null,
      "outputs": []
    },
    {
      "cell_type": "markdown",
      "metadata": {
        "id": "UClp1lTHhyJl"
      },
      "source": [
        "## Exercise 3\n",
        "\n",
        "* Plot the vector field \n",
        "$$\n",
        "\\vec{F}(x,y) = 0.5(x+y)\\hat{\\imath} + (2x-y)\\hat{\\jmath},\n",
        "$$\n",
        "along the parameterised path\n",
        "$$\n",
        "\\vec{r}(t) = e^{-0.8t}\\sin(4\\pi t)\\hat{\\imath}+e^{-0.8t}\\cos(4\\pi t) \\text{ for }0\\leq t \\leq 1.\n",
        "$$\n",
        "\n",
        "* Plot the __velocity__ vector of the path\n",
        "$$\n",
        "\\vec{v}(t)=\\frac{d\\vec{r}}{dt} = e^{-0.8t}(-0.8\\sin(4\\pi t)+4\\pi\\cos(4\\pi t))\\hat{\\imath} + e^{-0.8t}(-0.8\\cos(4\\pi t)-4\\pi\\sin(4\\pi t))\\hat{\\jmath},\n",
        "$$\n",
        "on the same plot.\n",
        "\n",
        "\n",
        "* To make things clearer, you should use different colours for the vector field and the velocity vector. "
      ]
    },
    {
      "cell_type": "code",
      "metadata": {
        "id": "mR9g_IfthyJl"
      },
      "source": [
        ""
      ],
      "execution_count": null,
      "outputs": []
    },
    {
      "cell_type": "code",
      "metadata": {
        "id": "L12Zz6i3hyJl"
      },
      "source": [
        ""
      ],
      "execution_count": null,
      "outputs": []
    },
    {
      "cell_type": "code",
      "metadata": {
        "id": "zkgSy9YqhyJl"
      },
      "source": [
        ""
      ],
      "execution_count": null,
      "outputs": []
    },
    {
      "cell_type": "code",
      "metadata": {
        "id": "H03N53HehyJm"
      },
      "source": [
        ""
      ],
      "execution_count": null,
      "outputs": []
    },
    {
      "cell_type": "code",
      "metadata": {
        "id": "ZC6zSGt_hyJm"
      },
      "source": [
        ""
      ],
      "execution_count": null,
      "outputs": []
    },
    {
      "cell_type": "code",
      "metadata": {
        "id": "NpnX_JxLhyJn"
      },
      "source": [
        ""
      ],
      "execution_count": null,
      "outputs": []
    },
    {
      "cell_type": "code",
      "metadata": {
        "id": "NJBUBK9GhyJn"
      },
      "source": [
        ""
      ],
      "execution_count": null,
      "outputs": []
    },
    {
      "cell_type": "code",
      "metadata": {
        "id": "AcztBfoThyJn"
      },
      "source": [
        ""
      ],
      "execution_count": null,
      "outputs": []
    },
    {
      "cell_type": "markdown",
      "metadata": {
        "id": "OAoG1rBt21wK"
      },
      "source": [
        "## Problem Set 2 - Exercise 3\n",
        "\n",
        "* Plot the vector field\n",
        "$$\n",
        "\\vec{F}(x,y,z)=\\frac{3z}{\\sqrt{x^2+y^2+z^2}}\\hat{\\imath} - \\frac{2z}{\\sqrt{x^2+y^2+z^2}}\\hat{\\jmath} + \\frac{z}{\\sqrt{x^2+y^2+z^2}}\\hat{k}\n",
        "$$\n",
        "\n",
        "> along the parameterised path\n",
        "$$\n",
        "\\vec{r}(t)=\\cos(2\\pi t)\\hat{\\imath} + \\sin(2\\pi t)\\hat{\\jmath} + 2t\\hat{k}.\n",
        "$$\n",
        "\n",
        "\n",
        "\n",
        "* Use the numpy __sum__ function to estimate the Work integral along this path, using 5001 points between $t=0$ and $t=1$"
      ]
    },
    {
      "cell_type": "markdown",
      "metadata": {
        "id": "DvbL8fyJ4D4W"
      },
      "source": [
        "### Step 1 - The parameterised path"
      ]
    },
    {
      "cell_type": "code",
      "metadata": {
        "id": "D6D9g_JOhyJn"
      },
      "source": [
        "def r1(t):\n",
        "    return cos(2*pi*t)\n",
        "\n",
        "\n",
        "def r2(t):\n",
        "    return sin(2*pi*t)\n",
        "\n",
        "\n",
        "def r3(t):\n",
        "    return 2*t"
      ],
      "execution_count": 2,
      "outputs": []
    },
    {
      "cell_type": "markdown",
      "metadata": {
        "id": "Oq2yVQvC4Kgq"
      },
      "source": [
        "### Step 2 - The velocity along the path"
      ]
    },
    {
      "cell_type": "code",
      "metadata": {
        "id": "YshF5BK5336d"
      },
      "source": [
        "def v1(t):\n",
        "    return -2*pi*sin(2*pi*t)\n",
        "\n",
        "\n",
        "def v2(t):\n",
        "    return 2*pi*cos(2*pi*t)\n",
        "\n",
        "\n",
        "def v3(t):\n",
        "    return 2"
      ],
      "execution_count": 3,
      "outputs": []
    },
    {
      "cell_type": "markdown",
      "metadata": {
        "id": "-IvPrYlA4PwU"
      },
      "source": [
        "### Step 3 - The vector field"
      ]
    },
    {
      "cell_type": "code",
      "metadata": {
        "id": "KMlEmO3d4BXR"
      },
      "source": [
        "def F1(x,y,z):\n",
        "    return 3*z/np.sqrt(x**2+y**2+z**2)\n",
        "\n",
        "\n",
        "def F2(x,y,z):\n",
        "    return -2*z/np.sqrt(x**2+y**2+z**2)\n",
        "\n",
        "\n",
        "def F3(x,y,z):\n",
        "    return z/np.sqrt(x**2+y**2+z**2)\n"
      ],
      "execution_count": 4,
      "outputs": []
    },
    {
      "cell_type": "markdown",
      "metadata": {
        "id": "Ho6Pv6034j2u"
      },
      "source": [
        "### Step 4 - The 3D plot"
      ]
    },
    {
      "cell_type": "code",
      "metadata": {
        "id": "3PBhffHf4hT9",
        "outputId": "e4df4c18-3b4c-4523-d81b-b62daf4c8801",
        "colab": {
          "base_uri": "https://localhost:8080/",
          "height": 498,
          "referenced_widgets": [
            "b34dbf6353744b42bee46738df8cb6c1",
            "8bc9bdc779e04af8b3c0370a67d8f4b5",
            "e8662bfdbd324b01aed637b171792988",
            "9ca56abed2c74bcead4c5076f318fd9d",
            "ca98c35278774e14a22e5295a62ee0fc",
            "7300d6be46ff4e1cbae7195b04dc1c20",
            "25b2a207b78144cd97290c55dc73b591"
          ]
        }
      },
      "source": [
        "T=np.linspace(0,1,161)\n",
        "@interact(t=(0,1,0.01))\n",
        "def MovingPlot2(t=0.0):\n",
        "    # The following lines are the plot above\n",
        "    fig=plt.figure(figsize=(8,8))\n",
        "    ax=fig.gca(projection='3d')\n",
        "    ax.plot(r1(T),r2(T),r3(T),ls='--',color='darkslategray')\n",
        "    ax.set_xlabel('x')\n",
        "    ax.set_ylabel('y')\n",
        "    ax.set_zlabel('z')\n",
        "    ax.set_xlim(-1.2,1.2)\n",
        "    ax.set_ylim(-1.2,1.2)\n",
        "    \n",
        "    # This line creates a blue dot representing the particle at time t\n",
        "    ax.plot([r1(t)],[r2(t)],[r3(t)],'o',color='cornflowerblue')\n",
        "    \n",
        "    # This line creates an orange vector representing the force F which moves with the blue dot\n",
        "    ax.quiver(r1(t),r2(t),r3(t),F1(r1(t),r2(t),r3(t)),F2(r1(t),r2(t),r3(t)),F3(r1(t),r2(t),r3(t)),color='orange',length=0.5)\n",
        "    \n",
        "    # This line creates an red vector representing the velocity v which moves with the blue dot\n",
        "    ax.quiver(r1(t),r2(t),r3(t),v1(t),v2(t),v3(t),color='red',length=0.1)"
      ],
      "execution_count": 17,
      "outputs": [
        {
          "output_type": "display_data",
          "data": {
            "application/vnd.jupyter.widget-view+json": {
              "model_id": "b34dbf6353744b42bee46738df8cb6c1",
              "version_minor": 0,
              "version_major": 2
            },
            "text/plain": [
              "interactive(children=(FloatSlider(value=0.0, description='t', max=1.0, step=0.01), Output()), _dom_classes=('w…"
            ]
          },
          "metadata": {
            "tags": []
          }
        }
      ]
    },
    {
      "cell_type": "markdown",
      "metadata": {
        "id": "OE4Q8NOT6Kce"
      },
      "source": [
        "### Step 5 - Define the work element"
      ]
    },
    {
      "cell_type": "code",
      "metadata": {
        "id": "SEgLMUK-5Fjq"
      },
      "source": [
        "def dW(t):\n",
        "    dt=t[1]-t[0]\n",
        "    return (F1(r1(t),r2(t),r3(t))*v1(t)+F2(r1(t),r2(t),r3(t))*v2(t)+F3(r1(t),r2(t),r3(t))*v3(t))*dt"
      ],
      "execution_count": 25,
      "outputs": []
    },
    {
      "cell_type": "markdown",
      "metadata": {
        "id": "tUlzh6vT6bBY"
      },
      "source": [
        "### Step 6 - Integrate (i.e. sum) the work integral over t"
      ]
    },
    {
      "cell_type": "code",
      "metadata": {
        "id": "DpFWek3u6Zrh"
      },
      "source": [
        "t=np.linspace(0,1,5001)\n",
        "W=np.sum(dW(t))"
      ],
      "execution_count": 28,
      "outputs": []
    },
    {
      "cell_type": "code",
      "metadata": {
        "id": "Lo0jcvGV6rRs",
        "outputId": "e85c67a6-aa3b-4280-f096-45e29a460e06",
        "colab": {
          "base_uri": "https://localhost:8080/"
        }
      },
      "source": [
        "W"
      ],
      "execution_count": 29,
      "outputs": [
        {
          "output_type": "execute_result",
          "data": {
            "text/plain": [
              "4.302485537618947"
            ]
          },
          "metadata": {
            "tags": []
          },
          "execution_count": 29
        }
      ]
    },
    {
      "cell_type": "code",
      "metadata": {
        "id": "8iLHrsDx6r8b"
      },
      "source": [
        ""
      ],
      "execution_count": null,
      "outputs": []
    }
  ]
}